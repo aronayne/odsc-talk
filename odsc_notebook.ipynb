{
 "cells": [
  {
   "cell_type": "code",
   "execution_count": 34,
   "metadata": {
    "collapsed": true
   },
   "outputs": [],
   "source": [
    "import pandas as pd\n",
    "import numpy as np\n",
    "from collections import defaultdict, Counter\n",
    "import joblib\n",
    "\n",
    "\n",
    "import matplotlib\n",
    "from matplotlib import pyplot as plt\n",
    "%matplotlib inline\n",
    "\n",
    "matplotlib.rcParams['figure.figsize'] = (12.0, 8.0)\n"
   ]
  },
  {
   "cell_type": "markdown",
   "metadata": {},
   "source": [
    "# loading the data"
   ]
  },
  {
   "cell_type": "code",
   "execution_count": 5,
   "metadata": {
    "collapsed": true
   },
   "outputs": [],
   "source": [
    "df = joblib.load(open('/data/reddit/imbalanced_sample_data.pkl', 'rb'))\n",
    "#df = df.sample(len(df))"
   ]
  },
  {
   "cell_type": "code",
   "execution_count": 6,
   "metadata": {
    "collapsed": true
   },
   "outputs": [],
   "source": [
    "good_subreddits = pd.read_csv('good_subreddits.csv')\n",
    "good_subreddits['subreddit'] = [s.replace('www.reddit.com/r/', '') for s in good_subreddits.subreddit]            \n",
    "good_subreddit_set = set(good_subreddits.subreddit)"
   ]
  },
  {
   "cell_type": "code",
   "execution_count": 7,
   "metadata": {
    "collapsed": true
   },
   "outputs": [],
   "source": [
    "subreddit_to_topic = dict()\n",
    "\n",
    "topic_columns = [f'level{i}' for i in range(1,4)]\n",
    "\n",
    "for rd in good_subreddits.to_dict(orient='rows'):\n",
    "    topics = [rd[c] for c in topic_columns]\n",
    "    topics = [s for s in topics if type(s) == str and len(s) > 0]\n",
    "    topics = '; '.join(topics)\n",
    "    subreddit_to_topic[rd['subreddit']] = topics"
   ]
  },
  {
   "cell_type": "code",
   "execution_count": 8,
   "metadata": {
    "collapsed": true
   },
   "outputs": [],
   "source": [
    "df = df[df.subreddit.isin(good_subreddit_set)]\n",
    "\n",
    "df = df.copy()"
   ]
  },
  {
   "cell_type": "code",
   "execution_count": 9,
   "metadata": {
    "collapsed": true
   },
   "outputs": [],
   "source": [
    "df['topic'] = [subreddit_to_topic[s] for s in df.subreddit]"
   ]
  },
  {
   "cell_type": "code",
   "execution_count": 10,
   "metadata": {
    "collapsed": true
   },
   "outputs": [],
   "source": [
    "df['text'] = df[['title', 'selftext']].apply(lambda x: ' ||| '.join(x), axis=1)"
   ]
  },
  {
   "cell_type": "code",
   "execution_count": 12,
   "metadata": {
    "collapsed": true
   },
   "outputs": [],
   "source": [
    "import datetime\n",
    "from datetime import timezone\n",
    "\n",
    "def clip_to_month(utc):\n",
    "    dt = datetime.datetime.fromtimestamp(utc)\n",
    "    date = datetime.datetime(dt.year, dt.month, 1)\n",
    "    return date.replace(tzinfo=datetime.timezone.utc).timestamp()\n",
    "    \n",
    "df['clipped_created_utc'] = df['created_utc'].apply(clip_to_month)"
   ]
  },
  {
   "cell_type": "code",
   "execution_count": 13,
   "metadata": {
    "collapsed": true
   },
   "outputs": [],
   "source": [
    "joblib.dump(df, open('/data/reddit/imbalanced_sample_data_cleaned.pkl', 'wb'))"
   ]
  },
  {
   "cell_type": "markdown",
   "metadata": {},
   "source": [
    "# data investigation\n",
    "\n",
    "**A word of warning : drawing graphs in Jupyter is one thing, but it doesn't beat good-old-fashioned... manually reading through thousands of examples to really get a feel for what your data actually is.  This is especially important when you have many classes as your data is going to cover a broad range of domains, you need to at least try and get familiar with the most common classes. If you don't do this you risk missing key insights**"
   ]
  },
  {
   "cell_type": "code",
   "execution_count": 14,
   "metadata": {},
   "outputs": [
    {
     "data": {
      "text/plain": [
       "Index(['author', 'created', 'created_utc', 'distinguished', 'id', 'score',\n",
       "       'selftext', 'subreddit', 'title', 'topic', 'text',\n",
       "       'clipped_created_utc'],\n",
       "      dtype='object')"
      ]
     },
     "execution_count": 14,
     "metadata": {},
     "output_type": "execute_result"
    }
   ],
   "source": [
    "df.columns"
   ]
  },
  {
   "cell_type": "code",
   "execution_count": 15,
   "metadata": {
    "scrolled": true
   },
   "outputs": [
    {
     "data": {
      "text/html": [
       "<div>\n",
       "<style>\n",
       "    .dataframe thead tr:only-child th {\n",
       "        text-align: right;\n",
       "    }\n",
       "\n",
       "    .dataframe thead th {\n",
       "        text-align: left;\n",
       "    }\n",
       "\n",
       "    .dataframe tbody tr th {\n",
       "        vertical-align: top;\n",
       "    }\n",
       "</style>\n",
       "<table border=\"1\" class=\"dataframe\">\n",
       "  <thead>\n",
       "    <tr style=\"text-align: right;\">\n",
       "      <th></th>\n",
       "      <th>author</th>\n",
       "      <th>created</th>\n",
       "      <th>created_utc</th>\n",
       "      <th>distinguished</th>\n",
       "      <th>id</th>\n",
       "      <th>score</th>\n",
       "      <th>selftext</th>\n",
       "      <th>subreddit</th>\n",
       "      <th>title</th>\n",
       "      <th>topic</th>\n",
       "      <th>text</th>\n",
       "      <th>clipped_created_utc</th>\n",
       "    </tr>\n",
       "  </thead>\n",
       "  <tbody>\n",
       "    <tr>\n",
       "      <th>1820982</th>\n",
       "      <td>spencerdrake5</td>\n",
       "      <td>NaN</td>\n",
       "      <td>1482015818</td>\n",
       "      <td>None</td>\n",
       "      <td>5ix6y8</td>\n",
       "      <td>2</td>\n",
       "      <td>how do you think the liars will react to spenc...</td>\n",
       "      <td>PrettyLittleLiars</td>\n",
       "      <td>spencer drake</td>\n",
       "      <td>tv_show; pretty little liars</td>\n",
       "      <td>spencer drake ||| how do you think the liars w...</td>\n",
       "      <td>1.480550e+09</td>\n",
       "    </tr>\n",
       "    <tr>\n",
       "      <th>5740277</th>\n",
       "      <td>[deleted]</td>\n",
       "      <td>NaN</td>\n",
       "      <td>1515379442</td>\n",
       "      <td>None</td>\n",
       "      <td>7ovh3d</td>\n",
       "      <td>9</td>\n",
       "      <td>I used to be an antifeminist myself and watche...</td>\n",
       "      <td>AskFeminists</td>\n",
       "      <td>What do you think of the antifeminist presence...</td>\n",
       "      <td>politics/viewpoint; feminism</td>\n",
       "      <td>What do you think of the antifeminist presence...</td>\n",
       "      <td>1.514765e+09</td>\n",
       "    </tr>\n",
       "    <tr>\n",
       "      <th>163545</th>\n",
       "      <td>aikonriche</td>\n",
       "      <td>NaN</td>\n",
       "      <td>1466371737</td>\n",
       "      <td>None</td>\n",
       "      <td>4ovaq0</td>\n",
       "      <td>7</td>\n",
       "      <td>1. Did pagans tried their best to kill those w...</td>\n",
       "      <td>exmuslim</td>\n",
       "      <td>Questions about Islamic history?</td>\n",
       "      <td>religion/supernatural; islamism</td>\n",
       "      <td>Questions about Islamic history? ||| 1. Did pa...</td>\n",
       "      <td>1.464739e+09</td>\n",
       "    </tr>\n",
       "    <tr>\n",
       "      <th>1593903</th>\n",
       "      <td>pingomg</td>\n",
       "      <td>NaN</td>\n",
       "      <td>1480002377</td>\n",
       "      <td>None</td>\n",
       "      <td>5eobd2</td>\n",
       "      <td>14</td>\n",
       "      <td>I am using PCGen to make a PC for an upcoming ...</td>\n",
       "      <td>Pathfinder_RPG</td>\n",
       "      <td>[PCGen] How do you make a Shadowcaster</td>\n",
       "      <td>rpg; pathfinder</td>\n",
       "      <td>[PCGen] How do you make a Shadowcaster ||| I a...</td>\n",
       "      <td>1.477958e+09</td>\n",
       "    </tr>\n",
       "    <tr>\n",
       "      <th>5700059</th>\n",
       "      <td>ehhwinop</td>\n",
       "      <td>NaN</td>\n",
       "      <td>1515059793</td>\n",
       "      <td>None</td>\n",
       "      <td>7o20nd</td>\n",
       "      <td>5</td>\n",
       "      <td>The one piece world brings a multitude of char...</td>\n",
       "      <td>OnePiece</td>\n",
       "      <td>People underestimate Non pirates non marines n...</td>\n",
       "      <td>anime/manga; one piece</td>\n",
       "      <td>People underestimate Non pirates non marines n...</td>\n",
       "      <td>1.514765e+09</td>\n",
       "    </tr>\n",
       "    <tr>\n",
       "      <th>3642680</th>\n",
       "      <td>jackmasta01</td>\n",
       "      <td>NaN</td>\n",
       "      <td>1497744759</td>\n",
       "      <td>None</td>\n",
       "      <td>6hwrlo</td>\n",
       "      <td>6</td>\n",
       "      <td>A few times i've read and some post said LPR i...</td>\n",
       "      <td>GERD</td>\n",
       "      <td>Why is LPR (silent reflux) considered non acid...</td>\n",
       "      <td>health; gerd</td>\n",
       "      <td>Why is LPR (silent reflux) considered non acid...</td>\n",
       "      <td>1.496275e+09</td>\n",
       "    </tr>\n",
       "    <tr>\n",
       "      <th>632747</th>\n",
       "      <td>fanofthenightladies</td>\n",
       "      <td>NaN</td>\n",
       "      <td>1470966212</td>\n",
       "      <td>None</td>\n",
       "      <td>4xb6a2</td>\n",
       "      <td>0</td>\n",
       "      <td>I know there are male strippers and clubs that...</td>\n",
       "      <td>Hookers</td>\n",
       "      <td>Can a straight male escort make decent money s...</td>\n",
       "      <td>profession; sex workers</td>\n",
       "      <td>Can a straight male escort make decent money s...</td>\n",
       "      <td>1.470010e+09</td>\n",
       "    </tr>\n",
       "    <tr>\n",
       "      <th>6073904</th>\n",
       "      <td>DisposablePanda</td>\n",
       "      <td>NaN</td>\n",
       "      <td>1517978725</td>\n",
       "      <td>None</td>\n",
       "      <td>7vtnx9</td>\n",
       "      <td>28</td>\n",
       "      <td>Towards the end of the last show they discusse...</td>\n",
       "      <td>PKA</td>\n",
       "      <td>Missed opportunity without Taylor?</td>\n",
       "      <td>podcast/video_blog; painkiller already</td>\n",
       "      <td>Missed opportunity without Taylor? ||| Towards...</td>\n",
       "      <td>1.517443e+09</td>\n",
       "    </tr>\n",
       "    <tr>\n",
       "      <th>314199</th>\n",
       "      <td>isortaliketomcruise</td>\n",
       "      <td>NaN</td>\n",
       "      <td>1467863625</td>\n",
       "      <td>None</td>\n",
       "      <td>4rml7z</td>\n",
       "      <td>3</td>\n",
       "      <td>I realize this is can be an extremely broad to...</td>\n",
       "      <td>Epilepsy</td>\n",
       "      <td>Driving.</td>\n",
       "      <td>health; epilepsy</td>\n",
       "      <td>Driving. ||| I realize this is can be an extre...</td>\n",
       "      <td>1.467331e+09</td>\n",
       "    </tr>\n",
       "    <tr>\n",
       "      <th>1409855</th>\n",
       "      <td>ProfessorPush</td>\n",
       "      <td>NaN</td>\n",
       "      <td>1478278985</td>\n",
       "      <td>None</td>\n",
       "      <td>5b4re5</td>\n",
       "      <td>18</td>\n",
       "      <td>Now is the time to register those alt names yo...</td>\n",
       "      <td>Eve</td>\n",
       "      <td>A Friendly Reminder</td>\n",
       "      <td>video_game; eve online</td>\n",
       "      <td>A Friendly Reminder ||| Now is the time to reg...</td>\n",
       "      <td>1.477958e+09</td>\n",
       "    </tr>\n",
       "  </tbody>\n",
       "</table>\n",
       "</div>"
      ],
      "text/plain": [
       "                      author  created  created_utc distinguished      id  \\\n",
       "1820982        spencerdrake5      NaN   1482015818          None  5ix6y8   \n",
       "5740277            [deleted]      NaN   1515379442          None  7ovh3d   \n",
       "163545            aikonriche      NaN   1466371737          None  4ovaq0   \n",
       "1593903              pingomg      NaN   1480002377          None  5eobd2   \n",
       "5700059             ehhwinop      NaN   1515059793          None  7o20nd   \n",
       "3642680          jackmasta01      NaN   1497744759          None  6hwrlo   \n",
       "632747   fanofthenightladies      NaN   1470966212          None  4xb6a2   \n",
       "6073904      DisposablePanda      NaN   1517978725          None  7vtnx9   \n",
       "314199   isortaliketomcruise      NaN   1467863625          None  4rml7z   \n",
       "1409855        ProfessorPush      NaN   1478278985          None  5b4re5   \n",
       "\n",
       "         score                                           selftext  \\\n",
       "1820982      2  how do you think the liars will react to spenc...   \n",
       "5740277      9  I used to be an antifeminist myself and watche...   \n",
       "163545       7  1. Did pagans tried their best to kill those w...   \n",
       "1593903     14  I am using PCGen to make a PC for an upcoming ...   \n",
       "5700059      5  The one piece world brings a multitude of char...   \n",
       "3642680      6  A few times i've read and some post said LPR i...   \n",
       "632747       0  I know there are male strippers and clubs that...   \n",
       "6073904     28  Towards the end of the last show they discusse...   \n",
       "314199       3  I realize this is can be an extremely broad to...   \n",
       "1409855     18  Now is the time to register those alt names yo...   \n",
       "\n",
       "                 subreddit                                              title  \\\n",
       "1820982  PrettyLittleLiars                                      spencer drake   \n",
       "5740277       AskFeminists  What do you think of the antifeminist presence...   \n",
       "163545            exmuslim                   Questions about Islamic history?   \n",
       "1593903     Pathfinder_RPG             [PCGen] How do you make a Shadowcaster   \n",
       "5700059           OnePiece  People underestimate Non pirates non marines n...   \n",
       "3642680               GERD  Why is LPR (silent reflux) considered non acid...   \n",
       "632747             Hookers  Can a straight male escort make decent money s...   \n",
       "6073904                PKA                 Missed opportunity without Taylor?   \n",
       "314199            Epilepsy                                           Driving.   \n",
       "1409855                Eve                                A Friendly Reminder   \n",
       "\n",
       "                                          topic  \\\n",
       "1820982            tv_show; pretty little liars   \n",
       "5740277            politics/viewpoint; feminism   \n",
       "163545          religion/supernatural; islamism   \n",
       "1593903                         rpg; pathfinder   \n",
       "5700059                  anime/manga; one piece   \n",
       "3642680                            health; gerd   \n",
       "632747                  profession; sex workers   \n",
       "6073904  podcast/video_blog; painkiller already   \n",
       "314199                         health; epilepsy   \n",
       "1409855                  video_game; eve online   \n",
       "\n",
       "                                                      text  \\\n",
       "1820982  spencer drake ||| how do you think the liars w...   \n",
       "5740277  What do you think of the antifeminist presence...   \n",
       "163545   Questions about Islamic history? ||| 1. Did pa...   \n",
       "1593903  [PCGen] How do you make a Shadowcaster ||| I a...   \n",
       "5700059  People underestimate Non pirates non marines n...   \n",
       "3642680  Why is LPR (silent reflux) considered non acid...   \n",
       "632747   Can a straight male escort make decent money s...   \n",
       "6073904  Missed opportunity without Taylor? ||| Towards...   \n",
       "314199   Driving. ||| I realize this is can be an extre...   \n",
       "1409855  A Friendly Reminder ||| Now is the time to reg...   \n",
       "\n",
       "         clipped_created_utc  \n",
       "1820982         1.480550e+09  \n",
       "5740277         1.514765e+09  \n",
       "163545          1.464739e+09  \n",
       "1593903         1.477958e+09  \n",
       "5700059         1.514765e+09  \n",
       "3642680         1.496275e+09  \n",
       "632747          1.470010e+09  \n",
       "6073904         1.517443e+09  \n",
       "314199          1.467331e+09  \n",
       "1409855         1.477958e+09  "
      ]
     },
     "execution_count": 15,
     "metadata": {},
     "output_type": "execute_result"
    }
   ],
   "source": [
    "df.sample(10)"
   ]
  },
  {
   "cell_type": "markdown",
   "metadata": {},
   "source": [
    "### categories"
   ]
  },
  {
   "cell_type": "code",
   "execution_count": 16,
   "metadata": {
    "collapsed": true
   },
   "outputs": [],
   "source": [
    "topic_dict = defaultdict(set)\n",
    "\n",
    "for topic in set(df.topic):\n",
    "    topics_clipped = topic.split('; ')[:2]\n",
    "    cat, subcat = topics_clipped\n",
    "    \n",
    "    topic_dict[cat].add(subcat)"
   ]
  },
  {
   "cell_type": "code",
   "execution_count": 17,
   "metadata": {},
   "outputs": [
    {
     "name": "stdout",
     "output_type": "stream",
     "text": [
      "sports\n",
      "\t volleyball\n",
      "\t running\n",
      "\t tennis\n",
      "\t archery\n",
      "\t indycar\n",
      "\t roller blading\n",
      "\t roller derby\n",
      "\t electric skateboarding\n",
      "\t baseball\n",
      "\t triathlon\n",
      "\t kayaking\n",
      "\t mma\n",
      "\t soccer\n",
      "\t skiing\n",
      "\t hockey\n",
      "\t weightlifting/strength training\n",
      "\t equestrian\n",
      "\t rugby\n",
      "\t surfing\n",
      "\t snowboarding\n",
      "\t football\n",
      "\t ju jitsu\n",
      "\t lacrosse\n",
      "\t boxing\n",
      "\t cycling\n",
      "\t wrestling\n",
      "\t obstacle course\n",
      "\t mountain biking\n",
      "\t basketball\n",
      "\t billiards\n",
      "\t bowling\n",
      "\t swimming\n",
      "\t darts\n",
      "\t climbing\n",
      "\t nascar\n",
      "\t skateboarding\n",
      "\t golf\n",
      "\t formula 1\n",
      "\t rowing\n",
      "\t olympics\n",
      "\t cricket\n",
      "\t fencing\n",
      "\t disc golf\n",
      "video_game\n",
      "\t wizard 101\n",
      "\t stalker\n",
      "\t megaten\n",
      "\t elite\n",
      "\t tree of savior\n",
      "\t crash bandicoot\n",
      "\t foxhole\n",
      "\t slay the spire\n",
      "\t idle heroes\n",
      "\t nioh\n",
      "\t realm of the mad god\n",
      "\t disney magic kingdom\n",
      "\t victoria 2\n",
      "\t rocksmith\n",
      "\t god of war\n",
      "\t wolfenstein\n",
      "\t clicker heroes\n",
      "\t yogscast\n",
      "\t yokai watch\n",
      "\t tibia\n",
      "\t uncharted\n",
      "\t the culling\n",
      "\t team fortress\n",
      "\t diep.io\n",
      "\t splatoon\n",
      "\t endless frontier\n",
      "\t animal crossing\n",
      "\t gigantic\n",
      "\t boom beach\n",
      "\t battletech\n",
      "\t rising storm\n",
      "\t resident evil\n",
      "\t maple story\n",
      "\t battlerite\n",
      "\t kingdom come\n",
      "\t hitman\n",
      "\t puzzle and dragons\n",
      "\t the witcher\n",
      "\t endless space\n",
      "\t battleborn\n",
      "\t gears of war\n",
      "\t assassins creed\n",
      "\t unearthed\n",
      "\t tap titans\n",
      "\t face it\n",
      "\t hoggit fighter sim\n",
      "\t wargame\n",
      "\t hyperdimension neptunia\n",
      "\t war frame\n",
      "\t kerbal space program\n",
      "\t half life\n",
      "\t project eternity\n",
      "\t hit mobile\n",
      "\t futurama\n",
      "\t golf clash\n",
      "\t fortnite\n",
      "\t bioshock\n",
      "\t the crew\n",
      "\t tsum tsum\n",
      "\t clash royale\n",
      "\t borderlands\n",
      "\t granblue fantasy\n",
      "\t conan exiles\n",
      "\t fantasy war tactics\n",
      "\t dragon blaze\n",
      "\t dwarf fortress\n",
      "\t bleach\n",
      "\t simracing\n",
      "\t optic gaming\n",
      "\t undertale\n",
      "\t the binding of isaac\n",
      "\t star citizen\n",
      "\t walking war robots\n",
      "\t crusader kings\n",
      "\t hearthstone\n",
      "\t bloodborne\n",
      "\t steins gate\n",
      "\t contest of champions\n",
      "\t mortal kombat\n",
      "\t planet coaster\n",
      "\t ingress\n",
      "\t ace attorney\n",
      "\t csr racing\n",
      "\t tradelands\n",
      "\t toon town\n",
      "\t nier automata\n",
      "\t pets cop\n",
      "\t brawlsters\n",
      "\t kaisertech\n",
      "\t sonic\n",
      "\t divinity\n",
      "\t minecraft\n",
      "\t dynasty warriors\n",
      "\t skyforge\n",
      "\t rec room\n",
      "\t doom\n",
      "\t out of the park\n",
      "\t kings raid\n",
      "\t runescape\n",
      "\t motogp\n",
      "\t town of salem\n",
      "\t rainbow 6\n",
      "\t dark souls\n",
      "\t subnautica\n",
      "\t plants vs zombies\n",
      "\t zombidle\n",
      "\t the forest\n",
      "\t prey\n",
      "\t let it die\n",
      "\t miscreated\n",
      "\t wild star\n",
      "\t xenoblade chronicles\n",
      "\t paladins\n",
      "\t mafia\n",
      "\t clash of clans\n",
      "\t girl gamers\n",
      "\t player unlocked battlegrounds\n",
      "\t EA NHL\n",
      "\t truck simulator\n",
      "\t rock band\n",
      "\t grand order\n",
      "\t arms\n",
      "\t day z\n",
      "\t world of warships\n",
      "\t oxygen not included\n",
      "\t bless\n",
      "\t hollow knight\n",
      "\t tapped out\n",
      "\t pixel dungeon\n",
      "\t injustice\n",
      "\t albion\n",
      "\t arena of valor\n",
      "\t h1z1\n",
      "\t overwatch\n",
      "\t faeria\n",
      "\t grow castle\n",
      "\t tera\n",
      "\t deep town\n",
      "\t watch dogs\n",
      "\t vindictus\n",
      "\t payday\n",
      "\t ea ufc\n",
      "\t pro evolution soccer\n",
      "\t madden\n",
      "\t don't starve\n",
      "\t project cars\n",
      "\t starve io\n",
      "\t rimworld\n",
      "\t killing floor\n",
      "\t lawbreakers\n",
      "\t destiny\n",
      "\t 7 days to die\n",
      "\t football manager\n",
      "\t moomooio\n",
      "\t table top simulator\n",
      "\t mech warrior\n",
      "\t cataclysm\n",
      "\t neopets\n",
      "\t guild wars\n",
      "\t nba2k\n",
      "\t tagpro\n",
      "\t swag bucks\n",
      "\t dead cells\n",
      "\t starbound\n",
      "\t zelda\n",
      "\t death stranding\n",
      "\t enter the gungeon\n",
      "\t ark\n",
      "\t gran turismo\n",
      "\t mario\n",
      "\t roblox\n",
      "\t yandere simulator\n",
      "\t seven knights\n",
      "\t dying llight\n",
      "\t warcraft\n",
      "\t f13\n",
      "\t dragon age\n",
      "\t vrchat\n",
      "\t brave frontier\n",
      "\t heroes of the storm\n",
      "\t dishonored\n",
      "\t planetside\n",
      "\t valkyrie\n",
      "\t state of decay\n",
      "\t yakuza\n",
      "\t space station 13\n",
      "\t hunt showdown\n",
      "\t mount and blade\n",
      "\t apocalypse rising\n",
      "\t deus ex\n",
      "\t dungeon crawl\n",
      "\t for honor\n",
      "\t world of tanks\n",
      "\t hot dogs, horseshoes & hand grenades\n",
      "\t aion\n",
      "\t fire emblem\n",
      "\t kingdom hearts\n",
      "\t kirby\n",
      "\t xcom\n",
      "\t solus project\n",
      "\t stellaris\n",
      "\t garry's mod\n",
      "\t dirt\n",
      "\t starcraft\n",
      "\t evolve\n",
      "\t south park\n",
      "\t duelyst\n",
      "\t rocket league\n",
      "\t mobile legends\n",
      "\t call of duty\n",
      "\t baldurs gate\n",
      "\t robocraft\n",
      "\t hearts of iron\n",
      "\t wwe\n",
      "\t age of empires\n",
      "\t guilty gear\n",
      "\t five nights at freddys\n",
      "\t arma\n",
      "\t marvel\n",
      "\t digimon\n",
      "\t battlefield\n",
      "\t flightsim\n",
      "\t cities skylines\n",
      "\t mabinogi\n",
      "\t mass effect\n",
      "\t dungeon fighter\n",
      "\t titanfall\n",
      "\t dragonvale\n",
      "\t iracing\n",
      "\t archeage\n",
      "\t batttlecats\n",
      "\t dragons dogma\n",
      "\t crossout\n",
      "\t need for speed\n",
      "\t animation throwdown\n",
      "\t summoners war\n",
      "\t dota\n",
      "\t heroes and generals\n",
      "\t crash fever\n",
      "\t astroneer\n",
      "\t the division\n",
      "\t super smash bros\n",
      "\t farminf simulator\n",
      "\t brawlhalla\n",
      "\t insurgence\n",
      "\t everquest\n",
      "\t ribals of aether\n",
      "\t memory defrag\n",
      "\t guitar hero\n",
      "\t pokemon\n",
      "\t dragon quest\n",
      "\t cookie clicker\n",
      "\t factorio\n",
      "\t life is strange\n",
      "\t blade and soul\n",
      "\t darkest dungeon\n",
      "\t tekken\n",
      "\t quake\n",
      "\t war thunder\n",
      "\t counterstrike\n",
      "\t disgaea\n",
      "\t vermintide\n",
      "\t secret world legends\n",
      "\t vainglory\n",
      "\t dungeon defenders\n",
      "\t monster hunter\n",
      "\t eve online\n",
      "\t batallion\n",
      "\t never winter\n",
      "\t diablo\n",
      "\t farcry\n",
      "\t castle clash\n",
      "\t dissidia\n",
      "\t fallout\n",
      "\t red dead redemption\n",
      "\t rust\n",
      "\t terraria\n",
      "\t dauntless\n",
      "\t black desert\n",
      "\t danganronpa\n",
      "\t project car\n",
      "\t horizon zero dawn\n",
      "\t dirty bomb\n",
      "\t absolver\n",
      "\t unturned\n",
      "\t company of heroes\n",
      "\t paragon\n",
      "\t osu\n",
      "\t path of exile\n",
      "\t world of warcraft\n",
      "\t tyranny\n",
      "\t the last of us\n",
      "\t lineage\n",
      "\t grand theft auto\n",
      "\t f1\n",
      "\t dead by daylight\n",
      "\t the elder scrolls\n",
      "\t last day on earth\n",
      "\t touhou\n",
      "\t dofus\n",
      "\t fallen london\n",
      "\t metal gear solid\n",
      "\t fifa\n",
      "\t space engineers\n",
      "\t monster super league\n",
      "\t game collections\n",
      "\t no mans sky\n",
      "\t the sims\n",
      "\t ghost recon\n",
      "\t the long dark\n",
      "\t prison architect\n",
      "\t smite\n",
      "\t civilization\n",
      "\t cuphead\n",
      "\t total war\n",
      "\t zero escape\n",
      "\t street fighter\n",
      "\t love nikki\n",
      "\t play just survive\n",
      "\t arcane adventures\n",
      "\t tales of series\n",
      "\t stardew valley\n",
      "\t assetto corsa\n",
      "\t mouse hunt\n",
      "\t phantom forces\n",
      "\t europa universalis\n",
      "\t grim dawn\n",
      "\t league of legends\n",
      "\t halo\n",
      "\t forza\n",
      "company/website\n",
      "\t blogging\n",
      "\t fashion retail\n",
      "\t telecommunication service\n",
      "\t grocery store\n",
      "\t office supply store\n",
      "\t tv/movie provider\n",
      "\t telecommunication provider\n",
      "\t fast food\n",
      "\t department store\n",
      "\t furniture\n",
      "\t telecommunications service\n",
      "\t space travel\n",
      "\t videogame store\n",
      "\t genomics\n",
      "\t online retail\n",
      "\t audio books\n",
      "\t crowdfunding\n",
      "\t home video distribution\n",
      "\t online payment\n",
      "\t website building\n",
      "\t hospitality service\n",
      "\t courier service\n",
      "\t knives\n",
      "\t ride hailing\n",
      "\t online dating\n",
      "\t telecommunication equipment\n",
      "\t electronics store\n",
      "\t social media\n",
      "\t coffee\n",
      "\t beauty\n",
      "\t video streaming\n",
      "\t fitness\n",
      "\t general department store\n",
      "\t hardware store\n",
      "health\n",
      "\t arthritis\n",
      "\t adhd\n",
      "\t cancer\n",
      "\t wls\n",
      "\t penis\n",
      "\t hyperhidrosis\n",
      "\t avpd\n",
      "\t ocd\n",
      "\t smoking cessation\n",
      "\t bpd\n",
      "\t ptsd\n",
      "\t tinnitus\n",
      "\t multiple sclerosis\n",
      "\t optometry/glasses\n",
      "\t ehlers danlos syndrome\n",
      "\t skin problems\n",
      "\t migraine\n",
      "\t foreskin restoration\n",
      "\t alcoholism\n",
      "\t plastic surgery\n",
      "\t celiac\n",
      "\t ibs\n",
      "\t dpdr\n",
      "\t hypothyroidism\n",
      "\t pcos\n",
      "\t lasik\n",
      "\t epilepsy\n",
      "\t herpes\n",
      "\t sleep paralysis\n",
      "\t narcissism\n",
      "\t did\n",
      "\t bipolar disorder\n",
      "\t endo\n",
      "\t fibromylgia\n",
      "\t physical therapy\n",
      "\t gerd\n",
      "\t diet\n",
      "\t lyme disease\n",
      "\t sociopathy\n",
      "\t braces\n",
      "\t chronic fatigue syndrome\n",
      "\t posture\n",
      "\t vaginismus\n",
      "\t speech therapy\n",
      "\t pain\n",
      "\t allergies\n",
      "\t insomnia\n",
      "\t breasts\n",
      "\t schizophrenia\n",
      "\t schizoid\n",
      "\t sleep apnea\n",
      "\t ACL problem\n",
      "\t maladaptive daydreaming\n",
      "\t misophonia\n",
      "\t aspergers/autism\n",
      "\t flexibility\n",
      "\t anxiety\n",
      "\t mindfulness\n",
      "\t emetophobia\n",
      "\t diabetes\n",
      "\t psoriasis\n",
      "\t narcolepsy\n",
      "electronics\n",
      "\t computer keyboard\n",
      "\t radio\n",
      "\t computer\n",
      "\t phone\n",
      "\t videogame console\n",
      "\t hardware wallet\n",
      "\t digital media player\n",
      "\t videogame controller\n",
      "\t flashlight\n",
      "\t camera\n",
      "\t iot device\n",
      "\t headphones/headsets\n",
      "\t arcade games\n",
      "\t gps\n",
      "\t computer mouse\n",
      "\t e-reader\n",
      "\t gaming stick\n",
      "\t home security\n",
      "\t microcontroller\n",
      "\t tv\n",
      "\t seedbox\n",
      "\t programmable controller\n",
      "\t media streaming\n",
      "\t speakers\n",
      "\t server\n",
      "\t guitar pedals\n",
      "\t smartwatch\n",
      "\t phone/tablet\n",
      "\t fan\n",
      "\t mobile/tablet\n",
      "\t single-board computer\n",
      "\t television\n",
      "\t video-recording\n",
      "\t synthesizers\n",
      "\t home theatre\n",
      "\t guitar amps\n",
      "\t laptop/notebook\n",
      "\t cassette players\n",
      "\t figurines\n",
      "\t graphics card\n",
      "\t solar panel\n",
      "\t vr headset\n",
      "\t dvds\n",
      "\t lighting\n",
      "\t graphics tablet\n",
      "\t computer storage\n",
      "\t e-cigarette\n",
      "\t multicopter\n",
      "\t router\n",
      "\t activity monitor\n",
      "hobby\n",
      "\t yoga\n",
      "\t scuba diving\n",
      "\t anime figures\n",
      "\t airsoft\n",
      "\t dreaming\n",
      "\t hiking\n",
      "\t sailing\n",
      "\t model trains\n",
      "\t diy\n",
      "\t aquarium\n",
      "\t rubiks cube\n",
      "\t yoyo\n",
      "\t card manipulation\n",
      "\t pop vinyl\n",
      "\t piercing\n",
      "\t plumbing\n",
      "\t luthiers\n",
      "\t driving\n",
      "\t debating\n",
      "\t magic tricks\n",
      "\t gardening\n",
      "\t game speedrunning\n",
      "\t lock picking\n",
      "\t paintball\n",
      "\t fishing\n",
      "\t hunting\n",
      "\t lego\n",
      "\t asmr\n",
      "\t cosplay\n",
      "\t rc cars\n",
      "\t flying\n",
      "\t camping\n",
      "\t meditation\n",
      "\t chess\n",
      "anime/manga\n",
      "\t tower of god\n",
      "\t kiss\n",
      "\t dragonball z\n",
      "\t rwby\n",
      "\t attack on titan\n",
      "\t berserk\n",
      "\t the last airbender\n",
      "\t overlord\n",
      "\t jojo adventures\n",
      "\t boku no hero academia\n",
      "\t doki doki literature club\n",
      "\t one piece\n",
      "\t one punch man\n",
      "\t hunter x hunter\n",
      "\t monogatari\n",
      "\t death note\n",
      "\t naruto\n",
      "\t re:zero\n",
      "\t captain tsubasa\n",
      "\t darling in the franxx\n",
      "\t gundam\n",
      "\t tokyo ghoul\n",
      "\t fate/stay\n",
      "\t sword art online\n",
      "\t neon genesis evangelion\n",
      "\t yu-gi-oh\n",
      "software\n",
      "\t video editing\n",
      "\t nas\n",
      "\t android emulator\n",
      "\t data visualization\n",
      "\t unix/unix-like\n",
      "\t videogame distribution\n",
      "\t document management\n",
      "\t task automator\n",
      "\t cloud computing\n",
      "\t privacy tool\n",
      "\t apple os\n",
      "\t media player\n",
      "\t 3d graphics editor\n",
      "\t firewall\n",
      "\t torrent client\n",
      "\t computer-aided design\n",
      "\t music streaming / store\n",
      "\t automobile software\n",
      "\t 2d graphics editor\n",
      "\t content filtering\n",
      "\t email client\n",
      "\t internet video recorder\n",
      "\t computer security\n",
      "\t budgeting\n",
      "\t virtualization\n",
      "\t microsoft os\n",
      "\t videogame emulator\n",
      "\t web browser\n",
      "\t spreadsheet\n",
      "\t text editor\n",
      "\t workflow management\n",
      "\t infrastructure\n",
      "\t virtual reality\n",
      "\t keyboard\n",
      "\t videogame engine\n",
      "\t task automation\n",
      "\t reddit browser\n",
      "\t language learning\n",
      "\t database management\n",
      "\t torrents\n",
      "\t note taking\n",
      "\t telecommunications\n",
      "\t tabletop emulator\n",
      "\t flashcard program\n",
      "\t android os\n",
      "\t photo editing\n",
      "\t ide\n",
      "\t home automation\n",
      "\t desktop customisation\n",
      "\t nas os\n",
      "animals\n",
      "\t insects\n",
      "\t death\n",
      "\t lizard\n",
      "\t spiders\n",
      "\t rabbits\n",
      "\t cats\n",
      "\t bees\n",
      "\t leopard geckos\n",
      "\t dogs\n",
      "\t snakes\n",
      "\t ferrets\n",
      "\t shrimps\n",
      "\t chickens\n",
      "\t beta fish\n",
      "\t guinea pigs\n",
      "\t parrots\n",
      "\t bedbugs\n",
      "\t rats\n",
      "other\n",
      "\t codes\n",
      "\t action_figures\n",
      "\t grammar\n",
      "\t false memory\n",
      "\t stealing\n",
      "\t piracy\n",
      "\t coins\n",
      "\t fan theories\n",
      "\t roller coasters\n",
      "\t jet programme\n",
      "\t bullet journal\n",
      "\t scams\n",
      "\t privacy\n",
      "\t planet dolan\n",
      "\t aliens\n",
      "\t light saber\n",
      "\t hamilton, musical\n",
      "\t fake ids\n",
      "\t philosophy\n",
      "\t futurology\n",
      "\t scp\n",
      "\t vexillology\n",
      "\t genealogy\n",
      "\t barstool sports\n",
      "\t literary studies\n",
      "\t history\n",
      "\t who would win\n",
      "\t fonts\n",
      "\t fidget spinners\n",
      "\t conlangs\n",
      "\t secret santa\n",
      "\t east area rapist\n",
      "\t mysteries\n",
      "\t surveys\n",
      "\t science fiction\n",
      "arts_crafts\n",
      "\t cinematography\n",
      "\t theatre technician\n",
      "\t character design\n",
      "\t graphic design\n",
      "\t musicals\n",
      "\t vfx\n",
      "\t rpg development\n",
      "\t metalwork\n",
      "\t laser cutting\n",
      "\t computer aided design\n",
      "\t model making\n",
      "\t screen printing\n",
      "\t logo\n",
      "\t mecha models\n",
      "\t leathercraft\n",
      "\t tattoos\n",
      "\t wood working\n",
      "\t mini painting\n",
      "\t board games\n",
      "\t image manipulation\n",
      "\t editing\n",
      "\t sewing/knitting\n",
      "\t screen writing\n",
      "\t turning\n",
      "\t theatre\n",
      "\t drawing\n",
      "\t animation\n",
      "\t 3d printing\n",
      "\t photography\n",
      "drugs\n",
      "\t cigarettes\n",
      "\t cocaine\n",
      "\t snus\n",
      "\t kratom\n",
      "\t nootropics\n",
      "\t dmt\n",
      "\t benzodiazepine\n",
      "\t lsd\n",
      "\t magic mushrooms\n",
      "\t adderall\n",
      "\t tobacco\n",
      "\t xanax\n",
      "\t dxm\n",
      "\t female hormones\n",
      "\t benzodiazepines\n",
      "\t opiates\n",
      "\t antidepressants\n",
      "\t phelibut\n",
      "\t ayahuasca\n",
      "\t testosterone\n",
      "\t cannabis\n",
      "\t mdma\n",
      "\t afinil\n",
      "\t kava\n",
      "\t darknet market\n",
      "\t steroids\n",
      "appearance\n",
      "\t bags\n",
      "\t skincare\n",
      "\t women's fashion\n",
      "\t outlier\n",
      "\t haircare\n",
      "\t perfume\n",
      "\t bra\n",
      "\t jeans\n",
      "\t sneakers\n",
      "\t jewelry\n",
      "\t football boots\n",
      "\t mens fashion\n",
      "\t shoes\n",
      "\t nailcare\n",
      "\t beards\n",
      "\t makeup\n",
      "writing/stories\n",
      "\t roommate\n",
      "\t critical feedback\n",
      "\t rant\n",
      "\t childhood/family\n",
      "\t prompts\n",
      "\t camp half blood\n",
      "\t erotic\n",
      "\t obesity\n",
      "\t jokes\n",
      "\t sci-fi\n",
      "\t naruto fanfic\n",
      "\t dreams\n",
      "\t revenge\n",
      "\t tech support\n",
      "\t transformation\n",
      "\t retail\n",
      "\t call centres\n",
      "\t futanari\n",
      "\t confession\n",
      "\t horror/creepy\n",
      "\t geopolitics\n",
      "\t quotes\n",
      "\t harry potter\n",
      "\t linguistics\n",
      "\t letters\n",
      "\t exes\n",
      "\t emojis\n",
      "\t pizza delivery\n",
      "\t comic books\n",
      "\t riddles\n",
      "\t british problems\n",
      "\t nanowrimo\n",
      "\t poetry\n",
      "\t dnd\n",
      "\t fantasy\n",
      "\t would you rather\n",
      "\t worm\n",
      "profession\n",
      "\t side job\n",
      "\t vetenarian\n",
      "\t firefighters\n",
      "\t msp\n",
      "\t acting\n",
      "\t devops\n",
      "\t resumes\n",
      "\t interview advice\n",
      "\t librarian\n",
      "\t interior design\n",
      "\t amazon\n",
      "\t healthcare\n",
      "\t mechanics\n",
      "\t salespeople\n",
      "\t electronics\n",
      "\t dropshipping\n",
      "\t social workers\n",
      "\t machinist\n",
      "\t web design\n",
      "\t consulting\n",
      "\t academic\n",
      "\t law enforcement\n",
      "\t human resources\n",
      "\t therapist\n",
      "\t dentist\n",
      "\t accounting\n",
      "\t journalism\n",
      "\t advertising / marketing\n",
      "\t blacksmiths\n",
      "\t project management\n",
      "\t armed forces\n",
      "\t coast guard\n",
      "\t teaching\n",
      "\t mechanical turk\n",
      "\t seo\n",
      "\t security guards\n",
      "\t landlord\n",
      "\t remote working\n",
      "\t architecture\n",
      "\t trucking\n",
      "\t landscaping\n",
      "\t voice acting\n",
      "\t nyc\n",
      "\t civil service\n",
      "\t career advice\n",
      "\t actuary\n",
      "\t massage\n",
      "\t data science\n",
      "\t nanny\n",
      "\t writing\n",
      "\t standup\n",
      "\t construction\n",
      "\t bartenders\n",
      "\t game development\n",
      "\t sex workers\n",
      "\t front desk\n",
      "\t foreign service\n",
      "\t structural engineering\n",
      "\t peace corps\n",
      "music\n",
      "\t audio engineering\n",
      "\t porter robinson\n",
      "\t grateful dead\n",
      "\t brand new\n",
      "\t red hot chilli peppers\n",
      "\t the weeknd\n",
      "\t ghost\n",
      "\t prog\n",
      "\t music production\n",
      "\t babymetal\n",
      "\t emo\n",
      "\t phish\n",
      "\t vinyl\n",
      "\t radiohead\n",
      "\t bassnectar\n",
      "\t king gizzard and the lizard wizard\n",
      "\t queens of the stone age\n",
      "\t tool\n",
      "\t electronic\n",
      "\t eminem\n",
      "\t nine inch nails\n",
      "\t the beatles\n",
      "\t john mayer\n",
      "\t taylor swift\n",
      "\t hip hop\n",
      "\t brockhampton\n",
      "\t ukulele\n",
      "\t gilva sunner\n",
      "\t classical\n",
      "\t violin\n",
      "\t kendrick lamar\n",
      "\t the dear hunter\n",
      "\t weezer\n",
      "\t jazz\n",
      "\t k-pop\n",
      "\t trumpet\n",
      "\t twenty one pilots\n",
      "\t saxophone\n",
      "\t linkin park\n",
      "\t music theory\n",
      "\t drumcorps\n",
      "\t muse\n",
      "\t pop\n",
      "\t bass guitar\n",
      "\t avenged sevenflod\n",
      "\t gorillaz\n",
      "\t blink 182\n",
      "\t drums\n",
      "\t death grips\n",
      "\t green day\n",
      "\t eurovision\n",
      "\t metalcore\n",
      "\t arctic monkeys\n",
      "\t lana del rey\n",
      "\t guitar\n",
      "\t punk\n",
      "\t kanye\n",
      "\t piano\n",
      "\t pink floyd\n",
      "\t frank ocean\n",
      "\t trap\n",
      "\t monstercat\n",
      "\t metallica\n",
      "\t singing\n",
      "\t djs\n",
      "autos\n",
      "\t mini\n",
      "\t toyota\n",
      "\t tesla\n",
      "\t saab\n",
      "\t mazda\n",
      "\t auto detailing\n",
      "\t trucks\n",
      "\t hyundai\n",
      "\t VW\n",
      "\t ford\n",
      "\t lexus\n",
      "\t porsche\n",
      "\t bmw\n",
      "\t triumph\n",
      "\t cherokee\n",
      "\t harley davidson\n",
      "\t mercedes\n",
      "\t audi\n",
      "\t jeep\n",
      "\t volvo\n",
      "\t honda\n",
      "\t subaru\n",
      "\t chevrolet\n",
      "\t nissan\n",
      "\t turbos\n",
      "meta\n",
      "\t nsfw\n",
      "\t memes\n",
      "\t reddit place\n",
      "\t criticism\n",
      "\t website changes\n",
      "\t subreddit search\n",
      "\t moderation\n",
      "\t parody\n",
      "\t developers\n",
      "\t drama\n",
      "\t drugs\n",
      "rpg\n",
      "\t pathfinder\n",
      "\t savage worlds\n",
      "\t star wars\n",
      "\t call of cthulhu\n",
      "\t shadowrun\n",
      "\t white wolf\n",
      "\t dungeons and dragons\n",
      "\t starfinder\n",
      "sex/relationships\n",
      "\t incest\n",
      "\t polyamory\n",
      "\t lack of sex\n",
      "\t asexuality\n",
      "\t sex toys\n",
      "\t bisexual\n",
      "\t pornography\n",
      "\t littlespace\n",
      "\t appearance advice\n",
      "\t gay\n",
      "\t breakups\n",
      "\t sissy\n",
      "\t furry\n",
      "\t chastity\n",
      "\t family\n",
      "\t lesbian\n",
      "\t rape fantasy\n",
      "\t seduction\n",
      "\t marriage/weddings\n",
      "\t sugar lifestyle\n",
      "\t infidelity\n",
      "\t bdsm\n",
      "\t long distance\n",
      "\t cuckold\n",
      "\t widowers\n",
      "\t social skills\n",
      "\t adult baby\n",
      "\t dating\n",
      "\t fleshlight\n",
      "food/drink\n",
      "\t peppers\n",
      "\t kombucha\n",
      "\t chefs\n",
      "\t baking\n",
      "\t tea\n",
      "\t wine\n",
      "\t beer\n",
      "\t whiskey\n",
      "\t slow cooking\n",
      "\t instantpot\n",
      "\t sous-vide\n",
      "\t mead\n",
      "\t barbeque\n",
      "\t vegetarian/vegan\n",
      "\t cocktails\n",
      "\t bread\n",
      "politics/viewpoint\n",
      "\t incels\n",
      "\t alt-right\n",
      "\t anarchism\n",
      "\t communism\n",
      "\t conspiracy\n",
      "\t uk politics\n",
      "\t socialism\n",
      "\t marketing\n",
      "\t bernie sanders\n",
      "\t neoliberal\n",
      "\t syrian war\n",
      "\t fascism\n",
      "\t environmentalism\n",
      "\t feminism\n",
      "\t donald trump\n",
      "\t nihilism\n",
      "\t jill stein\n",
      "\t libertarianism\n",
      "\t flat earth\n",
      "\t gary johnson\n",
      "\t stoicism\n",
      "\t mens rights\n",
      "\t conservative\n",
      "\t antinatalism\n",
      "\t steven avery\n",
      "\t net neutrality\n",
      "finance/money\n",
      "\t investment\n",
      "\t real estate\n",
      "\t mortgages\n",
      "\t economics\n",
      "\t tax\n",
      "\t insurance\n",
      "\t student loans\n",
      "\t charity\n",
      "\t churning\n",
      "\t credit\n",
      "\t personal finance\n",
      "stem\n",
      "\t machine learning / ai\n",
      "\t gis\n",
      "\t physics\n",
      "\t psychology\n",
      "\t robotics\n",
      "\t chemistry\n",
      "\t social science\n",
      "\t big data\n",
      "\t biology\n",
      "\t antropology\n",
      "\t computer science\n",
      "\t bioinformatics\n",
      "\t datasets\n",
      "\t astronomy\n",
      "\t statistics\n",
      "\t geology\n",
      "\t mathematics\n",
      "tv_show\n",
      "\t sherlock\n",
      "\t the leftovers\n",
      "\t mr robot\n",
      "\t star trek\n",
      "\t silicon valley\n",
      "\t real housewives\n",
      "\t defenders\n",
      "\t breaking bad\n",
      "\t orange is the new black\n",
      "\t survivor\n",
      "\t the sopranos\n",
      "\t buffy the vampire slayer\n",
      "\t bojack horseman\n",
      "\t the walking dead\n",
      "\t its always sunny in philadelphia\n",
      "\t house of cards\n",
      "\t fairy tail\n",
      "\t love live\n",
      "\t power rangers\n",
      "\t american horror story\n",
      "\t 13 reasons why\n",
      "\t shameless\n",
      "\t stranger things\n",
      "\t supernatural\n",
      "\t gravity falls\n",
      "\t arrow\n",
      "\t the wire\n",
      "\t vikings\n",
      "\t gilmore girls\n",
      "\t shield tv show\n",
      "\t steven universe\n",
      "\t teen mom\n",
      "\t lost\n",
      "\t ru paul\n",
      "\t rick and morty\n",
      "\t my little pony\n",
      "\t pretty little liars\n",
      "\t big brother\n",
      "\t mtv challenge\n",
      "\t kdrama\n",
      "\t fargo\n",
      "\t the oa\n",
      "\t friends\n",
      "\t riverdale\n",
      "\t super girl\n",
      "\t the simpsons\n",
      "\t how I met your mother\n",
      "\t greys anatomy\n",
      "\t xmen\n",
      "\t start vs the forces of evil\n",
      "\t dr who\n",
      "\t legion\n",
      "\t samurai jack\n",
      "\t transformers\n",
      "\t archer\n",
      "\t 90 day fiance\n",
      "\t madmen\n",
      "\t twin peaks\n",
      "\t gotham\n",
      "\t the office\n",
      "\t the bachelor\n",
      "\t the 100\n",
      "\t black mirror\n",
      "\t better call saul\n",
      "\t the expanse\n",
      "\t flash\n",
      "\t dan le batard\n",
      "\t lucifer\n",
      "\t west world\n",
      "\t the handmaid's tale\n",
      "\t mtv scream\n",
      "\t adventure time\n",
      "\t stargate\n",
      "hardware/tools\n",
      "\t watercooling\n",
      "\t pens\n",
      "\t scooters\n",
      "\t notebooks\n",
      "\t guns\n",
      "\t kettleball\n",
      "\t hookah\n",
      "\t cnc\n",
      "\t wicked edge\n",
      "\t doorbells\n",
      "\t nerf\n",
      "\t gym equipment\n",
      "\t mechanical keyboard\n",
      "\t mattress\n",
      "\t hvac\n",
      "\t telescopes\n",
      "crypto\n",
      "\t eos\n",
      "\t dash\n",
      "\t bitcoin\n",
      "\t tronix\n",
      "\t market\n",
      "\t nano\n",
      "\t gridcoin\n",
      "\t crypto kitties\n",
      "\t crypto market\n",
      "\t ethereum\n",
      "\t litecoin\n",
      "\t bat\n",
      "\t raiblocks\n",
      "\t garlic coin\n",
      "\t siacoin\n",
      "\t kucoin\n",
      "\t crypto-market\n",
      "\t etherium\n",
      "\t vertcoin\n",
      "\t electroneum\n",
      "\t ripple\n",
      "\t dogecoin\n",
      "\t lisk\n",
      "\t neo\n",
      "\t burst\n",
      "\t tezos\n",
      "\t verge\n",
      "\t stellar\n",
      "\t iota\n",
      "\t reddcoin\n",
      "\t monero\n",
      "\t poloniex\n",
      "books\n",
      "\t dresden files\n",
      "\t game of thrones\n",
      "\t ready player one\n",
      "\t the kingkiller chronicle\n",
      "\t parahumans\n",
      "\t suggestion\n",
      "\t wheel of time\n",
      "\t malazan\n",
      "\t cosmere\n",
      "\t the dark tower\n",
      "\t the mind illuminated\n",
      "religion/supernatural\n",
      "\t astral projection\n",
      "\t islamism\n",
      "\t tarot cards\n",
      "\t dimension jumping\n",
      "\t ESP\n",
      "\t christianity\n",
      "\t atheism\n",
      "\t astrology\n",
      "\t witchcraft\n",
      "\t paranormal\n",
      "\t judaism\n",
      "\t buddhism\n",
      "\t hinduism\n",
      "podcast/video_blog\n",
      "\t hello internet\n",
      "\t painkiller already\n",
      "\t logic 301\n",
      "\t northernlion\n",
      "\t opie and anthony\n",
      "\t lets play\n",
      "\t chapo trap house\n",
      "\t kinda funny\n",
      "\t matt colville\n",
      "\t funhaus\n",
      "\t rooster teeth\n",
      "\t ultra hardcore\n",
      "\t the adventure zone\n",
      "\t podcasting\n"
     ]
    },
    {
     "name": "stdout",
     "output_type": "stream",
     "text": [
      "\t million dollar extreme\n",
      "\t z reviews\n",
      "\t h3h3\n",
      "\t sargon of akkad\n",
      "\t howard stern\n",
      "\t drunken peasants\n",
      "\t ice poseidon\n",
      "\t joe rogan\n",
      "\t the dick show\n",
      "\t game grumps\n",
      "\t red letter media\n",
      "\t hutts gaming\n",
      "advice/question\n",
      "\t discipline\n",
      "\t words\n",
      "\t immigration\n",
      "\t book\n",
      "\t valuation\n",
      "\t stopping gaming\n",
      "\t name advice\n",
      "\t legal advice\n",
      "\t song\n",
      "\t declutter\n",
      "\t internet cessation\n",
      "\t translation\n",
      "\t gift ideas\n",
      "programming\n",
      "\t swift\n",
      "\t android\n",
      "\t php\n",
      "\t vim\n",
      "\t django\n",
      "\t java\n",
      "\t matlab\n",
      "\t sql\n",
      "\t c\n",
      "\t javascript\n",
      "\t excel\n",
      "\t go\n",
      "\t css/html\n",
      "\t ios\n",
      "\t r\n",
      "\t haskell\n",
      "\t rust language\n",
      "\t ruby\n",
      "\t docker\n",
      "\t python\n",
      "\t hosting\n",
      "\t git\n",
      "\t bash\n",
      "\t hacking\n",
      "\t dot net\n",
      "parenting\n",
      "\t abortion\n",
      "\t diapers\n",
      "\t infertility\n",
      "\t sleep training\n",
      "\t step parenting\n",
      "\t pregnancy\n",
      "\t miscarriage\n",
      "\t conception\n",
      "\t breast feeding\n",
      "\t adoption\n",
      "\t naming\n",
      "\t birth control\n",
      "\t twins/multiples\n",
      "card_game\n",
      "\t girls x battle\n",
      "\t netrunner\n",
      "\t eternal card game\n",
      "\t card fight\n",
      "\t legend of the five rings\n",
      "\t poker\n",
      "\t dc universe\n",
      "\t dragon ball z\n",
      "\t shadowverse\n",
      "\t pauper\n",
      "\t dragon ball\n",
      "\t force of will\n",
      "\t final fantasy\n",
      "\t magic the gathering\n",
      "board_game\n",
      "\t gloom haven\n",
      "\t age of sigmar\n",
      "\t baduk\n",
      "\t kingdom death\n",
      "\t character development\n",
      "\t warhammer\n",
      "\t blood bowl\n",
      "\t warmachine\n",
      "\t dungeon world\n",
      "movies\n",
      "\t cloverfield\n",
      "\t bladerunner\n",
      "\t disney\n",
      "\t alien\n",
      "\t godzilla\n",
      "\t zootopia\n",
      "\t lord of the rings\n",
      "\t horror\n",
      "\t box office figures\n",
      "education\n",
      "\t learning russian\n",
      "\t graduate\n",
      "\t learning chinese\n",
      "\t language\n",
      "\t learning korean\n",
      "\t learning latin\n",
      "\t university\n",
      "\t learning english\n",
      "\t finance\n",
      "\t business\n",
      "\t secondary\n",
      "\t medicine\n",
      "\t learning spanish\n",
      "\t learning german\n",
      "\t IT\n",
      "\t law\n",
      "\t management\n",
      "\t learning japanese\n",
      "\t advanced placement\n",
      "travel\n",
      "\t cruise\n",
      "\t airmiles\n",
      "\t partners\n",
      "\t flights\n",
      "\t road trips\n",
      "\t travelling\n",
      "social_group\n",
      "\t homeless\n",
      "\t transgender\n",
      "\t abuse victims\n",
      "\t veterans\n",
      "\t bryers miggs group\n",
      "\t loneliness\n",
      "\t homestead\n",
      "\t the red pill\n",
      "\t freemasons\n",
      "\t asian\n",
      "\t crossdressing\n",
      "\t genderqueer\n",
      "\t drunk people\n",
      "\t tall\n",
      "\t survivalists\n",
      "\t van dwellers\n",
      "\t hapas\n",
      "\t muscular\n",
      "\t short\n",
      "\t cord cutters\n",
      "comics\n",
      "\t homestuck\n"
     ]
    }
   ],
   "source": [
    "import random\n",
    "\n",
    "for k, subcat in list(topic_dict.items()):\n",
    "    print(k)\n",
    "    for s in subcat:\n",
    "        print('\\t', s)"
   ]
  },
  {
   "cell_type": "code",
   "execution_count": null,
   "metadata": {
    "collapsed": true
   },
   "outputs": [],
   "source": [
    "## draw some graphs"
   ]
  },
  {
   "cell_type": "code",
   "execution_count": 18,
   "metadata": {},
   "outputs": [
    {
     "data": {
      "image/png": "[encoded data removed]",
      "text/plain": [
       "<Figure size 864x576 with 1 Axes>"
      ]
     },
     "metadata": {},
     "output_type": "display_data"
    }
   ],
   "source": [
    "category_to_num = {k : len(v) for k,v in topic_dict.items()}\n",
    "ctr = Counter(category_to_num)\n",
    "pairs = list(ctr.most_common(20))\n",
    "pairs = list(reversed(pairs))\n",
    "categories, nums = zip(*pairs)\n",
    "\n",
    "plt.barh(categories, nums)\n",
    "plt.show()"
   ]
  },
  {
   "cell_type": "code",
   "execution_count": 19,
   "metadata": {
    "collapsed": true
   },
   "outputs": [],
   "source": [
    "subreddit_counter = Counter(df.topic)"
   ]
  },
  {
   "cell_type": "code",
   "execution_count": 20,
   "metadata": {},
   "outputs": [
    {
     "data": {
      "text/plain": [
       "[('video_game; league of legends', 141366),\n",
       " ('video_game; hearthstone', 88964),\n",
       " ('video_game; dota', 85739),\n",
       " ('video_game; fortnite', 60596),\n",
       " ('video_game; heroes of the storm', 60387),\n",
       " ('video_game; dark souls', 57152),\n",
       " ('video_game; fifa', 57030),\n",
       " ('video_game; runescape', 55664),\n",
       " ('video_game; rocket league', 52358),\n",
       " ('video_game; clash royale', 51206),\n",
       " ('health; anxiety', 50348),\n",
       " ('video_game; war frame', 50201),\n",
       " ('other; who would win', 44595),\n",
       " ('video_game; smite', 44438),\n",
       " ('stem; computer science', 42929),\n",
       " ('hobby; diy', 41927),\n",
       " ('writing/stories; jokes', 39243),\n",
       " ('animals; dogs', 38029),\n",
       " ('parenting; pregnancy', 37738),\n",
       " ('sex/relationships; gay', 37335)]"
      ]
     },
     "execution_count": 20,
     "metadata": {},
     "output_type": "execute_result"
    }
   ],
   "source": [
    "subreddit_counter.most_common(20)"
   ]
  },
  {
   "cell_type": "code",
   "execution_count": 21,
   "metadata": {},
   "outputs": [
    {
     "data": {
      "text/plain": [
       "array([141366,  88964,  85739, ...,   1013,   1012,   1007])"
      ]
     },
     "execution_count": 21,
     "metadata": {},
     "output_type": "execute_result"
    }
   ],
   "source": [
    "counts = [x[1] for x in subreddit_counter.most_common()]\n",
    "np.array(counts)"
   ]
  },
  {
   "cell_type": "code",
   "execution_count": 22,
   "metadata": {},
   "outputs": [
    {
     "data": {
      "text/plain": [
       "[<matplotlib.lines.Line2D at 0x7fe2c4363160>]"
      ]
     },
     "execution_count": 22,
     "metadata": {},
     "output_type": "execute_result"
    },
    {
     "data": {
      "image/png": "[encoded data removed]",
      "text/plain": [
       "<Figure size 864x576 with 1 Axes>"
      ]
     },
     "metadata": {},
     "output_type": "display_data"
    }
   ],
   "source": [
    "import matplotlib.pyplot as plt\n",
    "%matplotlib inline\n",
    "\n",
    "plt.figure(figsize=(12,8))\n",
    "plt.plot(range(len(counts)), counts)\n"
   ]
  },
  {
   "cell_type": "code",
   "execution_count": 25,
   "metadata": {
    "collapsed": true
   },
   "outputs": [],
   "source": [
    "total = sum(counts)\n",
    "\n",
    "cum_sum = np.cumsum(counts)\n",
    "cum_sum = 100 * cum_sum / total"
   ]
  },
  {
   "cell_type": "code",
   "execution_count": 28,
   "metadata": {},
   "outputs": [
    {
     "data": {
      "text/plain": [
       "(0, 1357)"
      ]
     },
     "execution_count": 28,
     "metadata": {},
     "output_type": "execute_result"
    },
    {
     "data": {
      "image/png": "[encoded data removed]",
      "text/plain": [
       "<Figure size 864x576 with 1 Axes>"
      ]
     },
     "metadata": {},
     "output_type": "display_data"
    }
   ],
   "source": [
    "plt.figure(figsize=(12,8))\n",
    "plt.plot(range(len(cum_sum)), cum_sum)\n",
    "plt.xlim((0, len(cum_sum)))\n",
    "#plt.hlines(50, 0, len(cum_sum))"
   ]
  },
  {
   "cell_type": "markdown",
   "metadata": {},
   "source": [
    "### posts over time / subreddits over time\n"
   ]
  },
  {
   "cell_type": "code",
   "execution_count": 32,
   "metadata": {
    "collapsed": true
   },
   "outputs": [],
   "source": [
    "import datetime\n",
    "from dateutil.relativedelta import relativedelta\n",
    "import time\n",
    "\n",
    "min_utc = min(df.created_utc)\n",
    "min_utc = datetime.datetime.fromtimestamp(min_utc)\n",
    "\n",
    "min_datetime = datetime.datetime(2016, 6, 1, 0, 0, 0)\n",
    "max_datetime = datetime.datetime(2018, 6, 1, 0, 0, 0)\n",
    "xtickdatetimes = [min_datetime,]\n",
    "curr_time = min_utc\n",
    "\n",
    "while curr_time < max_datetime:\n",
    "    next_time = curr_time + relativedelta(months=3)\n",
    "    xtickdatetimes.append(next_time)\n",
    "    curr_time = next_time\n",
    "    \n",
    "xticks = [time.mktime(d.timetuple()) for d in xtickdatetimes]\n",
    "xlabels = [d.strftime('%Y-%m') for d in xtickdatetimes]"
   ]
  },
  {
   "cell_type": "code",
   "execution_count": 35,
   "metadata": {},
   "outputs": [
    {
     "data": {
      "image/png": "[encoded data removed]",
      "text/plain": [
       "<Figure size 864x576 with 1 Axes>"
      ]
     },
     "metadata": {},
     "output_type": "display_data"
    }
   ],
   "source": [
    "gb = df.groupby('clipped_created_utc')\n",
    "\n",
    "month_counts = gb.size()\n",
    "\n",
    "ax = month_counts.plot()\n",
    "ax.set_xticks(xticks)\n",
    "ax.set_xticklabels(xlabels)\n",
    "plt.show()"
   ]
  },
  {
   "cell_type": "code",
   "execution_count": 36,
   "metadata": {},
   "outputs": [
    {
     "data": {
      "image/png": "[encoded data removed]",
      "text/plain": [
       "<Figure size 864x576 with 1 Axes>"
      ]
     },
     "metadata": {},
     "output_type": "display_data"
    }
   ],
   "source": [
    "# number of subreddits by month\n",
    "\n",
    "def count_subreddits(subdf):\n",
    "    return len(set(subdf.subreddit))\n",
    "\n",
    "gb = df.groupby('clipped_created_utc')\n",
    "\n",
    "month_counts = gb.apply(count_subreddits)\n",
    "\n",
    "ax = month_counts.plot()\n",
    "ax.set_xticks(xticks)\n",
    "ax.set_xticklabels(xlabels)\n",
    "plt.show()"
   ]
  },
  {
   "cell_type": "markdown",
   "metadata": {},
   "source": [
    "### words "
   ]
  },
  {
   "cell_type": "code",
   "execution_count": 37,
   "metadata": {
    "collapsed": true
   },
   "outputs": [],
   "source": [
    "## words per post\n",
    "\n",
    "import re\n",
    "\n",
    "token_pattern= re.compile('(?u)\\\\b\\\\w+\\\\b')\n",
    "\n",
    "def words_per_post(s):\n",
    "    return len(token_pattern.findall(s))\n",
    "\n",
    "subdf = df.sample(100000)\n",
    "words_per_post = [words_per_post(s) for s in subdf.text]"
   ]
  },
  {
   "cell_type": "code",
   "execution_count": 38,
   "metadata": {},
   "outputs": [
    {
     "data": {
      "image/png": "[encoded data removed]",
      "text/plain": [
       "<Figure size 864x576 with 1 Axes>"
      ]
     },
     "metadata": {},
     "output_type": "display_data"
    }
   ],
   "source": [
    "plt.hist(words_per_post, density=True, bins=np.linspace(0, 800, 50))\n",
    "plt.show()"
   ]
  },
  {
   "cell_type": "code",
   "execution_count": 39,
   "metadata": {},
   "outputs": [
    {
     "data": {
      "text/plain": [
       "286446"
      ]
     },
     "execution_count": 39,
     "metadata": {},
     "output_type": "execute_result"
    }
   ],
   "source": [
    "all_words = set()\n",
    "\n",
    "for s in subdf.text:\n",
    "    words = token_pattern.findall(s)\n",
    "    all_words.update(words)\n",
    "    \n",
    "len(all_words)"
   ]
  },
  {
   "cell_type": "code",
   "execution_count": null,
   "metadata": {
    "collapsed": true
   },
   "outputs": [],
   "source": [
    "## most common words\n",
    "\n",
    "## "
   ]
  },
  {
   "cell_type": "markdown",
   "metadata": {},
   "source": [
    "# splitting the data"
   ]
  },
  {
   "cell_type": "code",
   "execution_count": 53,
   "metadata": {
    "collapsed": true
   },
   "outputs": [],
   "source": [
    "from sklearn.model_selection import train_test_split\n",
    "\n",
    "test_split_time = np.percentile(df.created_utc, 80)\n",
    "\n",
    "old_df = df[df.created_utc < test_split_time]\n",
    "test_df  = df[df.created_utc >= test_split_time]\n",
    "\n",
    "train_df, val_df = train_test_split(old_df, test_size=0.2)"
   ]
  },
  {
   "cell_type": "code",
   "execution_count": 54,
   "metadata": {},
   "outputs": [
    {
     "data": {
      "text/plain": [
       "((4712525,), (1178132,), (1472665,))"
      ]
     },
     "execution_count": 54,
     "metadata": {},
     "output_type": "execute_result"
    }
   ],
   "source": [
    "X_train_, y_train_ = train_df.text, train_df.topic\n",
    "X_val_  , y_val_   = val_df.text  , val_df.topic\n",
    "X_test_ , y_test_  = test_df.text , test_df.topic\n",
    "\n",
    "X_train_.shape, X_val_.shape, X_test_.shape"
   ]
  },
  {
   "cell_type": "markdown",
   "metadata": {},
   "source": [
    "# primer on bag-of-words classification"
   ]
  },
  {
   "cell_type": "code",
   "execution_count": 43,
   "metadata": {},
   "outputs": [
    {
     "data": {
      "text/plain": [
       "(\"Hacker and Treasure hunter are not working. It's sad. ||| So, my problem is precisely what the title says. I usually play in a duo with my husband with him as a host, and whenever I get those pesky Hacker or Treasure hunter challenges I never get any xp when I successfully accomplish them. Some research shows that the host usually doesn't have such problems while the client does. \\n\\nSo, what I want to know is: 1) Does anyone else have problems with those two? 2) Did any patch ever address that issue (because I know it was already brought up)?\",\n",
       " 'Warframe')"
      ]
     },
     "execution_count": 43,
     "metadata": {},
     "output_type": "execute_result"
    }
   ],
   "source": [
    "df.text[45], df.subreddit[45]"
   ]
  },
  {
   "cell_type": "code",
   "execution_count": 47,
   "metadata": {},
   "outputs": [
    {
     "data": {
      "text/plain": [
       "['cat', 'sat', 'mat', 'cat sat', 'sat mat']"
      ]
     },
     "execution_count": 47,
     "metadata": {},
     "output_type": "execute_result"
    }
   ],
   "source": [
    "from sklearn.feature_extraction.text import CountVectorizer, TfidfVectorizer\n",
    "\n",
    "vectorizer = CountVectorizer(\n",
    "                             max_features = 30000, \n",
    "                             ngram_range=(1,2),\n",
    "                             stop_words='english',\n",
    "                            )\n",
    "\n",
    "vectorizer.build_analyzer()('the cat sat on the mat')"
   ]
  },
  {
   "cell_type": "code",
   "execution_count": 14,
   "metadata": {},
   "outputs": [
    {
     "name": "stdout",
     "output_type": "stream",
     "text": [
      "vectorizer fit has been fit...\n"
     ]
    }
   ],
   "source": [
    "X_train = vectorizer.fit_transform(X_train_)  ## will take ages\n",
    "print('vectorizer has been fit...')\n",
    "X_val   = vectorizer.transform(X_val_)\n",
    "X_test  = vectorizer.transform(X_test_)"
   ]
  },
  {
   "cell_type": "code",
   "execution_count": 49,
   "metadata": {
    "collapsed": true
   },
   "outputs": [],
   "source": [
    "#df.topic"
   ]
  },
  {
   "cell_type": "code",
   "execution_count": 55,
   "metadata": {
    "collapsed": true
   },
   "outputs": [],
   "source": [
    "from sklearn.preprocessing import LabelEncoder\n",
    "\n",
    "label_encoder = LabelEncoder()\n",
    "\n",
    "y_all = list(df.topic)\n",
    "label_encoder.fit(y_all)\n",
    "y_train = label_encoder.transform(y_train_)\n",
    "y_val   = label_encoder.transform(y_val_)\n",
    "y_test  = label_encoder.transform(y_test_)"
   ]
  },
  {
   "cell_type": "code",
   "execution_count": 56,
   "metadata": {},
   "outputs": [
    {
     "data": {
      "text/plain": [
       "array([1153,  826, 1328, ...,  393, 1237, 1066])"
      ]
     },
     "execution_count": 56,
     "metadata": {},
     "output_type": "execute_result"
    }
   ],
   "source": [
    "y_train"
   ]
  },
  {
   "cell_type": "code",
   "execution_count": 18,
   "metadata": {
    "collapsed": true
   },
   "outputs": [],
   "source": [
    "import pickle\n",
    "\n",
    "pickle.dump((X_train, X_val, X_test, y_train, y_val, y_test), open('training_data_v1.pkl', 'wb'))"
   ]
  },
  {
   "cell_type": "code",
   "execution_count": 57,
   "metadata": {
    "collapsed": true
   },
   "outputs": [],
   "source": [
    "import pickle\n",
    "\n",
    "X_train, X_val, X_test, y_train, y_val, y_test = pickle.load(open('training_data_v1.pkl', 'rb'))"
   ]
  },
  {
   "cell_type": "code",
   "execution_count": 58,
   "metadata": {},
   "outputs": [
    {
     "data": {
      "text/plain": [
       "<4712525x30000 sparse matrix of type '<class 'numpy.int64'>'\n",
       "\twith 301866506 stored elements in Compressed Sparse Row format>"
      ]
     },
     "execution_count": 58,
     "metadata": {},
     "output_type": "execute_result"
    }
   ],
   "source": [
    "X_train"
   ]
  },
  {
   "cell_type": "code",
   "execution_count": 61,
   "metadata": {},
   "outputs": [
    {
     "data": {
      "text/plain": [
       "0.0021352071058862642"
      ]
     },
     "execution_count": 61,
     "metadata": {},
     "output_type": "execute_result"
    }
   ],
   "source": [
    "301866506 / (4712525 * 30000)"
   ]
  },
  {
   "cell_type": "code",
   "execution_count": 20,
   "metadata": {},
   "outputs": [
    {
     "data": {
      "text/plain": [
       "MultinomialNB(alpha=0.1, class_prior=None, fit_prior=True)"
      ]
     },
     "execution_count": 20,
     "metadata": {},
     "output_type": "execute_result"
    }
   ],
   "source": [
    "from sklearn.naive_bayes import MultinomialNB\n",
    "\n",
    "nb_model = MultinomialNB(alpha=0.1)\n",
    "nb_model.fit(X_train, y_train)"
   ]
  },
  {
   "cell_type": "code",
   "execution_count": null,
   "metadata": {
    "collapsed": true
   },
   "outputs": [],
   "source": [
    "from sklearn.metrics import accuracy_score\n",
    "\n",
    "y_val_pred = nb_model.predict(X_val)\n",
    "\n",
    "accuracy = accuracy_score(y_val, y_val_pred)\n",
    "\n",
    "accuracy"
   ]
  },
  {
   "cell_type": "markdown",
   "metadata": {},
   "source": [
    "## <- back to slides "
   ]
  },
  {
   "cell_type": "markdown",
   "metadata": {},
   "source": [
    "# macro f1 score"
   ]
  },
  {
   "cell_type": "code",
   "execution_count": 24,
   "metadata": {},
   "outputs": [
    {
     "name": "stderr",
     "output_type": "stream",
     "text": [
      "/home/mike/.conda/envs/work/lib/python3.6/site-packages/sklearn/metrics/classification.py:1135: UndefinedMetricWarning: F-score is ill-defined and being set to 0.0 in labels with no predicted samples.\n",
      "  'precision', 'predicted', average, warn_for)\n"
     ]
    },
    {
     "data": {
      "text/plain": [
       "(0.6904277279625712, 0.6214054501211126)"
      ]
     },
     "execution_count": 24,
     "metadata": {},
     "output_type": "execute_result"
    }
   ],
   "source": [
    "from sklearn.metrics import accuracy_score, f1_score\n",
    "\n",
    "y_val_pred = nb_model.predict(X_val)\n",
    "\n",
    "accuracy = accuracy_score(y_val, y_val_pred)\n",
    "macro_f1 = f1_score(y_val, y_val_pred, average='macro')\n",
    "\n",
    "accuracy, macro_f1"
   ]
  },
  {
   "cell_type": "code",
   "execution_count": 25,
   "metadata": {},
   "outputs": [
    {
     "name": "stderr",
     "output_type": "stream",
     "text": [
      "/home/mike/.conda/envs/work/lib/python3.6/site-packages/sklearn/metrics/classification.py:1135: UndefinedMetricWarning: F-score is ill-defined and being set to 0.0 in labels with no predicted samples.\n",
      "  'precision', 'predicted', average, warn_for)\n",
      "/home/mike/.conda/envs/work/lib/python3.6/site-packages/sklearn/metrics/classification.py:1137: UndefinedMetricWarning: F-score is ill-defined and being set to 0.0 in labels with no true samples.\n",
      "  'recall', 'true', average, warn_for)\n"
     ]
    },
    {
     "data": {
      "text/plain": [
       "(0.6373323192986864, 0.5693801745261076)"
      ]
     },
     "execution_count": 25,
     "metadata": {},
     "output_type": "execute_result"
    }
   ],
   "source": [
    "from sklearn.metrics import accuracy_score, f1_score\n",
    "\n",
    "y_test_pred = nb_model.predict(X_test)\n",
    "\n",
    "accuracy = accuracy_score(y_test, y_test_pred)\n",
    "macro_f1 = f1_score(y_test, y_test_pred, average='macro')\n",
    "\n",
    "accuracy, macro_f1"
   ]
  },
  {
   "cell_type": "code",
   "execution_count": 22,
   "metadata": {
    "collapsed": true
   },
   "outputs": [],
   "source": [
    "import pickle\n",
    "pickle.dump((vectorizer, nb_model), open('ml_objects_v1.pkl', 'wb'))"
   ]
  },
  {
   "cell_type": "code",
   "execution_count": null,
   "metadata": {
    "collapsed": true
   },
   "outputs": [],
   "source": [
    "(vectorizer, nb_model) = pickle.load(open('ml_objects_v1.pkl', 'rb'))"
   ]
  },
  {
   "cell_type": "markdown",
   "metadata": {},
   "source": [
    "## <- back to slides "
   ]
  },
  {
   "cell_type": "markdown",
   "metadata": {
    "collapsed": true
   },
   "source": [
    "## feature selection"
   ]
  },
  {
   "cell_type": "code",
   "execution_count": 14,
   "metadata": {},
   "outputs": [
    {
     "name": "stdout",
     "output_type": "stream",
     "text": [
      "fitting vectorizer...\n"
     ]
    }
   ],
   "source": [
    "from sklearn.feature_extraction.text import CountVectorizer, TfidfVectorizer\n",
    "\n",
    "print('fitting vectorizer...')\n",
    "\n",
    "vectorizer_v2 = CountVectorizer(max_features = 100000,\n",
    "                                min_df=5,\n",
    "                                ngram_range=(1,2),\n",
    "                                stop_words='english',\n",
    "                                token_pattern='(?u)\\\\b\\\\w+\\\\b',\n",
    "                            )\n",
    "\n",
    "X_train_v2 = vectorizer_v2.fit_transform(X_train_)  ## will take ages\n"
   ]
  },
  {
   "cell_type": "code",
   "execution_count": 15,
   "metadata": {
    "collapsed": true
   },
   "outputs": [],
   "source": [
    "import joblib\n",
    "\n",
    "joblib.dump(X_train_v2, open('X_train_v2.pkl', 'wb'))"
   ]
  },
  {
   "cell_type": "code",
   "execution_count": 16,
   "metadata": {},
   "outputs": [
    {
     "data": {
      "text/plain": [
       "SelectKBest(k=30000, score_func=<function chi2 at 0x7f1f16a34f28>)"
      ]
     },
     "execution_count": 16,
     "metadata": {},
     "output_type": "execute_result"
    }
   ],
   "source": [
    "from sklearn.feature_selection import chi2, SelectKBest\n",
    "\n",
    "max_features  = 30000\n",
    "chi2_selector = SelectKBest(chi2, max_features)\n",
    "\n",
    "chi2_selector.fit(X_train_v2, y_train)"
   ]
  },
  {
   "cell_type": "code",
   "execution_count": 18,
   "metadata": {},
   "outputs": [
    {
     "data": {
      "text/plain": [
       "30000"
      ]
     },
     "execution_count": 18,
     "metadata": {},
     "output_type": "execute_result"
    }
   ],
   "source": [
    "retained_indices = set(chi2_selector.get_support(indices=True))\n",
    "original_vocab = vectorizer_v2.get_feature_names()\n",
    "new_vocab      = [w for ix, w in enumerate(original_vocab) if ix in retained_indices]\n",
    "\n",
    "len(new_vocab)"
   ]
  },
  {
   "cell_type": "code",
   "execution_count": 25,
   "metadata": {},
   "outputs": [
    {
     "name": "stderr",
     "output_type": "stream",
     "text": [
      "/home/mike/.conda/envs/work/lib/python3.6/site-packages/sklearn/utils/__init__.py:93: FutureWarning: Conversion of the second argument of issubdtype from `int` to `np.signedinteger` is deprecated. In future, it will be treated as `np.int64 == np.dtype(int).type`.\n",
      "  if np.issubdtype(mask.dtype, np.int):\n"
     ]
    }
   ],
   "source": [
    "X_train_v2 = chi2_selector.transform(X_train_v2)"
   ]
  },
  {
   "cell_type": "code",
   "execution_count": 22,
   "metadata": {},
   "outputs": [
    {
     "name": "stderr",
     "output_type": "stream",
     "text": [
      "/home/mike/.conda/envs/work/lib/python3.6/site-packages/sklearn/utils/__init__.py:93: FutureWarning: Conversion of the second argument of issubdtype from `int` to `np.signedinteger` is deprecated. In future, it will be treated as `np.int64 == np.dtype(int).type`.\n",
      "  if np.issubdtype(mask.dtype, np.int):\n"
     ]
    },
    {
     "data": {
      "text/plain": [
       "MultinomialNB(alpha=0.1, class_prior=None, fit_prior=True)"
      ]
     },
     "execution_count": 22,
     "metadata": {},
     "output_type": "execute_result"
    }
   ],
   "source": [
    "from sklearn.naive_bayes import MultinomialNB\n",
    "\n",
    "nb_model = MultinomialNB(alpha=0.1)\n",
    "nb_model.fit(chi2_selector.transform(X_train_v2), y_train)"
   ]
  },
  {
   "cell_type": "code",
   "execution_count": 21,
   "metadata": {},
   "outputs": [
    {
     "name": "stderr",
     "output_type": "stream",
     "text": [
      "/home/mike/.conda/envs/work/lib/python3.6/site-packages/sklearn/utils/__init__.py:93: FutureWarning: Conversion of the second argument of issubdtype from `int` to `np.signedinteger` is deprecated. In future, it will be treated as `np.int64 == np.dtype(int).type`.\n",
      "  if np.issubdtype(mask.dtype, np.int):\n"
     ]
    }
   ],
   "source": [
    "X_val_v2  =  chi2_selector.transform(vectorizer_v2.transform(X_val_))\n",
    "X_test_v2 =  chi2_selector.transform(vectorizer_v2.transform(X_test_))"
   ]
  },
  {
   "cell_type": "code",
   "execution_count": 23,
   "metadata": {},
   "outputs": [
    {
     "name": "stderr",
     "output_type": "stream",
     "text": [
      "/home/mike/.conda/envs/work/lib/python3.6/site-packages/sklearn/metrics/classification.py:1135: UndefinedMetricWarning: F-score is ill-defined and being set to 0.0 in labels with no predicted samples.\n",
      "  'precision', 'predicted', average, warn_for)\n"
     ]
    },
    {
     "data": {
      "text/plain": [
       "(0.7302823452720069, 0.671987466769985)"
      ]
     },
     "execution_count": 23,
     "metadata": {},
     "output_type": "execute_result"
    }
   ],
   "source": [
    "from sklearn.metrics import accuracy_score, f1_score\n",
    "\n",
    "y_val_pred = nb_model.predict(X_val_v2)\n",
    "\n",
    "accuracy = accuracy_score(y_val, y_val_pred)\n",
    "macro_f1 = f1_score(y_val, y_val_pred, average='macro')\n",
    "\n",
    "accuracy, macro_f1"
   ]
  },
  {
   "cell_type": "code",
   "execution_count": 24,
   "metadata": {},
   "outputs": [
    {
     "name": "stderr",
     "output_type": "stream",
     "text": [
      "/home/mike/.conda/envs/work/lib/python3.6/site-packages/sklearn/metrics/classification.py:1135: UndefinedMetricWarning: F-score is ill-defined and being set to 0.0 in labels with no predicted samples.\n",
      "  'precision', 'predicted', average, warn_for)\n",
      "/home/mike/.conda/envs/work/lib/python3.6/site-packages/sklearn/metrics/classification.py:1137: UndefinedMetricWarning: F-score is ill-defined and being set to 0.0 in labels with no true samples.\n",
      "  'recall', 'true', average, warn_for)\n"
     ]
    },
    {
     "data": {
      "text/plain": [
       "(0.6808255781185809, 0.6220059770074718)"
      ]
     },
     "execution_count": 24,
     "metadata": {},
     "output_type": "execute_result"
    }
   ],
   "source": [
    "from sklearn.metrics import accuracy_score, f1_score\n",
    "\n",
    "y_test_pred = nb_model.predict(X_test_v2)\n",
    "\n",
    "accuracy = accuracy_score(y_test, y_test_pred)\n",
    "macro_f1 = f1_score(y_test, y_test_pred, average='macro')\n",
    "\n",
    "accuracy, macro_f1"
   ]
  },
  {
   "cell_type": "markdown",
   "metadata": {},
   "source": [
    "## vanilla fasttext model"
   ]
  },
  {
   "cell_type": "code",
   "execution_count": 26,
   "metadata": {},
   "outputs": [
    {
     "name": "stderr",
     "output_type": "stream",
     "text": [
      "/home/mike/.conda/envs/work/lib/python3.6/site-packages/h5py/__init__.py:34: FutureWarning: Conversion of the second argument of issubdtype from `float` to `np.floating` is deprecated. In future, it will be treated as `np.float64 == np.dtype(float).type`.\n",
      "  from ._conv import register_converters as _register_converters\n",
      "Using TensorFlow backend.\n"
     ]
    }
   ],
   "source": [
    "import scipy.sparse\n",
    "from keras.preprocessing import sequence\n",
    "from keras.layers import (GlobalAveragePooling1D, Embedding, Dropout, Input, Dense,\n",
    "                          concatenate, BatchNormalization, \n",
    "                          )\n",
    "from keras.models import Model\n",
    "\n",
    "def convert_sparse_matrix_for_fasttext(sparse_matrix):\n",
    "    idx_array = [list() for _ in range(sparse_matrix.shape[0])]\n",
    "    for row, col, val in zip(*scipy.sparse.find(sparse_matrix)):\n",
    "        idx_array[row] += [col] * 1  # val\n",
    "    X = sequence.pad_sequences(idx_array, maxlen=349, padding='post', truncating='post')\n",
    "    return X\n",
    "    \n",
    "X_train_ft = convert_sparse_matrix_for_fasttext(X_train_v2)\n",
    "X_val_ft   = convert_sparse_matrix_for_fasttext(X_val_v2)\n",
    "X_test_ft  = convert_sparse_matrix_for_fasttext(X_test_v2)\n",
    "\n",
    "\n",
    "DROPOUT_RATE = 0.3\n",
    "INPUT_LENGTH = 349\n",
    "EMBEDDING_DIM = 100\n",
    "MAX_FEATURES = 30000\n",
    "num_classes = len(set(y_all))\n",
    "\n",
    "nb_values = MAX_FEATURES + 2\n",
    "\n",
    "input_ = Input(shape=(INPUT_LENGTH,))\n",
    "embedding_module = Embedding(nb_values, EMBEDDING_DIM, input_length=INPUT_LENGTH)(input_)\n",
    "\n",
    "module = GlobalAveragePooling1D()(embedding_module)\n",
    "module = BatchNormalization()(module)\n",
    "module = Dropout(rate=DROPOUT_RATE)(module)\n",
    "module = Dense(EMBEDDING_DIM, activation='relu')(module)\n",
    "module = BatchNormalization()(module)\n",
    "module = Dropout(rate=DROPOUT_RATE)(module)\n",
    "\n",
    "prediction = Dense(num_classes, activation='softmax')(module)\n",
    "fasttext_model = Model(inputs=input_, outputs=prediction)\n",
    "fasttext_model.compile(loss='sparse_categorical_crossentropy', optimizer='adam', metrics=['accuracy'])\n",
    "\n",
    "\n",
    "fasttext_model.fit(X_train_ft, y_train, epochs = 3, validation_split=0.1)"
   ]
  },
  {
   "cell_type": "code",
   "execution_count": 39,
   "metadata": {
    "collapsed": true
   },
   "outputs": [],
   "source": [
    "fasttext_model.save('fasttext_model.keras')"
   ]
  },
  {
   "cell_type": "code",
   "execution_count": 34,
   "metadata": {},
   "outputs": [
    {
     "name": "stderr",
     "output_type": "stream",
     "text": [
      "/home/mike/.conda/envs/work/lib/python3.6/site-packages/sklearn/metrics/classification.py:1135: UndefinedMetricWarning: F-score is ill-defined and being set to 0.0 in labels with no predicted samples.\n",
      "  'precision', 'predicted', average, warn_for)\n"
     ]
    },
    {
     "data": {
      "text/plain": [
       "(0.24251, 0.6983652224814777)"
      ]
     },
     "execution_count": 34,
     "metadata": {},
     "output_type": "execute_result"
    }
   ],
   "source": [
    "TO_TAKE = 100000\n",
    "\n",
    "y_val_pred_proba = fasttext_model.predict(X_val_ft[:TO_TAKE])\n",
    "\n",
    "y_val_pred = y_val_pred_proba.argmax(axis=1)\n",
    "\n",
    "accuracy = np.mean(y_val_pred == y_val[:TO_TAKE])\n",
    "macro_f1 = f1_score(y_val[:TO_TAKE], y_val_pred, average='macro')\n",
    "\n",
    "accuracy, macro_f1"
   ]
  },
  {
   "cell_type": "code",
   "execution_count": 36,
   "metadata": {},
   "outputs": [
    {
     "name": "stderr",
     "output_type": "stream",
     "text": [
      "/home/mike/.conda/envs/work/lib/python3.6/site-packages/sklearn/metrics/classification.py:1135: UndefinedMetricWarning: F-score is ill-defined and being set to 0.0 in labels with no predicted samples.\n",
      "  'precision', 'predicted', average, warn_for)\n",
      "/home/mike/.conda/envs/work/lib/python3.6/site-packages/sklearn/metrics/classification.py:1137: UndefinedMetricWarning: F-score is ill-defined and being set to 0.0 in labels with no true samples.\n",
      "  'recall', 'true', average, warn_for)\n"
     ]
    },
    {
     "data": {
      "text/plain": [
       "(0.27303, 0.6663239517686133)"
      ]
     },
     "execution_count": 36,
     "metadata": {},
     "output_type": "execute_result"
    }
   ],
   "source": [
    "TO_TAKE = 100000\n",
    "\n",
    "y_test_pred_proba = fasttext_model.predict(X_test_ft[:TO_TAKE])\n",
    "y_test_pred = y_test_pred_proba.argmax(axis=1)\n",
    "error_rate = 1 - np.mean(y_test_pred == y_test[:TO_TAKE])\n",
    "macro_f1 = f1_score(y_test[:TO_TAKE], y_test_pred, average='macro')\n",
    "accuracy, macro_f1"
   ]
  },
  {
   "cell_type": "markdown",
   "metadata": {},
   "source": [
    "## prior reweight"
   ]
  },
  {
   "cell_type": "code",
   "execution_count": 37,
   "metadata": {},
   "outputs": [
    {
     "name": "stderr",
     "output_type": "stream",
     "text": [
      "/home/mike/.conda/envs/work/lib/python3.6/site-packages/ipykernel_launcher.py:18: RuntimeWarning: divide by zero encountered in true_divide\n"
     ]
    },
    {
     "data": {
      "text/plain": [
       "array([1.62783576, 0.94601482, 0.88617186, ..., 1.68028567, 0.89205778,\n",
       "       1.09274584])"
      ]
     },
     "execution_count": 37,
     "metadata": {},
     "output_type": "execute_result"
    }
   ],
   "source": [
    "ctr = Counter(y_train)\n",
    "\n",
    "current_prior = [ctr[i] for i in range(num_classes)]\n",
    "current_prior =np.array([y /  len(y_train) for y in current_prior])\n",
    "\n",
    "ctr = Counter(y_test)\n",
    "\n",
    "target_prior = [ctr[i] for i in range(num_classes)]\n",
    "target_prior = np.array([y /  len(y_test) for y in target_prior])\n",
    "target_prior\n",
    "\n",
    "oversample_arr = target_prior / current_prior\n",
    "oversample_arr = np.clip(oversample_arr, 0.01, 100)\n",
    "oversample_arr"
   ]
  },
  {
   "cell_type": "code",
   "execution_count": 38,
   "metadata": {},
   "outputs": [
    {
     "name": "stderr",
     "output_type": "stream",
     "text": [
      "/home/mike/.conda/envs/work/lib/python3.6/site-packages/sklearn/metrics/classification.py:1135: UndefinedMetricWarning: F-score is ill-defined and being set to 0.0 in labels with no predicted samples.\n",
      "  'precision', 'predicted', average, warn_for)\n",
      "/home/mike/.conda/envs/work/lib/python3.6/site-packages/sklearn/metrics/classification.py:1137: UndefinedMetricWarning: F-score is ill-defined and being set to 0.0 in labels with no true samples.\n",
      "  'recall', 'true', average, warn_for)\n"
     ]
    },
    {
     "data": {
      "text/plain": [
       "(0.26083999999999996, 0.6818353919370107)"
      ]
     },
     "execution_count": 38,
     "metadata": {},
     "output_type": "execute_result"
    }
   ],
   "source": [
    "TO_TAKE = 100000\n",
    "\n",
    "y_test_pred_proba = fasttext_model.predict(X_test_ft[:TO_TAKE])\n",
    "\n",
    "y_test_pred_proba *= oversample_arr\n",
    "\n",
    "y_test_pred = y_test_pred_proba.argmax(axis=1)\n",
    "\n",
    "error_rate = 1 - np.mean(y_test_pred == y_test[:TO_TAKE])\n",
    "macro_f1 = f1_score(y_test[:TO_TAKE], y_test_pred, average='macro')\n",
    "\n",
    "error_rate, macro_f1"
   ]
  }
 ],
 "metadata": {
  "kernelspec": {
   "display_name": "Python 3",
   "language": "python",
   "name": "python3"
  },
  "language_info": {
   "codemirror_mode": {
    "name": "ipython",
    "version": 3
   },
   "file_extension": ".py",
   "mimetype": "text/x-python",
   "name": "python",
   "nbconvert_exporter": "python",
   "pygments_lexer": "ipython3",
   "version": "3.6.1"
  }
 },
 "nbformat": 4,
 "nbformat_minor": 2
}
