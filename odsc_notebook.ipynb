{
 "cells": [
  {
   "cell_type": "code",
   "execution_count": 125,
   "metadata": {},
   "outputs": [
    {
     "data": {
      "text/html": [
       "<style>.container { width:100% !important; }</style>"
      ],
      "text/plain": [
       "<IPython.core.display.HTML object>"
      ]
     },
     "metadata": {},
     "output_type": "display_data"
    }
   ],
   "source": [
    "import pandas as pd\n",
    "import numpy as np\n",
    "from collections import defaultdict, Counter\n",
    "import joblib\n",
    "import seaborn as sns\n",
    "import bokeh\n",
    "\n",
    "import matplotlib\n",
    "from matplotlib import pyplot as plt\n",
    "%matplotlib inline\n",
    "\n",
    "matplotlib.rcParams['figure.figsize'] = (12.0, 8.0)\n",
    "\n",
    "from IPython.core.display import display, HTML\n",
    "display(HTML(\"<style>.container { width:100% !important; }</style>\"))\n"
   ]
  },
  {
   "cell_type": "markdown",
   "metadata": {},
   "source": [
    "# loading the data"
   ]
  },
  {
   "cell_type": "code",
   "execution_count": 2,
   "metadata": {
    "collapsed": true
   },
   "outputs": [],
   "source": [
    "df = joblib.load(open('imbalanced_sample_data_cleaned.pkl', 'rb'))\n",
    "df = df.reset_index(drop=True)\n",
    "#df = df.sample(len(df))"
   ]
  },
  {
   "cell_type": "markdown",
   "metadata": {},
   "source": [
    "# data investigation\n",
    "\n",
    "**A word of warning : drawing graphs in Jupyter is one thing, but it doesn't beat good-old-fashioned... manually reading through thousands of examples to really get a feel for what your data actually is.  This is especially important when you have many classes as your data is going to cover a broad range of domains, you need to at least try and get familiar with the most common classes. If you don't do this you risk missing key insights**"
   ]
  },
  {
   "cell_type": "code",
   "execution_count": 5,
   "metadata": {
    "scrolled": true
   },
   "outputs": [
    {
     "data": {
      "text/plain": [
       "[{'clipped_created_utc': 1501545600.0,\n",
       "  'created_utc': 1502490105,\n",
       "  'subreddit': 'RWBY',\n",
       "  'text': \"Introducing a better, more positive alternative to this sub: r/JRWBY! ||| So I was just scrolling through r/RWBY one day, minding my own business, and I saw this really neat Jaune topic pop up. I was like, damn, that's my boi! So I clicked it and started reading. To my utter dismay though I found people insulting the guy. Teasing him and his fans.\\n\\nI could stand it NO LONGER! This was the straw, no, the *Arc* that broke the camels back. I needed to create a place where my fellow RWBY fans who also appreciated Jaune could go and feel safe, feel wanted. A place where we could discuss RWBY (AND Jaune) without having to deal with people insulting him!\\n\\nSo, my friends, I introduce you the solution. The golden fruit from a heavenly tree. The promised land is here.\\n\\n***[r/JRWBY.](https://www.reddit.com/r/JRWBY/)***\\n\\nWhat is r/JRWBY, you ask? Well, in a nutshell, it's r/RWBY but better. Why is it better? Well, if the name of the sub doesn't make it obvious enough, let me explain in more detail:\\n\\n---\\n* They layout is more creative. Sure, it's just r/RWBY's CSS copy and pasted, but you can really tell that the JRWBY spin on it is so much better. You'd be shocked by how much more JRWBY really encapsulates the core story of RWBY!\\n\\n\\n* The topics are more friendly. Never will there be someone who insults Jaune, or Lancaster, or Arkos, or even White Knight! The Arc Knight will get his proper praise on this sub, as he deserves.\\n\\n* Imagine a r/RWBY sub with all your favorite things and none of your least favorite things (assuming your favorite and least favorite things actually make sense and aren't incorrect). That's JRWBY for you, ladies and gents.\\n\\n* THERE'S ONLY LOVE, NO HATE\\n\\n* There's no bias among the people here :D All opinions (that are correct and follow the true message of JRWBY of course) are allowed! \\n\\n* The moderation is much better! How can I prove this *fact?* Well, it's simple. It's because i͓̱̱͔͂ͥ'̪͉̞M̧̻͔ͯ̓͌ ̹̗͈̳͚̈́ͪ̉̊I̻̦̗͙ͭ͊̚͞n̼͈̲̹̼̹͒ ̨̞̥̙̂̽̀c͉̖̟̺͕̜ͮ̋̊ọ̞̖͕͚̐̈́͑̎͆ͤNͧ͌ͪͩ̆͑͏̮̜̜͖̪̙̝T̟̰̰̮̙͘R͎͇͚̱̽̆̂ͦ̒̃̀͢O͙ͩ̿̅ͦl̢͔̥̠̉̅͗ͫ.  \\n\\n---\\n\\nAnd there's so much more about r/JRWBY that is probably better that I couldn't list here if I didn't want to go over the 40k character count Reddit allows per text post. I'm only at 1800 now but believe me, if you gave me a few months and enough coffee I could probably write enough about Jaune to fill that out. \\n\\nSO WHAT ARE YOU WAITING FOR???!?! Join ***[r/JRWBY](https://www.reddit.com/r/JRWBY/)*** NOW!\\n\\nThis has been a public service announcement. \",\n",
       "  'topic': 'anime/manga; rwby'},\n",
       " {'clipped_created_utc': 1514764800.0,\n",
       "  'created_utc': 1516714455,\n",
       "  'subreddit': 'Bitcoin',\n",
       "  'text': \"Graphics Cards? ||| Hey,\\n\\nSo I've seen a lot of new articles about the price of graphics cards skyrocketing and they claim its because of the bitcoin boom. What I want to know is why any one would actually go out and purchase multiple graphics cards, when you could buy something like this https://www.ebay.com/itm/GekkoScience-2PAC-BM1384-USB-Bitcoin-SHA256-15GH-Miner/352253438610?hash=item5203f0ea92:g:NyUAAOSw9OFZIDXt which is cheaper and more powerful for mining bitcoin. It just boggles my mind.\",\n",
       "  'topic': 'crypto; bitcoin'},\n",
       " {'clipped_created_utc': 1509494400.0,\n",
       "  'created_utc': 1509744594,\n",
       "  'subreddit': 'SkincareAddiction',\n",
       "  'text': \"[misc] UV sensing temporary tattoo ||| Thought you might appreciate this\\n\\nLink: https://www.fastcompany.com/40490858/this-temporary-tattoo-warns-you-when-youve-gotten-too-much-sun\\n\\nIt's a UV sensing temporary tattoo. Will probably be lighter and more elegant than a UV wristband, but the colors look a little too conspicuous right now. Also their website link is broken. But I'm sure glad that there are technology wearables relevant to skincare!\",\n",
       "  'topic': 'appearance; skincare'},\n",
       " {'clipped_created_utc': 1504224000.0,\n",
       "  'created_utc': 1506607245,\n",
       "  'subreddit': 'ynab',\n",
       "  'text': \"[general] What to do with Chase Sapphire Reserve travel credit in nYNAB ||| New to YNAB so trying to get it all figured out, but one thing that I haven't been able to figure out is what to do with the CSR travel credit. Every year with CSR I get a $300 travel credit, which just activated last month. I usually use this up on parking/uber/etc (small travel purchases). My Q is, how do I manage these transactions in YNAB? Lets say I take a $5 uber, I put the transaction in on my app. Chase automatically credits the charge in my account so it never gets to my credit card bill. Yet, in my YNAB, i'll have that money budgeted so at the end of the month when I go to pay off my CC, ill have more money than the bill there?\\n\\nAny insight or thoughts appreciated!\",\n",
       "  'topic': 'software; budgeting; ynab'},\n",
       " {'clipped_created_utc': 1472688000.0,\n",
       "  'created_utc': 1474995371,\n",
       "  'subreddit': 'PuzzleAndDragons',\n",
       "  'text': '[LF]Gremory and Bacestet Friends! ||| Please add me! 304.304.389 ... Gremory will be hypermax soon and so will bacestet. Will prob not pentamax for a while.\\n\\nXiang Mei in slot 1 and YomiDra usually slot 2, but can sub out if needed. YomiDra will probably be replafed when I round out the Gremory team.',\n",
       "  'topic': 'video_game; puzzle and dragons'}]"
      ]
     },
     "execution_count": 5,
     "metadata": {},
     "output_type": "execute_result"
    }
   ],
   "source": [
    "df.sample(5).to_dict(orient='rows')\n"
   ]
  },
  {
   "cell_type": "markdown",
   "metadata": {},
   "source": [
    "### categories"
   ]
  },
  {
   "cell_type": "code",
   "execution_count": 30,
   "metadata": {},
   "outputs": [
    {
     "name": "stdout",
     "output_type": "stream",
     "text": [
      "number of categories = 1043\n"
     ]
    }
   ],
   "source": [
    "from collections import defaultdict\n",
    "\n",
    "all_topics = set(df.topic)\n",
    "\n",
    "print('number of categories =', len(all_topics))\n",
    "\n",
    "top_to_second = defaultdict(list)\n",
    "\n",
    "for s in all_topics:\n",
    "    split = s.split('; ')\n",
    "    top_level = split[0]\n",
    "    second_level = split[1]\n",
    "    \n",
    "    top_to_second[top_level].append(second_level)"
   ]
  },
  {
   "cell_type": "code",
   "execution_count": 11,
   "metadata": {},
   "outputs": [
    {
     "name": "stdout",
     "output_type": "stream",
     "text": [
      "video_game\n",
      "\t fire emblem\n",
      "\t dragon age\n",
      "\t starcraft\n",
      "\t yogscast\n",
      "\t sonic\n",
      "\t xenoblade chronicles\n",
      "\t world of tanks\n",
      "\t castle clash\n",
      "\t arms\n",
      "\t digimon\n",
      "\t diablo\n",
      "\t europa universalis\n",
      "\t football manager\n",
      "\t super smash bros\n",
      "\t eve online\n",
      "\t halo\n",
      "\t megaten\n",
      "\t swag bucks\n",
      "\t arena of valor\n",
      "\t animal crossing\n",
      "\t endless frontier\n",
      "\t path of exile\n",
      "\t crusader kings\n",
      "\t ftl\n",
      "\t life is strange\n",
      "\t world of warcraft\n",
      "\t the elder scrolls\n",
      "\t summoners war\n",
      "\t vainglory\n",
      "\t five nights at freddys\n",
      "\t realm of the mad god\n",
      "\t pro evolution soccer\n",
      "\t dota\n",
      "\t albion\n",
      "\t tree of savior\n",
      "\t puzzle and dragons\n",
      "\t duelyst\n",
      "\t neopets\n",
      "\t world of warships\n",
      "\t hearts of iron\n",
      "\t dark souls\n",
      "\t dungeon crawl\n",
      "\t space station 13\n",
      "\t love nikki\n",
      "\t walking war robots\n",
      "\t diep.io\n",
      "\t runescape\n",
      "\t splatoon\n",
      "\t lineage\n",
      "\t ingress\n",
      "\t tibia\n",
      "\t nioh\n",
      "\t dofus\n",
      "\t everquest\n",
      "\t fifa\n",
      "\t let it die\n",
      "\t grim dawn\n",
      "\t memory defrag\n",
      "\t hearthstone\n",
      "\t futurama\n",
      "\t mopeio\n",
      "\t valkyrie\n",
      "\t idle heroes\n",
      "\t steins gate\n",
      "\t minecraft\n",
      "\t black desert\n",
      "\t danganronpa\n",
      "\t clash of clans\n",
      "\t ace attorney\n",
      "\t batttlecats\n",
      "\t kingdom hearts\n",
      "\t horizon zero dawn\n",
      "\t zero escape\n",
      "\t mobile legends\n",
      "\t tales of series\n",
      "\t out of the park\n",
      "\t destiny\n",
      "\t tap titans\n",
      "\t tsum tsum\n",
      "\t grand order\n",
      "\t monster super league\n",
      "\t contest of champions\n",
      "\t archeage\n",
      "\t rainbow 6\n",
      "\t the last of us\n",
      "\t monster hunter\n",
      "\t undertale\n",
      "\t starve io\n",
      "\t kings raid\n",
      "\t slay the spire\n",
      "\t metroid\n",
      "\t maple story\n",
      "\t hit mobile\n",
      "\t ea ufc\n",
      "\t call of duty\n",
      "\t overwatch\n",
      "\t golf clash\n",
      "\t guild wars\n",
      "\t god of war\n",
      "\t clash royale\n",
      "\t league of legends\n",
      "\t yokai watch\n",
      "\t bloodborne\n",
      "\t madden\n",
      "\t zelda\n",
      "\t EA NHL\n",
      "education\n",
      "\t learning latin\n",
      "\t learning korean\n",
      "\t learning german\n",
      "\t learning spanish\n",
      "\t graduate\n",
      "\t university\n",
      "\t learning japanese\n",
      "\t management\n",
      "\t IT\n",
      "\t business\n",
      "\t learning french\n",
      "\t learning russian\n",
      "\t learning chinese\n",
      "\t secondary\n",
      "\t finance\n",
      "\t learning english\n",
      "\t medicine\n",
      "\t advanced placement\n",
      "\t law\n",
      "drugs\n",
      "\t cigarettes\n",
      "\t cocaine\n",
      "\t lsd\n",
      "\t antidepressants\n",
      "\t snus\n",
      "\t benzodiazepines\n",
      "\t cannabis\n",
      "\t testosterone\n",
      "\t mdma\n",
      "\t tobacco\n",
      "\t darknet market\n",
      "\t ayahuasca\n",
      "\t kava\n",
      "\t female hormones\n",
      "\t afinil\n",
      "\t phelibut\n",
      "\t dmt\n",
      "\t steroids\n",
      "\t adderall\n",
      "\t magic mushrooms\n",
      "\t dxm\n",
      "\t xanax\n",
      "\t nootropics\n",
      "\t opiates\n",
      "\t kratom\n",
      "electronics\n",
      "\t activity monitor\n",
      "\t computer\n",
      "\t guitar amps\n",
      "\t speakers\n",
      "\t computer monitor\n",
      "\t television\n",
      "\t solar panel\n",
      "\t fan\n",
      "\t gps\n",
      "\t single-board computer\n",
      "\t headphones/headsets\n",
      "\t e-cigarette\n",
      "\t media streaming\n",
      "\t vr headset\n",
      "\t tv\n",
      "\t home theatre\n",
      "\t server\n",
      "\t cassette players\n",
      "\t smartwatch\n",
      "\t phone\n",
      "\t electric skateboarding\n",
      "\t videogame controller\n",
      "\t flashlight\n",
      "\t camera\n",
      "\t computer mouse\n",
      "\t iot device\n",
      "\t radio\n",
      "\t gaming stick\n",
      "\t digital media player\n",
      "\t microcontroller\n",
      "\t arcade games\n",
      "\t e-reader\n",
      "\t mobile/tablet\n",
      "\t computer keyboard\n",
      "\t data networking\n",
      "\t dvds\n",
      "\t laptop/notebook\n",
      "\t graphics card\n",
      "\t seedbox\n",
      "\t home security\n",
      "\t graphics tablet\n",
      "\t phone/tablet\n",
      "\t lighting\n",
      "\t hardware wallet\n",
      "\t synthesizers\n",
      "\t guitar pedals\n",
      "\t cpu\n",
      "\t computer storage\n",
      "\t multicopter\n",
      "\t programmable controller\n",
      "\t figurines\n",
      "politics/viewpoint\n",
      "\t net neutrality\n",
      "\t conservative\n",
      "\t neoliberal\n",
      "\t stoicism\n",
      "\t feminism\n",
      "\t alt-right\n",
      "\t communism\n",
      "\t socialism\n",
      "\t marketing\n",
      "\t anarchism\n",
      "\t nihilism\n",
      "\t antinatalism\n",
      "\t flat earth\n",
      "\t mens rights\n",
      "\t fascism\n",
      "\t societal collapse\n",
      "\t environmentalism\n",
      "music\n",
      "\t trap\n",
      "\t weezer\n",
      "\t drumcorps\n",
      "\t gorillaz\n",
      "\t drums\n",
      "\t nine inch nails\n",
      "\t metallica\n",
      "\t kendrick lamar\n",
      "\t the dear hunter\n",
      "\t queens of the stone age\n",
      "\t guitar\n",
      "\t monstercat\n",
      "\t taylor swift\n",
      "\t vinyl\n",
      "\t death grips\n",
      "\t hip hop\n",
      "\t brand new\n",
      "\t saxophone\n",
      "\t the beatles\n",
      "\t punk\n",
      "\t k-pop\n",
      "\t piano\n",
      "\t djs\n",
      "\t grateful dead\n",
      "\t electronic\n",
      "\t ukulele\n",
      "\t trumpet\n",
      "\t jazz\n",
      "\t kanye\n",
      "\t eurovision\n",
      "\t red hot chilli peppers\n",
      "\t eminem\n",
      "\t pop\n",
      "\t babymetal\n",
      "\t pink floyd\n",
      "\t bassnectar\n",
      "\t frank ocean\n",
      "\t bangtan\n",
      "\t king gizzard and the lizard wizard\n",
      "\t lana del rey\n",
      "\t metal music\n",
      "\t gilva sunner\n",
      "\t blink 182\n",
      "\t ghost\n",
      "\t bass guitar\n",
      "\t phish\n",
      "\t avenged sevenflod\n",
      "\t muse\n",
      "\t porter robinson\n",
      "\t arctic monkeys\n",
      "\t violin\n",
      "\t singing\n",
      "\t twenty one pilots\n",
      "\t rock\n",
      "\t tool\n",
      "\t brockhampton\n",
      "\t the weeknd\n",
      "\t radiohead\n",
      "\t classical\n",
      "\t green day\n",
      "\t music production\n",
      "\t music theory\n",
      "\t linkin park\n",
      "autos\n",
      "\t mini\n",
      "\t toyota\n",
      "\t turbos\n",
      "\t VW\n",
      "\t ford\n",
      "\t porsche\n",
      "\t hyundai\n",
      "\t mercedes\n",
      "\t jeep\n",
      "\t harley davidson\n",
      "\t subaru\n",
      "\t auto detailing\n",
      "\t volvo\n",
      "\t mazda\n",
      "\t saab\n",
      "\t bmw\n",
      "\t tesla\n",
      "\t chevrolet\n",
      "\t audi\n",
      "\t honda\n",
      "\t lexus\n",
      "\t trucks\n",
      "health\n",
      "\t ibs\n",
      "\t fibromylgia\n",
      "\t insomnia\n",
      "\t allergies\n",
      "\t sleep apnea\n",
      "\t migraine\n",
      "\t pcos\n",
      "\t physical therapy\n",
      "\t herpes\n",
      "\t tinnitus\n",
      "\t misophonia\n",
      "\t aspergers/autism\n",
      "\t flexibility\n",
      "\t emetophobia\n",
      "\t ocd\n",
      "\t optometry/glasses\n",
      "\t lasik\n",
      "\t did\n",
      "\t avpd\n",
      "\t narcissism\n",
      "\t speech therapy\n",
      "\t celiac\n",
      "\t ptsd\n",
      "\t braces\n",
      "\t sociopathy\n",
      "\t ehlers danlos syndrome\n",
      "\t plastic surgery\n",
      "\t epilepsy\n",
      "\t mindfulness/meditation\n",
      "\t bpd\n",
      "\t multiple sclerosis\n",
      "\t smoking cessation\n",
      "\t gerd\n",
      "\t wls\n",
      "\t endo\n",
      "\t maladaptive daydreaming\n",
      "\t diabetes\n",
      "\t blindness\n",
      "\t skin problems\n",
      "\t breasts\n",
      "\t foreskin restoration\n",
      "\t diet\n",
      "\t penis\n",
      "\t dpdr\n",
      "\t arthritis\n",
      "\t alcohol\n",
      "\t schizophrenia\n",
      "\t hypothyroidism\n",
      "\t narcolepsy\n",
      "\t bipolar disorder\n",
      "\t ACL problem\n",
      "\t chronic fatigue syndrome\n",
      "\t sleep paralysis\n",
      "\t cancer\n",
      "\t schizoid\n",
      "\t adhd\n",
      "\t psoriasis\n",
      "\t vaginismus\n",
      "finance/money\n",
      "\t charity\n",
      "\t tax\n",
      "\t personal finance\n",
      "\t student loans\n",
      "\t economics\n",
      "\t investment\n",
      "\t credit\n",
      "\t real estate / house buying\n",
      "\t insurance\n",
      "\t churning\n",
      "arts\n",
      "\t tattoos\n",
      "\t cinematography\n",
      "\t laser cutting\n",
      "\t 3d printing\n",
      "\t theatre\n",
      "\t turning\n",
      "\t image manipulation\n",
      "\t miniatures\n",
      "\t graphic design\n",
      "\t leathercraft\n",
      "\t computer aided design\n",
      "\t logo\n",
      "\t theatre technician\n",
      "\t woodworking\n",
      "\t screen printing\n",
      "\t metalwork\n",
      "\t character design\n",
      "\t game development\n",
      "\t drawing\n",
      "\t animation\n",
      "\t sewing/knitting\n",
      "\t writing\n",
      "\t photography\n",
      "\t video editing\n",
      "books\n",
      "\t the dark tower\n",
      "\t ready player one\n",
      "\t wheel of time\n",
      "\t game of thrones\n",
      "\t cosmere\n",
      "\t suggestion\n",
      "\t parahumans\n",
      "\t malazan\n",
      "\t harry potter\n",
      "\t the kingkiller chronicle\n",
      "\t parahuman\n",
      "\t erotic fiction\n",
      "\t dresden files\n",
      "company/website\n",
      "\t fast food\n",
      "\t home video distribution\n",
      "\t fitness\n",
      "\t ride hailing\n",
      "\t hospitality service\n",
      "\t crowdfunding\n",
      "\t coffee\n",
      "\t blogging\n",
      "\t beauty\n",
      "\t department store\n",
      "\t telecommunications service\n",
      "\t online marketplace\n",
      "\t online payment\n",
      "\t genealogy\n",
      "\t courier service\n",
      "\t general department store\n",
      "\t online dating\n",
      "\t office supply store\n",
      "\t knives\n",
      "\t furniture\n",
      "\t social media\n",
      "\t tv/movie provider\n",
      "\t space travel\n",
      "\t video streaming\n",
      "\t telecommunication equipment\n",
      "\t website building\n",
      "\t grocery store\n",
      "\t audio books\n",
      "\t electronics store\n",
      "\t hardware store\n",
      "\t fashion retail\n",
      "sex/relationships\n",
      "\t pick up artists\n",
      "\t sissy\n",
      "\t social skills\n",
      "\t pornography\n",
      "\t littlespace\n",
      "\t lack of sex\n",
      "\t sugar lifestyle\n",
      "\t sex toys\n",
      "\t breakups\n",
      "\t widowers\n",
      "\t incels\n",
      "\t chastity\n",
      "\t polyamory\n",
      "\t lesbian\n",
      "\t dating\n",
      "\t marriage/weddings\n",
      "\t loneliness\n",
      "\t asexuality\n",
      "\t bdsm\n",
      "\t rape fantasy\n",
      "\t family\n",
      "\t long distance\n",
      "\t bisexual\n",
      "\t infidelity\n",
      "\t incest\n",
      "\t fleshlight\n",
      "\t gay\n",
      "\t adult baby\n",
      "\t furry\n",
      "\t cuckold\n",
      "\t appearance advice\n",
      "profession\n",
      "\t armed forces\n",
      "\t stage technician\n",
      "\t therapist\n",
      "\t firefighters\n",
      "\t dropshipping\n",
      "\t project management\n",
      "\t landlord\n",
      "\t landscaping\n",
      "\t coast guard\n",
      "\t online retail\n",
      "\t msp\n",
      "\t bartenders\n",
      "\t accounting\n",
      "\t mechanics\n",
      "\t voice acting\n",
      "\t standup\n",
      "\t online money making\n",
      "\t web design\n",
      "\t data science\n",
      "\t consulting\n",
      "\t structural engineering\n",
      "\t teaching\n",
      "\t resumes\n",
      "\t healthcare\n",
      "\t architecture\n",
      "\t massage\n",
      "\t librarian\n",
      "\t social workers\n",
      "\t human resources\n",
      "\t dentist\n",
      "\t sex workers\n",
      "\t vetenarian\n",
      "\t construction\n",
      "\t peace corps\n",
      "\t devops\n",
      "\t academic\n",
      "\t law enforcement\n",
      "\t therapy\n",
      "\t journalism\n",
      "\t actuary\n",
      "\t salespeople\n",
      "\t trucking\n",
      "\t security guards\n",
      "\t advertising / marketing\n",
      "\t electronics\n",
      "\t front desk\n",
      "\t blacksmiths\n",
      "\t civil service\n",
      "\t remote working\n",
      "\t seo\n",
      "\t interview advice\n",
      "\t machining\n",
      "\t nanny\n",
      "\t nyc\n",
      "\t foreign service\n",
      "\t acting\n",
      "software\n",
      "\t home automation\n",
      "\t language learning\n",
      "\t reddit browser\n",
      "\t virtualization\n",
      "\t unix/unix-like\n",
      "\t cloud computing\n",
      "\t task automator\n",
      "\t flashcard program\n",
      "\t text editor\n",
      "\t apple os\n",
      "\t desktop customisation\n",
      "\t document management\n",
      "\t videogame emulator\n",
      "\t 2d graphics editing\n",
      "\t ide\n",
      "\t 3d graphics editing\n",
      "\t android emulator\n",
      "\t web browser\n",
      "\t workflow management\n",
      "\t content filtering\n",
      "\t torrents\n",
      "\t nas\n",
      "\t virtual reality\n",
      "\t infrastructure\n",
      "\t task automation\n",
      "\t data visualization\n",
      "\t budgeting\n",
      "\t microsoft os\n",
      "\t android os\n",
      "\t photo editing\n",
      "\t firewall\n",
      "\t nas os\n",
      "\t privacy tool\n",
      "\t database management\n",
      "\t email client\n",
      "\t tabletop emulator\n",
      "\t videogame distribution\n",
      "\t telecommunications\n",
      "\t spreadsheet\n",
      "\t automobile software\n",
      "\t note taking\n",
      "\t internet video recorder\n",
      "\t torrent client\n",
      "\t music streaming / store\n",
      "\t keyboard\n",
      "\t videogame engine\n",
      "\t media player\n",
      "podcast/video_blog\n",
      "\t northernlion\n",
      "\t lets play\n",
      "\t rooster teeth\n",
      "\t opie and anthony\n",
      "\t dungeons and dragons\n",
      "\t h3h3\n",
      "\t super best friends play\n",
      "\t drunken peasants\n",
      "\t hutts gaming\n",
      "\t logic 301\n",
      "\t howard stern\n",
      "\t red letter media\n",
      "\t the adventure zone\n",
      "\t funhaus\n",
      "\t ice poseidon\n",
      "\t z reviews\n",
      "\t painkiller already\n",
      "\t game grumps\n",
      "\t ultra hardcore\n",
      "animals\n",
      "\t death\n",
      "\t parrots\n",
      "\t insects\n",
      "\t rabbits\n",
      "\t spiders\n",
      "\t ferrets\n",
      "\t snakes\n",
      "\t bees\n",
      "\t hamsters\n",
      "\t guinea pigs\n",
      "\t cats\n",
      "\t leopard geckos\n",
      "\t beta fish\n",
      "\t dogs\n",
      "\t rats\n",
      "\t lizard\n",
      "\t chickens\n",
      "\t shrimps\n",
      "crypto\n",
      "\t bitcoin\n",
      "\t dash\n",
      "\t eos\n",
      "\t stellar\n",
      "\t raiblocks\n",
      "\t dogecoin\n",
      "\t lisk\n",
      "\t tezos\n",
      "\t reddcoin\n",
      "\t crypto kitties\n",
      "\t market\n",
      "\t garlic coin\n",
      "\t vertcoin\n",
      "\t monero\n",
      "\t burst\n",
      "\t siacoin\n",
      "\t keybase proof\n",
      "\t bat\n",
      "\t gridcoin\n",
      "\t neo\n",
      "\t electroneum\n",
      "\t verge\n",
      "\t ethereum\n",
      "\t iota\n",
      "\t nano\n",
      "\t poloniex\n",
      "\t kucoin\n",
      "\t tronix\n",
      "\t crypto-market\n",
      "\t ripple\n",
      "\t litecoin\n",
      "meta\n",
      "\t parody\n",
      "\t criticism\n",
      "\t reddit place\n",
      "\t moderation\n",
      "\t developers\n",
      "\t drama\n",
      "\t memes\n",
      "\t website changes\n",
      "\t subreddit search\n",
      "programming\n",
      "\t hosting\n",
      "\t docker\n",
      "\t javascript\n",
      "\t php\n",
      "\t bash\n",
      "\t css/html\n",
      "\t android\n",
      "\t matlab\n",
      "\t django\n",
      "\t c\n",
      "\t ruby\n",
      "\t git\n",
      "\t haskell\n",
      "\t go\n",
      "\t java\n",
      "\t hacking\n",
      "\t r\n",
      "\t ios\n",
      "\t rust language\n",
      "\t python\n",
      "\t dot net\n",
      "\t sql\n",
      "tv_show\n",
      "\t rick and morty\n",
      "\t steven universe\n",
      "\t silicon valley\n",
      "\t orange is the new black\n",
      "\t fargo\n",
      "\t samurai jack\n",
      "\t greys anatomy\n",
      "\t love live\n",
      "\t the walking dead\n",
      "\t south park\n",
      "\t gilmore girls\n",
      "\t adventure time\n",
      "\t shameless\n",
      "\t 13 reasons why\n",
      "\t the handmaid's tale\n",
      "\t my little pony\n",
      "\t 90 day fiance\n",
      "\t dr who\n",
      "\t transformers\n",
      "\t its always sunny in philadelphia\n",
      "\t mr robot\n",
      "\t the office\n",
      "\t how I met your mother\n",
      "\t black mirror\n",
      "\t real housewives\n",
      "\t lucifer\n",
      "\t archer\n",
      "\t sherlock\n",
      "\t the oa\n",
      "\t stargate\n",
      "\t breaking bad\n",
      "\t riverdale\n",
      "\t teen mom\n",
      "\t power rangers\n",
      "\t bojack horseman\n",
      "\t the 100\n",
      "\t buffy the vampire slayer\n",
      "\t lost\n",
      "\t dan le batard\n",
      "\t ru paul\n",
      "\t start vs the forces of evil\n",
      "\t big brother\n",
      "\t twin peaks\n",
      "\t the simpsons\n",
      "\t vikings\n",
      "\t the leftovers\n",
      "\t survivor\n",
      "\t the bachelor\n",
      "\t mtv scream\n",
      "\t madmen\n",
      "\t the sopranos\n",
      "\t the wire\n",
      "\t gravity falls\n",
      "\t kdrama\n",
      "\t mtv challenge\n",
      "\t stranger things\n",
      "\t american horror story\n",
      "\t supernatural tv show\n",
      "\t friends\n",
      "\t fairy tail\n",
      "\t star trek\n",
      "\t pretty little liars\n",
      "\t west world\n",
      "\t house of cards\n",
      "\t the expanse\n",
      "appearance\n",
      "\t football boots\n",
      "\t makeup\n",
      "\t beards\n",
      "\t jeans\n",
      "\t sneakers\n",
      "\t nailcare\n",
      "\t haircare\n",
      "\t bra\n",
      "\t skincare\n",
      "\t jewelry\n",
      "\t perfume\n",
      "board_game\n",
      "\t dungeon world\n",
      "\t baduk\n",
      "\t kingdom death\n",
      "\t warmachine\n",
      "\t age of sigmar\n",
      "\t warhammer\n",
      "\t gloom haven\n",
      "\t blood bowl\n",
      "\t character development\n",
      "advice/question\n",
      "\t song\n",
      "\t translation\n",
      "\t immigration\n",
      "\t valuation\n",
      "\t internet cessation\n",
      "\t discipline\n",
      "\t name advice\n",
      "\t data recovery\n",
      "\t would you rather\n",
      "\t gift ideas\n",
      "\t words\n",
      "\t stopping gaming\n",
      "\t book\n",
      "\t legal advice\n",
      "\t declutter\n"
     ]
    },
    {
     "name": "stdout",
     "output_type": "stream",
     "text": [
      "sports\n",
      "\t swimming\n",
      "\t darts\n",
      "\t equestrian\n",
      "\t disc golf\n",
      "\t obstacle course\n",
      "\t rugby\n",
      "\t bicycle related\n",
      "\t volleyball\n",
      "\t tennis\n",
      "\t ju jitsu\n",
      "\t bowling\n",
      "\t billiards\n",
      "\t skiing\n",
      "\t weightlifting/strength training\n",
      "\t baseball\n",
      "\t golf\n",
      "\t soccer\n",
      "\t archery\n",
      "\t lacrosse\n",
      "\t running\n",
      "\t triathlon\n",
      "\t cricket\n",
      "\t fencing\n",
      "\t roller blading\n",
      "\t mma\n",
      "\t formula 1\n",
      "\t football\n",
      "\t wrestling\n",
      "\t nascar\n",
      "\t surfing\n",
      "\t kayaking\n",
      "\t ultimate frisbee\n",
      "\t climbing\n",
      "\t boxing\n",
      "\t judo\n",
      "\t basketball\n",
      "\t rowing\n",
      "\t snowboarding\n",
      "\t hockey\n",
      "\t skateboarding\n",
      "card_game\n",
      "\t shadowverse\n",
      "\t dragon ball\n",
      "\t final fantasy\n",
      "\t dc universe\n",
      "\t eternal card game\n",
      "\t pokemon\n",
      "\t legend of the five rings\n",
      "\t force of will\n",
      "\t girls x battle\n",
      "\t dragon ball z\n",
      "\t poker\n",
      "\t magic the gathering\n",
      "\t pauper\n",
      "\t card fight\n",
      "\t netrunner\n",
      "hardware/tools\n",
      "\t nerf\n",
      "\t hvac\n",
      "\t pens\n",
      "\t mechanical keyboard\n",
      "\t doorbells\n",
      "\t mattress\n",
      "\t telescopes\n",
      "\t hookah\n",
      "\t wicked edge\n",
      "\t gym equipment\n",
      "\t guns\n",
      "\t scooters\n",
      "\t watercooling\n",
      "\t notebooks\n",
      "religion/supernatural\n",
      "\t islamism\n",
      "\t judaism\n",
      "\t witchcraft\n",
      "\t hinduism\n",
      "\t tarot cards\n",
      "\t atheism\n",
      "\t dimension jumping\n",
      "\t christianity\n",
      "\t paranormal\n",
      "\t astral projection\n",
      "\t ESP\n",
      "\t buddhism\n",
      "\t astrology\n",
      "stem\n",
      "\t antropology\n",
      "\t statistics\n",
      "\t biology\n",
      "\t machine learning / ai\n",
      "\t robotics\n",
      "\t mathematics\n",
      "\t bioinformatics\n",
      "\t geology\n",
      "\t physics\n",
      "\t psychology\n",
      "\t astronomy\n",
      "\t gis\n",
      "\t computer science\n",
      "\t chemistry\n",
      "\t computer security\n",
      "social_group\n",
      "\t freemasons\n",
      "\t transgender\n",
      "\t the red pill\n",
      "\t homestead\n",
      "\t cord cutters\n",
      "\t asian\n",
      "\t homeless\n",
      "\t short\n",
      "\t veterans\n",
      "\t survivalists\n",
      "\t crossdressing\n",
      "\t tall\n",
      "\t hapas\n",
      "\t abuse victims\n",
      "\t van dwellers\n",
      "\t muscular\n",
      "\t genderqueer\n",
      "hobby\n",
      "\t lock picking\n",
      "\t yoyo\n",
      "\t piercing\n",
      "\t plumbing\n",
      "\t rc cars\n",
      "\t airsoft\n",
      "\t flying\n",
      "\t lucid dreaming\n",
      "\t diy\n",
      "\t luthiers\n",
      "\t gardening\n",
      "\t yoga\n",
      "\t aquarium\n",
      "\t hunting\n",
      "\t paintball\n",
      "\t asmr\n",
      "\t cosplay\n",
      "\t muay thai\n",
      "\t interior design\n",
      "\t sailing\n",
      "\t fishing\n",
      "\t card manipulation\n",
      "\t magic tricks\n",
      "\t pop vinyl\n",
      "\t camping\n",
      "\t game speedrunning\n",
      "\t rubiks cube\n",
      "\t debating\n",
      "\t chess\n",
      "\t model trains\n",
      "\t scuba diving\n",
      "\t driving\n",
      "\t lego\n",
      "anime/manga\n",
      "\t attack on titan\n",
      "\t berserk\n",
      "\t one piece\n",
      "\t one punch man\n",
      "\t sword art online\n",
      "\t dragonball z\n",
      "\t captain tsubasa\n",
      "\t hunter x hunter\n",
      "\t bleach\n",
      "\t boku no hero academia\n",
      "\t the last airbender\n",
      "\t naruto\n",
      "\t yu-gi-oh\n",
      "\t gundam\n",
      "\t overlord\n",
      "\t jojo adventures\n",
      "\t tokyo ghoul\n",
      "\t neon genesis evangelion\n",
      "\t fate/stay\n",
      "\t monogatari\n",
      "\t kiss\n",
      "\t doki doki literature club\n",
      "\t rwby\n",
      "\t tower of god\n",
      "\t re:zero\n",
      "\t death note\n",
      "\t darling in the franxx\n",
      "parenting\n",
      "\t breast feeding\n",
      "\t infertility\n",
      "\t sleep training\n",
      "\t abortion\n",
      "\t twins/multiples\n",
      "\t diapers\n",
      "\t conception\n",
      "\t miscarriage\n",
      "\t birth control\n",
      "\t naming\n",
      "\t step parenting\n",
      "\t adoption\n",
      "\t pregnancy\n",
      "other\n",
      "\t vexillology\n",
      "\t aliens\n",
      "\t coins\n",
      "\t secret santa\n",
      "\t roller coasters\n",
      "\t stealing\n",
      "\t fidget spinners\n",
      "\t privacy\n",
      "\t surveys\n",
      "\t codes\n",
      "\t fake ids\n",
      "\t barstool sports\n",
      "\t scams\n",
      "\t grammar\n",
      "\t history\n",
      "\t philosophy\n",
      "\t scp\n",
      "\t east area rapist\n",
      "\t linguistics\n",
      "\t bullet journal\n",
      "\t literary studies\n",
      "\t light saber\n",
      "\t mysteries\n",
      "\t false memory\n",
      "\t jet programme\n",
      "movies\n",
      "\t cloverfield\n",
      "\t alien\n",
      "\t zootopia\n",
      "\t box office figures\n",
      "\t bladerunner\n",
      "\t marvel universe\n",
      "\t horror\n",
      "\t lord of the rings\n",
      "\t disney\n",
      "\t godzilla\n",
      "\t star wars\n",
      "writing/stories\n",
      "\t riddles\n",
      "\t prompts\n",
      "\t futanari\n",
      "\t wayfarers pub\n",
      "\t tech support\n",
      "\t revenge\n",
      "\t camp half blood\n",
      "\t emojis\n",
      "\t poetry\n",
      "\t roommate\n",
      "\t jokes\n",
      "\t horror/creepy\n",
      "\t dreams\n",
      "\t customer service\n",
      "\t childhood/family\n",
      "\t sci-fi\n",
      "\t obesity\n",
      "\t comic books\n",
      "\t geopolitics\n",
      "\t fantasy\n",
      "\t erotic\n",
      "\t quotes\n",
      "\t critical feedback\n",
      "travel\n",
      "\t flights\n",
      "\t road trips\n",
      "\t hiking\n",
      "\t backpacking\n",
      "\t cruise\n",
      "food/drink\n",
      "\t cocktails\n",
      "\t peppers\n",
      "\t instantpot\n",
      "\t chefs\n",
      "\t sous-vide\n",
      "\t vegetarian/vegan\n",
      "\t mead\n",
      "\t beer\n",
      "\t tea\n",
      "\t kombucha\n",
      "\t whiskey\n",
      "\t wine\n",
      "\t barbeque\n",
      "\t bread\n",
      "\t slow cooking\n",
      "rpg\n",
      "\t call of cthulhu\n",
      "\t shadowrun\n",
      "\t white wolf\n",
      "\t savage worlds\n",
      "\t starfinder\n"
     ]
    }
   ],
   "source": [
    "import random\n",
    "\n",
    "for k, subcat in list(top_to_second.items()):\n",
    "    print(k)\n",
    "    for s in subcat:\n",
    "        print('\\t', s)"
   ]
  },
  {
   "cell_type": "code",
   "execution_count": null,
   "metadata": {
    "collapsed": true
   },
   "outputs": [],
   "source": [
    "## draw some graphs"
   ]
  },
  {
   "cell_type": "code",
   "execution_count": 13,
   "metadata": {},
   "outputs": [],
   "source": []
  },
  {
   "cell_type": "code",
   "execution_count": 19,
   "metadata": {},
   "outputs": [
    {
     "data": {
      "image/png": "[encoded data removed]",
      "text/plain": [
       "<Figure size 864x576 with 1 Axes>"
      ]
     },
     "metadata": {},
     "output_type": "display_data"
    }
   ],
   "source": [
    "category_to_num = {k : len(v) for k,v in top_to_second.items()}\n",
    "ctr = Counter(category_to_num)\n",
    "pairs = list(ctr.most_common(15))\n",
    "pairs = list(reversed(pairs))\n",
    "\n",
    "categories, nums = zip(*pairs)\n",
    "\n",
    "fig, ax = plt.subplots(figsize=(12,8))\n",
    "\n",
    "plt.barh(categories, nums)\n",
    "\n",
    "ax.set_yticklabels(categories, fontsize=15)\n",
    "\n",
    "plt.show()"
   ]
  },
  {
   "cell_type": "code",
   "execution_count": 23,
   "metadata": {
    "collapsed": true
   },
   "outputs": [],
   "source": [
    "from collections import Counter\n",
    "\n"
   ]
  },
  {
   "cell_type": "code",
   "execution_count": 24,
   "metadata": {
    "collapsed": true
   },
   "outputs": [],
   "source": [
    "from collections import Counter\n",
    "\n",
    "subreddit_counter = Counter(df.topic)"
   ]
  },
  {
   "cell_type": "code",
   "execution_count": null,
   "metadata": {},
   "outputs": [],
   "source": []
  },
  {
   "cell_type": "code",
   "execution_count": 21,
   "metadata": {},
   "outputs": [
    {
     "data": {
      "text/plain": [
       "[('advice/question; legal advice', 3019),\n",
       " ('sports; wrestling', 1122),\n",
       " ('video_game; runescape', 1028),\n",
       " ('video_game; clash royale', 990),\n",
       " ('crypto; bitcoin', 897),\n",
       " ('appearance; skincare', 839),\n",
       " ('music; guitar', 823),\n",
       " ('stem; computer science', 739),\n",
       " ('writing/stories; jokes', 700),\n",
       " ('parenting; pregnancy', 653),\n",
       " ('other; history', 632),\n",
       " ('profession; mechanics', 625),\n",
       " ('company/website; video streaming; twitch', 623),\n",
       " ('health; adhd', 609),\n",
       " ('software; spreadsheet; excel', 593),\n",
       " ('hardware/tools; mechanical keyboard', 591),\n",
       " ('programming; python', 526),\n",
       " ('video_game; fire emblem', 501),\n",
       " ('software; microsoft os; windows', 477),\n",
       " ('video_game; EA NHL', 476)]"
      ]
     },
     "execution_count": 21,
     "metadata": {},
     "output_type": "execute_result"
    }
   ],
   "source": [
    "subreddit_counter.most_common(20)"
   ]
  },
  {
   "cell_type": "code",
   "execution_count": 31,
   "metadata": {},
   "outputs": [
    {
     "data": {
      "text/plain": [
       "array([3019, 1122, 1028, ...,   13,   12,   12])"
      ]
     },
     "execution_count": 31,
     "metadata": {},
     "output_type": "execute_result"
    }
   ],
   "source": [
    "import numpy as np\n",
    "counts = [x[1] for x in subreddit_counter.most_common()]\n",
    "np.array(counts)"
   ]
  },
  {
   "cell_type": "code",
   "execution_count": 32,
   "metadata": {},
   "outputs": [
    {
     "data": {
      "text/plain": [
       "[<matplotlib.lines.Line2D at 0x12844de48>]"
      ]
     },
     "execution_count": 32,
     "metadata": {},
     "output_type": "execute_result"
    },
    {
     "data": {
      "image/png": "[encoded data removed]",
      "text/plain": [
       "<Figure size 864x576 with 1 Axes>"
      ]
     },
     "metadata": {},
     "output_type": "display_data"
    }
   ],
   "source": [
    "import matplotlib.pyplot as plt\n",
    "%matplotlib inline\n",
    "\n",
    "plt.figure(figsize=(12,8))\n",
    "plt.plot(range(len(counts)), counts)\n"
   ]
  },
  {
   "cell_type": "code",
   "execution_count": null,
   "metadata": {},
   "outputs": [],
   "source": []
  },
  {
   "cell_type": "code",
   "execution_count": 39,
   "metadata": {},
   "outputs": [
    {
     "data": {
      "image/png": "[encoded data removed]",
      "text/plain": [
       "<Figure size 864x576 with 1 Axes>"
      ]
     },
     "metadata": {},
     "output_type": "display_data"
    }
   ],
   "source": [
    "total = sum(counts)\n",
    "\n",
    "cum_sum = np.cumsum(counts)\n",
    "cum_sum = 100 * cum_sum / total\n",
    "\n",
    "plt.figure(figsize=(12,8))\n",
    "plt.plot(range(len(cum_sum)), cum_sum)\n",
    "plt.xlim((-10, len(cum_sum)))\n",
    "plt.yticks(range(0,110, 10))\n",
    "plt.show()\n",
    "#plt.hlines(50, 0, len(cum_sum))"
   ]
  },
  {
   "cell_type": "markdown",
   "metadata": {},
   "source": [
    "### posts over time / subreddits over time\n"
   ]
  },
  {
   "cell_type": "code",
   "execution_count": 40,
   "metadata": {
    "collapsed": true
   },
   "outputs": [],
   "source": [
    "import datetime\n",
    "from dateutil.relativedelta import relativedelta\n",
    "import time\n",
    "\n",
    "min_utc = min(df.created_utc)\n",
    "min_utc = datetime.datetime.fromtimestamp(min_utc)\n",
    "\n",
    "min_datetime = datetime.datetime(2016, 6, 1, 0, 0, 0)\n",
    "max_datetime = datetime.datetime(2018, 6, 1, 0, 0, 0)\n",
    "xtickdatetimes = [min_datetime,]\n",
    "curr_time = min_utc\n",
    "\n",
    "while curr_time < max_datetime:\n",
    "    next_time = curr_time + relativedelta(months=3)\n",
    "    xtickdatetimes.append(next_time)\n",
    "    curr_time = next_time\n",
    "    \n",
    "xticks = [time.mktime(d.timetuple()) for d in xtickdatetimes]\n",
    "xlabels = [d.strftime('%Y-%m') for d in xtickdatetimes]"
   ]
  },
  {
   "cell_type": "code",
   "execution_count": 52,
   "metadata": {},
   "outputs": [
    {
     "data": {
      "image/png": "[encoded data removed]",
      "text/plain": [
       "<Figure size 864x576 with 1 Axes>"
      ]
     },
     "metadata": {},
     "output_type": "display_data"
    }
   ],
   "source": [
    "\n",
    "gb = df.groupby('clipped_created_utc')\n",
    "\n",
    "month_counts = gb.size()\n",
    "\n",
    "plt.figure(figsize=(12,8))\n",
    "\n",
    "ax = month_counts.plot()\n",
    "ax.set_xticks(xticks)\n",
    "ax.set_xticklabels(xlabels)\n",
    "plt.show()"
   ]
  },
  {
   "cell_type": "code",
   "execution_count": 50,
   "metadata": {},
   "outputs": [
    {
     "data": {
      "image/png": "[encoded data removed]",
      "text/plain": [
       "<Figure size 864x576 with 1 Axes>"
      ]
     },
     "metadata": {},
     "output_type": "display_data"
    }
   ],
   "source": [
    "# number of subreddits by month\n",
    "\n",
    "matplotlib.rcParams['figure.figsize'] = (12.0, 8.0)\n",
    "\n",
    "\n",
    "def count_subreddits(subdf):\n",
    "    ctr = Counter(subdf.subreddit)\n",
    "    \n",
    "    return len([k for k, v in ctr.items() if v > 10])\n",
    "\n",
    "gb = df.groupby('clipped_created_utc')\n",
    "month_counts = gb.apply(count_subreddits)\n",
    "\n",
    "ax = month_counts.plot()\n",
    "ax.set_xticks(xticks)\n",
    "ax.set_xticklabels(xlabels)\n",
    "plt.show()"
   ]
  },
  {
   "cell_type": "markdown",
   "metadata": {},
   "source": [
    "### words "
   ]
  },
  {
   "cell_type": "code",
   "execution_count": null,
   "metadata": {},
   "outputs": [],
   "source": []
  },
  {
   "cell_type": "code",
   "execution_count": 53,
   "metadata": {
    "collapsed": true
   },
   "outputs": [],
   "source": [
    "## words per post\n",
    "\n",
    "import re\n",
    "\n",
    "token_pattern= re.compile('(?u)\\\\b\\\\w+\\\\b')\n",
    "\n",
    "def words_per_post(s):\n",
    "    return len(token_pattern.findall(s))\n",
    "\n",
    "words_per_post = [words_per_post(s) for s in df.text]"
   ]
  },
  {
   "cell_type": "code",
   "execution_count": 54,
   "metadata": {},
   "outputs": [
    {
     "data": {
      "image/png": "[encoded data removed]",
      "text/plain": [
       "<Figure size 864x576 with 1 Axes>"
      ]
     },
     "metadata": {},
     "output_type": "display_data"
    }
   ],
   "source": [
    "plt.hist(words_per_post, density=True, bins=np.linspace(0, 800, 50))\n",
    "plt.show()"
   ]
  },
  {
   "cell_type": "code",
   "execution_count": 57,
   "metadata": {},
   "outputs": [
    {
     "data": {
      "text/plain": [
       "298321"
      ]
     },
     "execution_count": 57,
     "metadata": {},
     "output_type": "execute_result"
    }
   ],
   "source": [
    "all_words = set()\n",
    "\n",
    "for s in df.text:\n",
    "    words = token_pattern.findall(s)\n",
    "    all_words.update(words)\n",
    "    \n",
    "len(all_words)"
   ]
  },
  {
   "cell_type": "code",
   "execution_count": 99,
   "metadata": {},
   "outputs": [
    {
     "name": "stdout",
     "output_type": "stream",
     "text": [
      "average words per post =  162.51535\n"
     ]
    }
   ],
   "source": [
    "word_counter = Counter()\n",
    "\n",
    "for s in df.text:\n",
    "    words = token_pattern.findall(s)\n",
    "    word_counter.update(words)\n",
    "    \n",
    "len(word_counter)\n",
    "\n",
    "total_words = sum(word_counter.values())\n",
    "\n",
    "print('average words per post = ', total_words / len(df))"
   ]
  },
  {
   "cell_type": "code",
   "execution_count": 100,
   "metadata": {},
   "outputs": [
    {
     "data": {
      "text/plain": [
       "615.326490697648"
      ]
     },
     "execution_count": 100,
     "metadata": {},
     "output_type": "execute_result"
    }
   ],
   "source": [
    "len(df) / (total_words / len(df))"
   ]
  },
  {
   "cell_type": "markdown",
   "metadata": {},
   "source": [
    "## <- back to slides "
   ]
  },
  {
   "cell_type": "markdown",
   "metadata": {},
   "source": [
    "# splitting the data"
   ]
  },
  {
   "cell_type": "markdown",
   "metadata": {},
   "source": [
    "Slightly unusually, we are going to split the data based on _chronology_ rather than splitting randomly (reason to be discussed later)"
   ]
  },
  {
   "cell_type": "code",
   "execution_count": 58,
   "metadata": {
    "collapsed": true
   },
   "outputs": [],
   "source": [
    "from sklearn.model_selection import train_test_split\n",
    "\n",
    "test_split_time = np.percentile(df.created_utc, 80)\n",
    "\n",
    "old_df = df[df.created_utc < test_split_time]\n",
    "test_df  = df[df.created_utc >= test_split_time]\n",
    "\n",
    "train_df, val_df = train_test_split(old_df, test_size=0.2)"
   ]
  },
  {
   "cell_type": "code",
   "execution_count": 59,
   "metadata": {},
   "outputs": [
    {
     "data": {
      "text/plain": [
       "((64000,), (16000,), (20000,))"
      ]
     },
     "execution_count": 59,
     "metadata": {},
     "output_type": "execute_result"
    }
   ],
   "source": [
    "X_train_, y_train_ = train_df.text, train_df.topic\n",
    "X_val_  , y_val_   = val_df.text  , val_df.topic\n",
    "X_test_ , y_test_  = test_df.text , test_df.topic\n",
    "\n",
    "X_train_.shape, X_val_.shape, X_test_.shape"
   ]
  },
  {
   "cell_type": "markdown",
   "metadata": {},
   "source": [
    "# primer on bag-of-words classification"
   ]
  },
  {
   "cell_type": "code",
   "execution_count": 93,
   "metadata": {},
   "outputs": [
    {
     "data": {
      "text/plain": [
       "['cat', 'sat', 'mat', 'sat', 'cat sat', 'sat mat', 'mat sat']"
      ]
     },
     "execution_count": 93,
     "metadata": {},
     "output_type": "execute_result"
    }
   ],
   "source": [
    "from sklearn.feature_extraction.text import CountVectorizer, TfidfVectorizer\n",
    "\n",
    "vectorizer = CountVectorizer(\n",
    "                             max_features = 5000, \n",
    "                             ngram_range=(1,2),\n",
    "                             stop_words='english',\n",
    "                            )\n",
    "\n",
    "\n",
    "\n",
    "vectorizer.build_analyzer()('the cat sat on the mat sat')"
   ]
  },
  {
   "cell_type": "code",
   "execution_count": 70,
   "metadata": {},
   "outputs": [
    {
     "name": "stdout",
     "output_type": "stream",
     "text": [
      "vectorizer has been fit...\n"
     ]
    }
   ],
   "source": [
    "X_train = vectorizer.fit_transform(X_train_)  ## will take ages\n",
    "print('vectorizer has been fit...')\n",
    "X_val   = vectorizer.transform(X_val_)\n",
    "X_test  = vectorizer.transform(X_test_)"
   ]
  },
  {
   "cell_type": "code",
   "execution_count": 76,
   "metadata": {},
   "outputs": [
    {
     "data": {
      "text/plain": [
       "0.009013234375"
      ]
     },
     "execution_count": 76,
     "metadata": {},
     "output_type": "execute_result"
    }
   ],
   "source": [
    "X_train.count_nonzero() / (np.prod(X_train.shape))"
   ]
  },
  {
   "cell_type": "code",
   "execution_count": 84,
   "metadata": {},
   "outputs": [
    {
     "data": {
      "text/plain": [
       "<64000x5000 sparse matrix of type '<class 'numpy.int64'>'\n",
       "\twith 2884235 stored elements in Compressed Sparse Row format>"
      ]
     },
     "execution_count": 84,
     "metadata": {},
     "output_type": "execute_result"
    }
   ],
   "source": [
    "X_train"
   ]
  },
  {
   "cell_type": "code",
   "execution_count": null,
   "metadata": {},
   "outputs": [],
   "source": []
  },
  {
   "cell_type": "code",
   "execution_count": 87,
   "metadata": {
    "collapsed": true
   },
   "outputs": [],
   "source": [
    "from sklearn.preprocessing import LabelEncoder\n",
    "\n",
    "label_encoder = LabelEncoder()\n",
    "\n",
    "y_all = list(df.topic)\n",
    "label_encoder.fit(y_all)\n",
    "y_train = label_encoder.transform(y_train_)\n",
    "y_val   = label_encoder.transform(y_val_)\n",
    "y_test  = label_encoder.transform(y_test_)"
   ]
  },
  {
   "cell_type": "code",
   "execution_count": 88,
   "metadata": {},
   "outputs": [
    {
     "data": {
      "text/plain": [
       "array([ 315,  926, 1032, ...,    7,  649,  934])"
      ]
     },
     "execution_count": 88,
     "metadata": {},
     "output_type": "execute_result"
    }
   ],
   "source": [
    "y_train"
   ]
  },
  {
   "cell_type": "code",
   "execution_count": 89,
   "metadata": {},
   "outputs": [
    {
     "data": {
      "text/plain": [
       "MultinomialNB(alpha=0.1, class_prior=None, fit_prior=True)"
      ]
     },
     "execution_count": 89,
     "metadata": {},
     "output_type": "execute_result"
    }
   ],
   "source": [
    "from sklearn.naive_bayes import MultinomialNB\n",
    "\n",
    "nb_model = MultinomialNB(alpha=0.1)\n",
    "nb_model.fit(X_train, y_train)"
   ]
  },
  {
   "cell_type": "markdown",
   "metadata": {},
   "source": [
    "### valuation set accuracy"
   ]
  },
  {
   "cell_type": "code",
   "execution_count": 101,
   "metadata": {},
   "outputs": [
    {
     "data": {
      "text/plain": [
       "0.475125"
      ]
     },
     "execution_count": 101,
     "metadata": {},
     "output_type": "execute_result"
    }
   ],
   "source": [
    "from sklearn.metrics import accuracy_score\n",
    "\n",
    "y_val_pred = nb_model.predict(X_val)\n",
    "\n",
    "accuracy = accuracy_score(y_val, y_val_pred)\n",
    "\n",
    "accuracy"
   ]
  },
  {
   "cell_type": "markdown",
   "metadata": {},
   "source": [
    "### test set accuracy"
   ]
  },
  {
   "cell_type": "code",
   "execution_count": 102,
   "metadata": {},
   "outputs": [
    {
     "data": {
      "text/plain": [
       "0.4437"
      ]
     },
     "execution_count": 102,
     "metadata": {},
     "output_type": "execute_result"
    }
   ],
   "source": [
    "from sklearn.metrics import accuracy_score\n",
    "\n",
    "y_test_pred = nb_model.predict(X_test)\n",
    "\n",
    "accuracy = accuracy_score(y_test, y_test_pred)\n",
    "\n",
    "accuracy"
   ]
  },
  {
   "cell_type": "markdown",
   "metadata": {},
   "source": [
    "## <- back to slides "
   ]
  },
  {
   "cell_type": "markdown",
   "metadata": {},
   "source": [
    "# t-SNE"
   ]
  },
  {
   "cell_type": "code",
   "execution_count": null,
   "metadata": {
    "collapsed": true
   },
   "outputs": [],
   "source": [
    "import warnings\n",
    "warnings.filterwarnings('ignore')\n",
    "\n",
    "def apply(subdf):\n",
    "    subdf = subdf.sample(100)\n",
    "    text = list(subdf.text)\n",
    "    text = '\\n'.join(text)\n",
    "    return text\n",
    "\n",
    "tsne_df = df.groupby('subreddit').apply(apply)\n",
    "\n",
    "tsne_df = tsne_df.reset_index(drop=False)\n",
    "tsne_df.columns = ['subreddit', 'text']\n",
    "\n",
    "X_tsne_ = tsne_df.text\n",
    "y_tsne_ = tsne_df.subreddit"
   ]
  },
  {
   "cell_type": "code",
   "execution_count": null,
   "metadata": {
    "collapsed": true
   },
   "outputs": [],
   "source": [
    "from sklearn.feature_extraction.text import CountVectorizer, TfidfVectorizer\n",
    "from sklearn.decomposition import TruncatedSVD\n",
    "from sklearn.manifold import TSNE\n",
    "\n",
    "vectorizer = TfidfVectorizer(\n",
    "                             max_features = 30000, \n",
    "                             ngram_range=(1,1),\n",
    "                             min_df=5,\n",
    "                             stop_words='english',\n",
    "                            )\n",
    "\n",
    "X_tsne = vectorizer.fit_transform(X_tsne_)  ## will take ages\n",
    "\n",
    "svd  = TruncatedSVD(n_components=100)\n",
    "tsne = TSNE(n_components=2, verbose=1)\n",
    "\n",
    "X_tsne = svd.fit_transform(X_tsne)\n",
    "X_tsne = tsne.fit_transform(X_tsne)"
   ]
  },
  {
   "cell_type": "code",
   "execution_count": null,
   "metadata": {
    "collapsed": true
   },
   "outputs": [],
   "source": [
    "from matplotlib import pyplot as plt\n",
    "%matplotlib inline\n",
    "from sklearn.preprocessing import LabelEncoder\n",
    "import seaborn as sns\n",
    "\n",
    "xs, ys = zip(*X)\n",
    "\n",
    "tsne_df['x'] = xs\n",
    "tsne_df['y'] = ys\n",
    "\n",
    "y = LabelEncoder().fit_transform(y_)\n",
    "colors = sns.color_palette(\"hls\", max(y) + 1).as_hex()\n",
    "y_colors = [colors[i] for i in y]\n",
    "\n",
    "tsne_df['color'] = y_colors"
   ]
  },
  {
   "cell_type": "code",
   "execution_count": 105,
   "metadata": {},
   "outputs": [
    {
     "data": {
      "text/plain": [
       "<matplotlib.collections.PathCollection at 0x144e55240>"
      ]
     },
     "execution_count": 105,
     "metadata": {},
     "output_type": "execute_result"
    },
    {
     "data": {
      "image/png": "[encoded data removed]",
      "text/plain": [
       "<Figure size 864x576 with 1 Axes>"
      ]
     },
     "metadata": {},
     "output_type": "display_data"
    }
   ],
   "source": [
    "import pandas as pd\n",
    "\n",
    "import matplotlib\n",
    "from matplotlib import pyplot as plt\n",
    "%matplotlib inline\n",
    "\n",
    "matplotlib.rcParams['figure.figsize'] = (12.0, 8.0)\n",
    "\n",
    "\n",
    "#tsne_df[[c for c in tsne_df.columns if not c == 'text']].to_csv('tsne_df.csv', index=False)\n",
    "tsne_df = pd.read_csv('tsne_df.csv')\n",
    "\n",
    "xs, ys = tsne_df['x'], tsne_df['y']\n",
    "\n",
    "plt.scatter(xs, ys, alpha=0.4)"
   ]
  },
  {
   "cell_type": "code",
   "execution_count": 112,
   "metadata": {},
   "outputs": [
    {
     "data": {
      "text/html": [
       "\n",
       "    <div class=\"bk-root\">\n",
       "        <a href=\"http://bokeh.pydata.org\" target=\"_blank\" class=\"bk-logo bk-logo-small bk-logo-notebook\"></a>\n",
       "        <span id=\"7a6f41a7-c091-4861-9979-3fa8e75fde92\">Loading BokehJS ...</span>\n",
       "    </div>"
      ]
     },
     "metadata": {},
     "output_type": "display_data"
    },
    {
     "data": {
      "application/javascript": [
       "\n",
       "(function(global) {\n",
       "  function now() {\n",
       "    return new Date();\n",
       "  }\n",
       "\n",
       "  var force = true;\n",
       "\n",
       "  if (typeof (window._bokeh_onload_callbacks) === \"undefined\" || force === true) {\n",
       "    window._bokeh_onload_callbacks = [];\n",
       "    window._bokeh_is_loading = undefined;\n",
       "  }\n",
       "\n",
       "\n",
       "  \n",
       "  if (typeof (window._bokeh_timeout) === \"undefined\" || force === true) {\n",
       "    window._bokeh_timeout = Date.now() + 5000;\n",
       "    window._bokeh_failed_load = false;\n",
       "  }\n",
       "\n",
       "  var NB_LOAD_WARNING = {'data': {'text/html':\n",
       "     \"<div style='background-color: #fdd'>\\n\"+\n",
       "     \"<p>\\n\"+\n",
       "     \"BokehJS does not appear to have successfully loaded. If loading BokehJS from CDN, this \\n\"+\n",
       "     \"may be due to a slow or bad network connection. Possible fixes:\\n\"+\n",
       "     \"</p>\\n\"+\n",
       "     \"<ul>\\n\"+\n",
       "     \"<li>re-rerun `output_notebook()` to attempt to load from CDN again, or</li>\\n\"+\n",
       "     \"<li>use INLINE resources instead, as so:</li>\\n\"+\n",
       "     \"</ul>\\n\"+\n",
       "     \"<code>\\n\"+\n",
       "     \"from bokeh.resources import INLINE\\n\"+\n",
       "     \"output_notebook(resources=INLINE)\\n\"+\n",
       "     \"</code>\\n\"+\n",
       "     \"</div>\"}};\n",
       "\n",
       "  function display_loaded() {\n",
       "    if (window.Bokeh !== undefined) {\n",
       "      var el = document.getElementById(\"7a6f41a7-c091-4861-9979-3fa8e75fde92\");\n",
       "      el.textContent = \"BokehJS \" + Bokeh.version + \" successfully loaded.\";\n",
       "    } else if (Date.now() < window._bokeh_timeout) {\n",
       "      setTimeout(display_loaded, 100)\n",
       "    }\n",
       "  }\n",
       "\n",
       "  function run_callbacks() {\n",
       "    window._bokeh_onload_callbacks.forEach(function(callback) { callback() });\n",
       "    delete window._bokeh_onload_callbacks\n",
       "    console.info(\"Bokeh: all callbacks have finished\");\n",
       "  }\n",
       "\n",
       "  function load_libs(js_urls, callback) {\n",
       "    window._bokeh_onload_callbacks.push(callback);\n",
       "    if (window._bokeh_is_loading > 0) {\n",
       "      console.log(\"Bokeh: BokehJS is being loaded, scheduling callback at\", now());\n",
       "      return null;\n",
       "    }\n",
       "    if (js_urls == null || js_urls.length === 0) {\n",
       "      run_callbacks();\n",
       "      return null;\n",
       "    }\n",
       "    console.log(\"Bokeh: BokehJS not loaded, scheduling load and callback at\", now());\n",
       "    window._bokeh_is_loading = js_urls.length;\n",
       "    for (var i = 0; i < js_urls.length; i++) {\n",
       "      var url = js_urls[i];\n",
       "      var s = document.createElement('script');\n",
       "      s.src = url;\n",
       "      s.async = false;\n",
       "      s.onreadystatechange = s.onload = function() {\n",
       "        window._bokeh_is_loading--;\n",
       "        if (window._bokeh_is_loading === 0) {\n",
       "          console.log(\"Bokeh: all BokehJS libraries loaded\");\n",
       "          run_callbacks()\n",
       "        }\n",
       "      };\n",
       "      s.onerror = function() {\n",
       "        console.warn(\"failed to load library \" + url);\n",
       "      };\n",
       "      console.log(\"Bokeh: injecting script tag for BokehJS library: \", url);\n",
       "      document.getElementsByTagName(\"head\")[0].appendChild(s);\n",
       "    }\n",
       "  };var element = document.getElementById(\"7a6f41a7-c091-4861-9979-3fa8e75fde92\");\n",
       "  if (element == null) {\n",
       "    console.log(\"Bokeh: ERROR: autoload.js configured with elementid '7a6f41a7-c091-4861-9979-3fa8e75fde92' but no matching script tag was found. \")\n",
       "    return false;\n",
       "  }\n",
       "\n",
       "  var js_urls = [\"https://cdn.pydata.org/bokeh/release/bokeh-0.12.5.min.js\", \"https://cdn.pydata.org/bokeh/release/bokeh-widgets-0.12.5.min.js\"];\n",
       "\n",
       "  var inline_js = [\n",
       "    function(Bokeh) {\n",
       "      Bokeh.set_log_level(\"info\");\n",
       "    },\n",
       "    \n",
       "    function(Bokeh) {\n",
       "      \n",
       "    },\n",
       "    \n",
       "    function(Bokeh) {\n",
       "      \n",
       "      document.getElementById(\"7a6f41a7-c091-4861-9979-3fa8e75fde92\").textContent = \"BokehJS is loading...\";\n",
       "\n",
       "    },\n",
       "    function(Bokeh) {\n",
       "      console.log(\"Bokeh: injecting CSS: https://cdn.pydata.org/bokeh/release/bokeh-0.12.5.min.css\");\n",
       "      Bokeh.embed.inject_css(\"https://cdn.pydata.org/bokeh/release/bokeh-0.12.5.min.css\");\n",
       "      console.log(\"Bokeh: injecting CSS: https://cdn.pydata.org/bokeh/release/bokeh-widgets-0.12.5.min.css\");\n",
       "      Bokeh.embed.inject_css(\"https://cdn.pydata.org/bokeh/release/bokeh-widgets-0.12.5.min.css\");\n",
       "    }\n",
       "  ];\n",
       "\n",
       "  function run_inline_js() {\n",
       "    \n",
       "    if ((window.Bokeh !== undefined) || (force === true)) {\n",
       "      for (var i = 0; i < inline_js.length; i++) {\n",
       "        inline_js[i](window.Bokeh);\n",
       "      }if (force === true) {\n",
       "        display_loaded();\n",
       "      }} else if (Date.now() < window._bokeh_timeout) {\n",
       "      setTimeout(run_inline_js, 100);\n",
       "    } else if (!window._bokeh_failed_load) {\n",
       "      console.log(\"Bokeh: BokehJS failed to load within specified timeout.\");\n",
       "      window._bokeh_failed_load = true;\n",
       "    } else if (force !== true) {\n",
       "      var cell = $(document.getElementById(\"7a6f41a7-c091-4861-9979-3fa8e75fde92\")).parents('.cell').data().cell;\n",
       "      cell.output_area.append_execute_result(NB_LOAD_WARNING)\n",
       "    }\n",
       "\n",
       "  }\n",
       "\n",
       "  if (window._bokeh_is_loading === 0) {\n",
       "    console.log(\"Bokeh: BokehJS loaded, going straight to plotting\");\n",
       "    run_inline_js();\n",
       "  } else {\n",
       "    load_libs(js_urls, function() {\n",
       "      console.log(\"Bokeh: BokehJS plotting callback run at\", now());\n",
       "      run_inline_js();\n",
       "    });\n",
       "  }\n",
       "}(this));"
      ]
     },
     "metadata": {},
     "output_type": "display_data"
    },
    {
     "data": {
      "text/html": [
       "\n",
       "\n",
       "    <div class=\"bk-root\">\n",
       "        <div class=\"bk-plotdiv\" id=\"9442c3b3-b11f-4222-89e9-78af51756082\"></div>\n",
       "    </div>\n",
       "<script type=\"text/javascript\">\n",
       "  \n",
       "  (function(global) {\n",
       "    function now() {\n",
       "      return new Date();\n",
       "    }\n",
       "\n",
       "    var force = false;\n",
       "\n",
       "    if (typeof (window._bokeh_onload_callbacks) === \"undefined\" || force === true) {\n",
       "      window._bokeh_onload_callbacks = [];\n",
       "      window._bokeh_is_loading = undefined;\n",
       "    }\n",
       "\n",
       "\n",
       "    \n",
       "    if (typeof (window._bokeh_timeout) === \"undefined\" || force === true) {\n",
       "      window._bokeh_timeout = Date.now() + 0;\n",
       "      window._bokeh_failed_load = false;\n",
       "    }\n",
       "\n",
       "    var NB_LOAD_WARNING = {'data': {'text/html':\n",
       "       \"<div style='background-color: #fdd'>\\n\"+\n",
       "       \"<p>\\n\"+\n",
       "       \"BokehJS does not appear to have successfully loaded. If loading BokehJS from CDN, this \\n\"+\n",
       "       \"may be due to a slow or bad network connection. Possible fixes:\\n\"+\n",
       "       \"</p>\\n\"+\n",
       "       \"<ul>\\n\"+\n",
       "       \"<li>re-rerun `output_notebook()` to attempt to load from CDN again, or</li>\\n\"+\n",
       "       \"<li>use INLINE resources instead, as so:</li>\\n\"+\n",
       "       \"</ul>\\n\"+\n",
       "       \"<code>\\n\"+\n",
       "       \"from bokeh.resources import INLINE\\n\"+\n",
       "       \"output_notebook(resources=INLINE)\\n\"+\n",
       "       \"</code>\\n\"+\n",
       "       \"</div>\"}};\n",
       "\n",
       "    function display_loaded() {\n",
       "      if (window.Bokeh !== undefined) {\n",
       "        var el = document.getElementById(\"9442c3b3-b11f-4222-89e9-78af51756082\");\n",
       "        el.textContent = \"BokehJS \" + Bokeh.version + \" successfully loaded.\";\n",
       "      } else if (Date.now() < window._bokeh_timeout) {\n",
       "        setTimeout(display_loaded, 100)\n",
       "      }\n",
       "    }\n",
       "\n",
       "    function run_callbacks() {\n",
       "      window._bokeh_onload_callbacks.forEach(function(callback) { callback() });\n",
       "      delete window._bokeh_onload_callbacks\n",
       "      console.info(\"Bokeh: all callbacks have finished\");\n",
       "    }\n",
       "\n",
       "    function load_libs(js_urls, callback) {\n",
       "      window._bokeh_onload_callbacks.push(callback);\n",
       "      if (window._bokeh_is_loading > 0) {\n",
       "        console.log(\"Bokeh: BokehJS is being loaded, scheduling callback at\", now());\n",
       "        return null;\n",
       "      }\n",
       "      if (js_urls == null || js_urls.length === 0) {\n",
       "        run_callbacks();\n",
       "        return null;\n",
       "      }\n",
       "      console.log(\"Bokeh: BokehJS not loaded, scheduling load and callback at\", now());\n",
       "      window._bokeh_is_loading = js_urls.length;\n",
       "      for (var i = 0; i < js_urls.length; i++) {\n",
       "        var url = js_urls[i];\n",
       "        var s = document.createElement('script');\n",
       "        s.src = url;\n",
       "        s.async = false;\n",
       "        s.onreadystatechange = s.onload = function() {\n",
       "          window._bokeh_is_loading--;\n",
       "          if (window._bokeh_is_loading === 0) {\n",
       "            console.log(\"Bokeh: all BokehJS libraries loaded\");\n",
       "            run_callbacks()\n",
       "          }\n",
       "        };\n",
       "        s.onerror = function() {\n",
       "          console.warn(\"failed to load library \" + url);\n",
       "        };\n",
       "        console.log(\"Bokeh: injecting script tag for BokehJS library: \", url);\n",
       "        document.getElementsByTagName(\"head\")[0].appendChild(s);\n",
       "      }\n",
       "    };var element = document.getElementById(\"9442c3b3-b11f-4222-89e9-78af51756082\");\n",
       "    if (element == null) {\n",
       "      console.log(\"Bokeh: ERROR: autoload.js configured with elementid '9442c3b3-b11f-4222-89e9-78af51756082' but no matching script tag was found. \")\n",
       "      return false;\n",
       "    }\n",
       "\n",
       "    var js_urls = [];\n",
       "\n",
       "    var inline_js = [\n",
       "      function(Bokeh) {\n",
       "        (function() {\n",
       "          var fn = function() {\n",
       "            var docs_json = {\"83aa85d4-4dec-4dce-8999-095df580f8fa\":{\"roots\":{\"references\":[{\"attributes\":{\"below\":[{\"id\":\"541e8073-e72a-419e-8ba2-695dbbaa3e49\",\"type\":\"LinearAxis\"}],\"left\":[{\"id\":\"d623d6a0-e03f-4ca1-afeb-409ef9a99ef2\",\"type\":\"LinearAxis\"}],\"plot_height\":500,\"plot_width\":700,\"renderers\":[{\"id\":\"541e8073-e72a-419e-8ba2-695dbbaa3e49\",\"type\":\"LinearAxis\"},{\"id\":\"013fef46-4713-4514-bb37-252529f9553d\",\"type\":\"Grid\"},{\"id\":\"d623d6a0-e03f-4ca1-afeb-409ef9a99ef2\",\"type\":\"LinearAxis\"},{\"id\":\"beb4e7c3-d87c-413a-9633-fcd7ae7f256d\",\"type\":\"Grid\"},{\"id\":\"143513cb-a33f-4c4c-99ee-411037b306fa\",\"type\":\"GlyphRenderer\"}],\"title\":{\"id\":\"1431cc2d-99cd-4b77-9cd6-a2131ffe40b8\",\"type\":\"Title\"},\"tool_events\":{\"id\":\"cc8456f2-f091-47ec-8179-2caf5008279c\",\"type\":\"ToolEvents\"},\"toolbar\":{\"id\":\"dd73005e-49c0-40b1-90f8-c054d3f6eb2b\",\"type\":\"Toolbar\"},\"x_range\":{\"id\":\"faa1287d-6e88-40ec-9deb-3b643bb9569b\",\"type\":\"DataRange1d\"},\"y_range\":{\"id\":\"cae36034-0d87-4f12-8918-a2cdc87094d5\",\"type\":\"DataRange1d\"}},\"id\":\"fe18db77-e78c-4398-aa33-9bba05a9f42d\",\"subtype\":\"Figure\",\"type\":\"Plot\"},{\"attributes\":{\"formatter\":{\"id\":\"7811049b-41b9-4324-9c21-87527e74e943\",\"type\":\"BasicTickFormatter\"},\"plot\":{\"id\":\"fe18db77-e78c-4398-aa33-9bba05a9f42d\",\"subtype\":\"Figure\",\"type\":\"Plot\"},\"ticker\":{\"id\":\"4f6b2581-5acb-41f0-b81c-5bc2e1d57ec8\",\"type\":\"BasicTicker\"}},\"id\":\"541e8073-e72a-419e-8ba2-695dbbaa3e49\",\"type\":\"LinearAxis\"},{\"attributes\":{\"active_drag\":\"auto\",\"active_scroll\":\"auto\",\"active_tap\":\"auto\",\"tools\":[{\"id\":\"86921cbb-e574-4d97-9a56-4e0fccfe40ec\",\"type\":\"HoverTool\"},{\"id\":\"7b480a78-a8e3-446f-a5a8-031f9d607e95\",\"type\":\"PanTool\"},{\"id\":\"5029dff5-023e-41eb-8fb8-c63250af9d61\",\"type\":\"WheelZoomTool\"},{\"id\":\"4c7e1b8d-2d9e-4dc8-8dba-e480d202fa3f\",\"type\":\"ResetTool\"}]},\"id\":\"dd73005e-49c0-40b1-90f8-c054d3f6eb2b\",\"type\":\"Toolbar\"},{\"attributes\":{\"dimension\":1,\"plot\":{\"id\":\"fe18db77-e78c-4398-aa33-9bba05a9f42d\",\"subtype\":\"Figure\",\"type\":\"Plot\"},\"ticker\":{\"id\":\"d5f25ef4-f917-423d-b62d-6489886ec9ea\",\"type\":\"BasicTicker\"}},\"id\":\"beb4e7c3-d87c-413a-9633-fcd7ae7f256d\",\"type\":\"Grid\"},{\"attributes\":{\"callback\":null},\"id\":\"cae36034-0d87-4f12-8918-a2cdc87094d5\",\"type\":\"DataRange1d\"},{\"attributes\":{\"callback\":null,\"names\":[\"train\"],\"plot\":{\"id\":\"fe18db77-e78c-4398-aa33-9bba05a9f42d\",\"subtype\":\"Figure\",\"type\":\"Plot\"},\"tooltips\":[[\"subreddit\",\"<font face=\\\"Arial\\\" size=\\\"3\\\">@subreddit</font>\"]]},\"id\":\"86921cbb-e574-4d97-9a56-4e0fccfe40ec\",\"type\":\"HoverTool\"},{\"attributes\":{},\"id\":\"4f6b2581-5acb-41f0-b81c-5bc2e1d57ec8\",\"type\":\"BasicTicker\"},{\"attributes\":{\"plot\":{\"id\":\"fe18db77-e78c-4398-aa33-9bba05a9f42d\",\"subtype\":\"Figure\",\"type\":\"Plot\"},\"ticker\":{\"id\":\"4f6b2581-5acb-41f0-b81c-5bc2e1d57ec8\",\"type\":\"BasicTicker\"}},\"id\":\"013fef46-4713-4514-bb37-252529f9553d\",\"type\":\"Grid\"},{\"attributes\":{},\"id\":\"d5f25ef4-f917-423d-b62d-6489886ec9ea\",\"type\":\"BasicTicker\"},{\"attributes\":{\"plot\":null,\"text\":\"Subreddits\"},\"id\":\"1431cc2d-99cd-4b77-9cd6-a2131ffe40b8\",\"type\":\"Title\"},{\"attributes\":{\"callback\":null,\"column_names\":[\"x\",\"y\",\"colors\",\"subreddit\"],\"data\":{\"colors\":[\"#57dbbb\",\"#db578a\",\"#db5777\",\"#a5db57\",\"#db5777\",\"#dbae57\",\"#dbd657\",\"#dbc257\",\"#db578a\",\"#b557db\",\"#db9a57\",\"#57dbbb\",\"#69db57\",\"#57dbbb\",\"#57db58\",\"#69db57\",\"#db5777\",\"#57db58\",\"#a5db57\",\"#db57b2\",\"#6557db\",\"#57dbbb\",\"#db5777\",\"#db57da\",\"#db57da\",\"#db5777\",\"#5784db\",\"#a5db57\",\"#6557db\",\"#57db58\",\"#57dbbb\",\"#7ddb57\",\"#db578a\",\"#575cdb\",\"#db57da\",\"#7957db\",\"#db57da\",\"#db57da\",\"#57db58\",\"#57dbcf\",\"#db578a\",\"#db57c6\",\"#db5763\",\"#57db94\",\"#db57b2\",\"#57db6c\",\"#575cdb\",\"#6557db\",\"#5798db\",\"#5798db\",\"#dbae57\",\"#db57b2\",\"#db57b2\",\"#6557db\",\"#8d57db\",\"#db57b2\",\"#dbc257\",\"#dbc257\",\"#db57da\",\"#57d3db\",\"#57dbbb\",\"#7ddb57\",\"#57acdb\",\"#91db57\",\"#57db80\",\"#b557db\",\"#dbc257\",\"#5784db\",\"#db7357\",\"#57acdb\",\"#db7357\",\"#57acdb\",\"#a5db57\",\"#db7357\",\"#db7357\",\"#db8657\",\"#a5db57\",\"#db578a\",\"#57dbbb\",\"#91db57\",\"#6557db\",\"#57dbbb\",\"#57acdb\",\"#db578a\",\"#db8657\",\"#db57c6\",\"#db578a\",\"#57db80\",\"#b557db\",\"#dbae57\",\"#8d57db\",\"#db57c6\",\"#7ddb57\",\"#69db57\",\"#db57c6\",\"#57dbbb\",\"#57db6c\",\"#7957db\",\"#db5763\",\"#6557db\",\"#db8657\",\"#db5777\",\"#57dbbb\",\"#57db6c\",\"#57db80\",\"#dbc257\",\"#57db94\",\"#69db57\",\"#57db58\",\"#7ddb57\",\"#a5db57\",\"#db5777\",\"#db5777\",\"#db57da\",\"#57bfdb\",\"#db5777\",\"#db57c6\",\"#db5763\",\"#69db57\",\"#575cdb\",\"#6557db\",\"#db5777\",\"#57db58\",\"#a5db57\",\"#db57c6\",\"#db579e\",\"#db5777\",\"#b557db\",\"#91db57\",\"#57dbcf\",\"#b557db\",\"#b9db57\",\"#b9db57\",\"#db8657\",\"#57dbbb\",\"#57dbcf\",\"#7ddb57\",\"#db578a\",\"#db8657\",\"#db57c6\",\"#57db6c\",\"#db578a\",\"#b557db\",\"#57dbcf\",\"#575cdb\",\"#575cdb\",\"#575cdb\",\"#57db94\",\"#6557db\",\"#db5763\",\"#db5777\",\"#db5777\",\"#8d57db\",\"#a5db57\",\"#b557db\",\"#db5777\",\"#db5777\",\"#db7357\",\"#57d3db\",\"#db5763\",\"#db578a\",\"#dbd657\",\"#5798db\",\"#db5777\",\"#57acdb\",\"#57db94\",\"#91db57\",\"#57acdb\",\"#57acdb\",\"#db57da\",\"#db5777\",\"#57dbbb\",\"#57dbbb\",\"#db57c6\",\"#b9db57\",\"#91db57\",\"#db5777\",\"#db9a57\",\"#db57c6\",\"#db578a\",\"#db57c6\",\"#57dbbb\",\"#5798db\",\"#b9db57\",\"#db5777\",\"#6557db\",\"#57dbcf\",\"#6557db\",\"#b9db57\",\"#b557db\",\"#57acdb\",\"#5798db\",\"#69db57\",\"#db5777\",\"#57dbbb\",\"#69db57\",\"#57bfdb\",\"#57db58\",\"#57d3db\",\"#57db58\",\"#57db58\",\"#db5763\",\"#69db57\",\"#57acdb\",\"#57acdb\",\"#db5f57\",\"#db578a\",\"#b9db57\",\"#dbd657\",\"#db5777\",\"#db5777\",\"#dbc257\",\"#69db57\",\"#db5777\",\"#db5777\",\"#57acdb\",\"#57db58\",\"#db8657\",\"#db5763\",\"#db578a\",\"#57dba8\",\"#db5777\",\"#dbc257\",\"#57dbbb\",\"#a5db57\",\"#dbc257\",\"#57db94\",\"#57db80\",\"#db578a\",\"#7957db\",\"#57db58\",\"#57db58\",\"#db8657\",\"#57dbcf\",\"#5770db\",\"#57dbbb\",\"#dbc257\",\"#db578a\",\"#69db57\",\"#dbae57\",\"#a5db57\",\"#db5f57\",\"#db5f57\",\"#5770db\",\"#db5777\",\"#b557db\",\"#db9a57\",\"#db5777\",\"#a5db57\",\"#a5db57\",\"#57db6c\",\"#57dbbb\",\"#91db57\",\"#57db94\",\"#5798db\",\"#b557db\",\"#57db94\",\"#57acdb\",\"#db5763\",\"#6557db\",\"#8d57db\",\"#57d3db\",\"#db578a\",\"#57acdb\",\"#db5777\",\"#db5777\",\"#57acdb\",\"#7ddb57\",\"#db57c6\",\"#57acdb\",\"#91db57\",\"#db5763\",\"#dbd657\",\"#cddb57\",\"#db5777\",\"#db8657\",\"#57db80\",\"#69db57\",\"#69db57\",\"#7ddb57\",\"#57bfdb\",\"#6557db\",\"#69db57\",\"#dbae57\",\"#db5777\",\"#5770db\",\"#dbc257\",\"#6557db\",\"#db57da\",\"#db5777\",\"#57acdb\",\"#91db57\",\"#5770db\",\"#57db58\",\"#b557db\",\"#db578a\",\"#db5777\",\"#57dbcf\",\"#57dbcf\",\"#a5db57\",\"#69db57\",\"#7ddb57\",\"#575cdb\",\"#dbc257\",\"#db57c6\",\"#db57da\",\"#db5777\",\"#db578a\",\"#db57b2\",\"#6557db\",\"#db5777\",\"#a5db57\",\"#57dbcf\",\"#57dbbb\",\"#cddb57\",\"#5798db\",\"#db5777\",\"#57dba8\",\"#69db57\",\"#6557db\",\"#57dba8\",\"#57dbbb\",\"#57d3db\",\"#db5777\",\"#57acdb\",\"#57acdb\",\"#db5777\",\"#dbc257\",\"#5784db\",\"#91db57\",\"#db5777\",\"#57acdb\",\"#57db6c\",\"#db578a\",\"#db578a\",\"#57dbcf\",\"#57dbbb\",\"#57acdb\",\"#dbc257\",\"#db57c6\",\"#91db57\",\"#db5777\",\"#6557db\",\"#db57c6\",\"#db5f57\",\"#6557db\",\"#57dbbb\",\"#57dbbb\",\"#db8657\",\"#57db94\",\"#57dba8\",\"#b9db57\",\"#db57c6\",\"#db5777\",\"#7ddb57\",\"#57db94\",\"#57dbbb\",\"#db5763\",\"#db5777\",\"#69db57\",\"#6557db\",\"#a5db57\",\"#db57da\",\"#db8657\",\"#db8657\",\"#7ddb57\",\"#a5db57\",\"#db57da\",\"#db5777\",\"#57dbbb\",\"#db57da\",\"#7957db\",\"#5770db\",\"#57db58\",\"#6557db\",\"#cddb57\",\"#8d57db\",\"#db5777\",\"#b9db57\",\"#db5777\",\"#db7357\",\"#57db94\",\"#7ddb57\",\"#57dbbb\",\"#57dbcf\",\"#91db57\",\"#dbc257\",\"#db57da\",\"#db578a\",\"#6557db\",\"#6557db\",\"#57dbbb\",\"#8d57db\",\"#db5777\",\"#db7357\",\"#db8657\",\"#db7357\",\"#91db57\",\"#b557db\",\"#db8657\",\"#57acdb\",\"#5770db\",\"#db9a57\",\"#8d57db\",\"#db9a57\",\"#57db58\",\"#91db57\",\"#91db57\",\"#57db58\",\"#db57da\",\"#db5777\",\"#db57c6\",\"#db57da\",\"#5798db\",\"#dbae57\",\"#7957db\",\"#db5777\",\"#db5777\",\"#5798db\",\"#57acdb\",\"#57dbbb\",\"#57db94\",\"#dbae57\",\"#b557db\",\"#6557db\",\"#a157db\",\"#b9db57\",\"#db578a\",\"#db8657\",\"#5798db\",\"#db5777\",\"#db578a\",\"#dbae57\",\"#db9a57\",\"#57dbbb\",\"#57dbbb\",\"#7ddb57\",\"#db5777\",\"#57db58\",\"#a5db57\",\"#69db57\",\"#db57c6\",\"#6557db\",\"#a5db57\",\"#db578a\",\"#57bfdb\",\"#db8657\",\"#db578a\",\"#57db58\",\"#91db57\",\"#7ddb57\",\"#575cdb\",\"#db5f57\",\"#cddb57\",\"#db578a\",\"#57dbcf\",\"#57db6c\",\"#db578a\",\"#db5777\",\"#db57c6\",\"#b557db\",\"#db5777\",\"#6557db\",\"#db57da\",\"#57db58\",\"#6557db\",\"#db5763\",\"#db5777\",\"#db5777\",\"#a5db57\",\"#dbd657\",\"#57acdb\",\"#7ddb57\",\"#db578a\",\"#5770db\",\"#cddb57\",\"#57acdb\",\"#db578a\",\"#db578a\",\"#db8657\",\"#db578a\",\"#db578a\",\"#db578a\",\"#57acdb\",\"#db578a\",\"#7ddb57\",\"#57dbcf\",\"#db5777\",\"#db8657\",\"#57acdb\",\"#db8657\",\"#7ddb57\",\"#91db57\",\"#6557db\",\"#dbc257\",\"#5784db\",\"#db5777\",\"#57db94\",\"#a5db57\",\"#5770db\",\"#5798db\",\"#57db58\",\"#db5777\",\"#5798db\",\"#c957db\",\"#57db94\",\"#57db94\",\"#6557db\",\"#dbc257\",\"#dbd657\",\"#db5763\",\"#a157db\",\"#db579e\",\"#db57da\",\"#cddb57\",\"#a5db57\",\"#6557db\",\"#db5777\",\"#db5777\",\"#cddb57\",\"#db5f57\",\"#db5763\",\"#db5777\",\"#db5777\",\"#db8657\",\"#5770db\",\"#db5777\",\"#575cdb\",\"#5784db\",\"#6557db\",\"#b557db\",\"#6557db\",\"#7ddb57\",\"#b557db\",\"#db578a\",\"#7ddb57\",\"#dbd657\",\"#57db58\",\"#57dbcf\",\"#57dba8\",\"#db5777\",\"#db5777\",\"#db57c6\",\"#57db58\",\"#a5db57\",\"#57db58\",\"#57db58\",\"#b557db\",\"#7957db\",\"#dbae57\",\"#575cdb\",\"#7ddb57\",\"#575cdb\",\"#db57da\",\"#db8657\",\"#db5777\",\"#6557db\",\"#57acdb\",\"#57db58\",\"#db5777\",\"#b9db57\",\"#b557db\",\"#c957db\",\"#6557db\",\"#5798db\",\"#57dbcf\",\"#cddb57\",\"#57dbbb\",\"#8d57db\",\"#8d57db\",\"#a5db57\",\"#57acdb\",\"#57dbcf\",\"#db579e\",\"#db57da\",\"#c957db\",\"#db5763\",\"#dbd657\",\"#57acdb\",\"#5798db\",\"#6557db\",\"#7957db\",\"#57acdb\",\"#db5777\",\"#db9a57\",\"#57acdb\",\"#57db80\",\"#57db94\",\"#7ddb57\",\"#57d3db\",\"#db7357\",\"#db578a\",\"#db57c6\",\"#57dbbb\",\"#57dbbb\",\"#6557db\",\"#db57c6\",\"#db57b2\",\"#db57b2\",\"#5784db\",\"#b557db\",\"#91db57\",\"#db57c6\",\"#db5777\",\"#db578a\",\"#57bfdb\",\"#db8657\",\"#db57da\",\"#db5777\",\"#dbd657\",\"#db57c6\",\"#cddb57\",\"#57db58\",\"#db9a57\",\"#57db80\",\"#57bfdb\",\"#57acdb\",\"#5784db\",\"#57acdb\",\"#db578a\",\"#5798db\",\"#91db57\",\"#dbae57\",\"#57db58\",\"#a157db\",\"#57dbcf\",\"#57db94\",\"#57dbbb\",\"#57db58\",\"#b9db57\",\"#57dbcf\",\"#57db58\",\"#db7357\",\"#db57da\",\"#57dbbb\",\"#dbae57\",\"#b557db\",\"#db57b2\",\"#57dbcf\",\"#db57da\",\"#57db6c\",\"#dbae57\",\"#6557db\",\"#57acdb\",\"#db57c6\",\"#5784db\",\"#7ddb57\",\"#57db80\",\"#5798db\",\"#5798db\",\"#575cdb\",\"#5798db\",\"#6557db\",\"#c957db\",\"#57dbcf\",\"#57dbbb\",\"#a5db57\",\"#5770db\",\"#c957db\",\"#a5db57\",\"#57db58\",\"#db57b2\",\"#7957db\",\"#db57da\",\"#db5777\",\"#91db57\",\"#db5f57\",\"#6557db\",\"#db8657\",\"#db5777\",\"#57acdb\",\"#db8657\",\"#db57da\",\"#db5f57\",\"#6557db\",\"#57dbbb\",\"#db5777\",\"#db57c6\",\"#db57da\",\"#57bfdb\",\"#57db58\",\"#7957db\",\"#57db58\",\"#7957db\",\"#db578a\",\"#91db57\",\"#7957db\",\"#57dbbb\",\"#db5777\",\"#cddb57\",\"#57dbcf\",\"#6557db\",\"#57acdb\",\"#57acdb\",\"#5770db\",\"#db5777\",\"#db57da\",\"#57db58\",\"#7ddb57\",\"#57db58\",\"#dbae57\",\"#57acdb\",\"#57dbbb\",\"#db57da\",\"#57dbbb\",\"#db5763\",\"#6557db\",\"#91db57\",\"#cddb57\",\"#db5777\",\"#57acdb\",\"#db8657\",\"#db5777\",\"#db57da\",\"#db578a\",\"#5798db\",\"#db57c6\",\"#db5763\",\"#db8657\",\"#db5763\",\"#db7357\",\"#57db58\",\"#57d3db\",\"#57db58\",\"#57db58\",\"#db5777\",\"#57db58\",\"#575cdb\",\"#b557db\",\"#57dbbb\",\"#db5777\",\"#6557db\",\"#57dbbb\",\"#db57c6\",\"#57dba8\",\"#db9a57\",\"#57db94\",\"#c957db\",\"#db57da\",\"#db5777\",\"#c957db\",\"#5770db\",\"#57dbcf\",\"#b557db\",\"#db5763\",\"#5770db\",\"#db5777\",\"#57dbcf\",\"#91db57\",\"#b557db\",\"#b557db\",\"#c957db\",\"#db57b2\",\"#57db94\",\"#db5f57\",\"#db57b2\",\"#7957db\",\"#db57da\",\"#a5db57\",\"#7957db\",\"#db57c6\",\"#57acdb\",\"#5798db\",\"#db5777\",\"#dbae57\",\"#57acdb\",\"#db578a\",\"#57acdb\",\"#db578a\",\"#91db57\",\"#db7357\",\"#5770db\",\"#db57b2\",\"#db7357\",\"#c957db\",\"#cddb57\",\"#7957db\",\"#db5777\",\"#db579e\",\"#8d57db\",\"#57acdb\",\"#db5777\",\"#db57da\",\"#57db58\",\"#57dba8\",\"#57db58\",\"#c957db\",\"#c957db\",\"#57dba8\",\"#db5777\",\"#57bfdb\",\"#5770db\",\"#db578a\",\"#57db58\",\"#db57da\",\"#db57da\",\"#57dbbb\",\"#db57da\",\"#b557db\",\"#57db94\",\"#57db94\",\"#5784db\",\"#57dbbb\",\"#57db80\",\"#57db58\",\"#6557db\",\"#57db6c\",\"#57db94\",\"#8d57db\",\"#57db94\",\"#db9a57\",\"#db57c6\",\"#57db58\",\"#57db58\",\"#a5db57\",\"#57db94\",\"#57acdb\",\"#91db57\",\"#b9db57\",\"#db57c6\",\"#57acdb\",\"#6557db\",\"#dbae57\",\"#57dbbb\",\"#69db57\",\"#db5777\",\"#7957db\",\"#db57b2\",\"#7957db\",\"#57db94\",\"#db5f57\",\"#57dbcf\",\"#db7357\",\"#db5777\",\"#dbae57\",\"#5798db\",\"#91db57\",\"#b557db\",\"#6557db\",\"#57dbcf\",\"#dbae57\",\"#db578a\",\"#57bfdb\",\"#b9db57\",\"#db578a\",\"#db578a\",\"#57db94\",\"#57bfdb\",\"#6557db\",\"#7957db\",\"#57db80\",\"#dbc257\",\"#57dbbb\",\"#57dbcf\",\"#dbae57\",\"#57dbbb\",\"#db5777\",\"#57dbcf\",\"#57db58\",\"#db5777\",\"#6557db\",\"#6557db\",\"#57acdb\",\"#db578a\",\"#5784db\",\"#91db57\",\"#575cdb\",\"#db5777\",\"#575cdb\",\"#57db94\",\"#575cdb\",\"#57acdb\",\"#5770db\",\"#db5763\",\"#db5f57\",\"#57dba8\",\"#8d57db\",\"#db57da\",\"#57db58\",\"#5770db\",\"#57dbbb\",\"#db578a\",\"#db57da\",\"#db8657\",\"#57dbcf\",\"#57db94\",\"#5784db\",\"#db7357\",\"#a5db57\",\"#6557db\",\"#db5777\",\"#db5763\",\"#7ddb57\",\"#57acdb\",\"#dbae57\",\"#57dbbb\",\"#57acdb\",\"#db57da\",\"#57acdb\",\"#b9db57\",\"#57d3db\",\"#b9db57\",\"#57db94\",\"#57acdb\",\"#57acdb\",\"#a5db57\",\"#db578a\",\"#c957db\",\"#5798db\",\"#6557db\",\"#6557db\",\"#57acdb\",\"#57acdb\",\"#7ddb57\",\"#db5763\",\"#db57da\",\"#57acdb\",\"#7957db\",\"#57dbbb\",\"#c957db\",\"#db9a57\",\"#57dbcf\",\"#cddb57\",\"#91db57\",\"#57d3db\",\"#6557db\",\"#57dbbb\",\"#db578a\",\"#db5763\",\"#57dba8\",\"#db578a\",\"#db579e\",\"#db57b2\",\"#db57c6\",\"#5798db\",\"#5770db\",\"#7957db\",\"#db57c6\",\"#db578a\",\"#57db94\",\"#69db57\",\"#7957db\",\"#dbc257\",\"#57dbcf\",\"#6557db\",\"#db578a\",\"#a157db\",\"#57dbbb\",\"#57dba8\",\"#57dbcf\",\"#5798db\",\"#6557db\",\"#b557db\",\"#57db58\",\"#7957db\",\"#dbae57\",\"#db578a\",\"#db5777\",\"#db57da\",\"#c957db\",\"#db7357\",\"#7ddb57\",\"#91db57\",\"#57acdb\",\"#b557db\",\"#db57c6\",\"#db5777\",\"#5784db\",\"#57db80\",\"#57dbbb\",\"#db7357\",\"#db57c6\",\"#575cdb\",\"#b557db\",\"#6557db\",\"#57dbbb\",\"#57db58\",\"#db57da\",\"#57db80\",\"#57db94\",\"#db578a\",\"#57db94\",\"#db57c6\",\"#57dbcf\",\"#db5777\",\"#a5db57\",\"#a157db\",\"#db5777\",\"#db5777\",\"#5784db\",\"#db578a\",\"#57dbbb\",\"#dbc257\",\"#b557db\",\"#db5777\",\"#db57c6\",\"#db578a\",\"#57db94\",\"#7957db\",\"#c957db\",\"#db8657\",\"#57db58\",\"#db57da\",\"#dbae57\",\"#a5db57\",\"#db5763\",\"#c957db\",\"#db7357\",\"#8d57db\",\"#dbae57\",\"#57db6c\",\"#dbc257\",\"#57db80\",\"#db578a\",\"#57dba8\",\"#db57c6\",\"#dbc257\",\"#db5777\",\"#91db57\",\"#db578a\",\"#db5777\",\"#db578a\",\"#db578a\",\"#57dbbb\",\"#db578a\",\"#db5f57\",\"#57acdb\",\"#db5777\",\"#db57c6\",\"#57acdb\",\"#dbae57\",\"#57acdb\",\"#db578a\",\"#db57da\",\"#57acdb\",\"#db57c6\",\"#5770db\",\"#57db58\",\"#db57da\",\"#6557db\",\"#57dbbb\",\"#db5777\",\"#db5777\",\"#c957db\",\"#7957db\",\"#57db80\",\"#91db57\",\"#91db57\",\"#5798db\",\"#db578a\",\"#57acdb\",\"#57acdb\",\"#db57da\",\"#db57c6\",\"#dbc257\",\"#57db58\",\"#db5777\",\"#57dba8\",\"#6557db\",\"#57acdb\",\"#db578a\",\"#db5f57\",\"#db5f57\",\"#db5f57\",\"#57dba8\",\"#b557db\",\"#57db80\",\"#57dbbb\",\"#dbae57\",\"#db57da\",\"#db5777\",\"#db57da\",\"#57dbcf\",\"#db5777\",\"#db5777\",\"#57bfdb\"],\"subreddit\":[\"1200isplenty\",\"13ReasonsWhy\",\"2007scape\",\"23andme\",\"2b2t\",\"3Dprinting\",\"3d6\",\"4Runner\",\"90DayFiance\",\"ABDL\",\"ABraThatFits\",\"ACL\",\"ACT\",\"ADHD\",\"AMDHelp\",\"APStudents\",\"ARMS\",\"ASUS\",\"ATT\",\"AcademicPsychology\",\"Accounting\",\"Accutane\",\"AceAttorney\",\"Addons4Kodi\",\"AdobeIllustrator\",\"AdoptMyVillager\",\"Adoption\",\"AirBnB\",\"AirForce\",\"Alienware\",\"Allergies\",\"AlphaBayMarket\",\"AmericanHorrorStory\",\"Anarchism\",\"AndroidAuto\",\"Angular2\",\"Anki\",\"AppleMusic\",\"AppleWatch\",\"Aquariums\",\"ArcherFX\",\"Archery\",\"AsianParentStories\",\"AskAnAmerican\",\"AskAnthropology\",\"AskEconomics\",\"AskFeminists\",\"AskHR\",\"AskHistorians\",\"AskLiteraryStudies\",\"AskPhotography\",\"AskPhysics\",\"AskStatistics\",\"AskVet\",\"AstralProjection\",\"Astronomy\",\"Audi\",\"AutoDetailing\",\"AutoHotkey\",\"AutoModerator\",\"AvPD\",\"Ayahuasca\",\"BABYMETAL\",\"BATProject\",\"BBQ\",\"BDSMcommunity\",\"BMW\",\"BabyBumps\",\"BackYardChickens\",\"Bass\",\"BeardedDragons\",\"Beatmatch\",\"BeautyBoxes\",\"Bedbugs\",\"Beekeeping\",\"Berserk\",\"Bestbuy\",\"BigBrother\",\"BipolarReddit\",\"Bitcoin\",\"Blacksmith\",\"Blind\",\"Blink182\",\"BoJackHorseman\",\"BokuNoHeroAcademia\",\"Bowling\",\"BravoRealHousewives\",\"Breadit\",\"BreakUps\",\"Broadway\",\"Buddhism\",\"C25K\",\"CBD\",\"CFA\",\"CHIBears\",\"CPTSD\",\"CRedit\",\"C_Programming\",\"CampHalfBloodRP\",\"CanadaPublicServants\",\"CaptainTsubasaDT\",\"CastleClash\",\"Celiac\",\"Charity\",\"Chefit\",\"CherokeeXJ\",\"China\",\"ChineseLanguage\",\"Chromecast\",\"Cigarettes\",\"Cisco\",\"ClashOfClans\",\"ClashRoyale\",\"Cloud9\",\"Cloververse\",\"CoDCompetitive\",\"CollegeBasketball\",\"ComicBookCollabs\",\"CompTIA\",\"Conservative\",\"Construction\",\"ContestOfChampions\",\"Corsair\",\"Costco\",\"Cricket\",\"Cruise\",\"CrusaderKings\",\"Crushes\",\"CryptoKitties\",\"Cubers\",\"Cuckold\",\"DBS_CardGame\",\"DBZDokkanBattle\",\"DDLC\",\"DID\",\"DIY\",\"DMT\",\"DanLeBatardShow\",\"DarlingInTheFranxx\",\"Darts\",\"DaveRamsey\",\"DaystromInstitute\",\"DeadBedrooms\",\"Debate\",\"DebateAltRight\",\"DebateCommunism\",\"DebateFascism\",\"Denmark\",\"Dentistry\",\"DestructiveReaders\",\"Diepio\",\"DigimonLinkz\",\"DimensionalJumping\",\"DirecTVNow\",\"Divorce\",\"DkS3Builds\",\"Dofus\",\"Dogtraining\",\"Drama\",\"DreamInterpretation\",\"DunderMifflin\",\"DungeonWorld\",\"EARONS\",\"EASportsUFC\",\"EDM\",\"Egypt\",\"Electroneum\",\"Eminem\",\"Emo\",\"EmulationOnAndroid\",\"EndlessFrontier\",\"Endo\",\"Epilepsy\",\"Equestrian\",\"EternalCardGame\",\"EtherMining\",\"Eve\",\"FancyFollicles\",\"FantasyPL\",\"FargoTV\",\"Fencing\",\"Fibromyalgia\",\"FidgetSpinners\",\"FinalFantasyTCG\",\"FireEmblemHeroes\",\"Firefighting\",\"Fishing\",\"Flipping\",\"FoWtcg\",\"ForeverAlone\",\"FrankOcean\",\"Fraudnet2\",\"French\",\"FuturamaWOTgame\",\"GERD\",\"GMAT\",\"GODZILLA\",\"GalaxyNote8\",\"Gamingcirclejerk\",\"Garmin\",\"GearVR\",\"Geosim\",\"German\",\"Ghostbc\",\"GiIvaSunner\",\"Gifts\",\"GilmoreGirls\",\"GirlsXBattle\",\"Gloomhaven\",\"GodofWar\",\"GolfClash\",\"GolfGTI\",\"GradSchool\",\"Grimdawn\",\"GuildWars\",\"Guitar\",\"GuitarAmps\",\"Gundam\",\"HFY\",\"HIMYM\",\"HVAC\",\"HaloStory\",\"Harley\",\"Herpes\",\"HomeDepot\",\"Honda\",\"HongKong\",\"HotPeppers\",\"HouseOfCards\",\"HowToHack\",\"Huawei\",\"Hue\",\"HunterXHunter\",\"Hunting\",\"HuttsGaming\",\"Hypothyroidism\",\"Hyundai\",\"IASIP\",\"IBO\",\"ICanDrawThat\",\"IKEA\",\"INeedAName\",\"IWantOut\",\"Ice_Poseidon\",\"IdleHeroes\",\"Incels\",\"Indiemakeupandmore\",\"Ingress\",\"InstacartShoppers\",\"Instagram\",\"Insurance\",\"Invisalign\",\"Iota\",\"Israel\",\"JETProgramme\",\"JUSTNOFAMILY\",\"JapanTravel\",\"Jazz\",\"Jokes\",\"Journalism\",\"Judaism\",\"JustUnsubbed\",\"KDRAMA\",\"KGATLW\",\"KHUx\",\"Kaiserreich\",\"Kanye\",\"Kava\",\"Kayaking\",\"KendrickLamar\",\"KeybaseProofs\",\"KikRoleplay\",\"KingdomDeath\",\"KingkillerChronicle\",\"Kings_Raid\",\"KissAnime\",\"Kombucha\",\"Korean\",\"LSAT\",\"LSD\",\"LV426\",\"Landlord\",\"LearnJapanese\",\"Leathercraft\",\"LetItDie\",\"LetsPlayCritiques\",\"Lexus\",\"Libraries\",\"Lightroom\",\"Lineage2Revolution\",\"LinkinPark\",\"Lisk\",\"Logic_301\",\"LogitechG\",\"LongDistance\",\"LoveLive\",\"LoveNikki\",\"LucidDreaming\",\"Luthier\",\"Lyft\",\"MBA\",\"MDMA\",\"MGTOW\",\"MINI\",\"MMA\",\"MSAccess\",\"MSLGame\",\"MTVScream\",\"MachineLearning\",\"Machinists\",\"MaddenMobileForums\",\"Magento\",\"Magic\",\"MaladaptiveDreaming\",\"Malazan\",\"MandelaEffect\",\"Maplestory\",\"Mattress\",\"Mcat\",\"MechanicAdvice\",\"MechanicalKeyboards\",\"Meditation\",\"MemeEconomy\",\"MemoryDefrag\",\"Metalcore\",\"Metallica\",\"Metroid\",\"Miata\",\"Miscarriage\",\"Monero\",\"MonsterHunterWorld\",\"Monstercat\",\"Mortgages\",\"MrRobot\",\"MtvChallenge\",\"MuayThai\",\"MultipleSclerosis\",\"Muse\",\"Mustang\",\"NASCAR\",\"NEO\",\"NHLHUT\",\"NYCjobs\",\"NYKnicks\",\"NameThatSong\",\"Nanny\",\"NarcissisticAbuse\",\"Narcolepsy\",\"Naruto\",\"Nepal\",\"Nerf\",\"Netrunner\",\"NewSkaters\",\"Nioh\",\"Nootropics\",\"Norway\",\"OCD\",\"OCPoetry\",\"OOTP\",\"OSU\",\"OccupationalTherapy\",\"OkCupid\",\"OneNote\",\"OnePiece\",\"OnePunchMan\",\"OpiatesRecovery\",\"Outlier\",\"Outlook\",\"OverwatchHeroConcepts\",\"PCOS\",\"PFSENSE\",\"PHPhelp\",\"PKA\",\"PLC\",\"PPC\",\"Parahumans\",\"Paranormal\",\"PathOfExileBuilds\",\"Pauper\",\"Persona5\",\"Petloss\",\"Philippines\",\"PipeTobacco\",\"PlasticSurgery\",\"Plumbing\",\"PoloniexForum\",\"Porsche\",\"PowerShell\",\"PrettyLittleLiars\",\"Professors\",\"ProtectAndServe\",\"Psoriasis\",\"Psychic\",\"PuzzleAndDragons\",\"RATS\",\"RWBY\",\"Rabbits\",\"RaiBlocks\",\"Rapekink\",\"Re_Zero\",\"RedHotChiliPeppers\",\"RedLetterMedia\",\"RedditLaqueristas\",\"Reformed\",\"Repsneakers\",\"RetroPie\",\"Ripple\",\"RobinHood\",\"Roku\",\"Roll20\",\"RotMG\",\"Rowing\",\"SCCM\",\"SCP\",\"SCREENPRINTING\",\"SQL\",\"SS13\",\"SSBM\",\"SampleSize\",\"Saxophonics\",\"Schizoid\",\"Scotland\",\"Screenwriting\",\"SexToys\",\"SexWorkers\",\"Shadowrun\",\"Shadowverse\",\"Sherlock\",\"ShingekiNoKyojin\",\"Shoplifting\",\"SiegeAcademy\",\"SiliconValleyHBO\",\"Silverbugs\",\"SkincareAddiction\",\"SleepApnea\",\"Sleepparalysis\",\"Snus\",\"SonicTheHedgehog\",\"SonyXperia\",\"SpaceXLounge\",\"Spanish\",\"SquaredCircle\",\"Standup\",\"Staples\",\"StarVStheForcesofEvil\",\"StarWars\",\"StardustCrusaders\",\"Stargate\",\"SteamController\",\"Stellar\",\"Steroidsourcetalk\",\"Stoicism\",\"StopGaming\",\"Stormlight_Archive\",\"StrangerThings\",\"Stretched\",\"StudentLoans\",\"Supernatural\",\"SwagBucks\",\"Swimming\",\"Swingers\",\"TBTIF\",\"TEFL\",\"TOR\",\"TREZOR\",\"TalesFromTheFrontDesk\",\"TalesFromYourServer\",\"TalesofLink\",\"TapTitans2\",\"Target\",\"Tau40K\",\"TaylorSwift\",\"Testosterone\",\"The100\",\"TheAdventureZone\",\"TheDarkTower\",\"TheDearHunter\",\"TheExpanse\",\"TheHandmaidsTale\",\"TheLastAirbender\",\"TheLeftovers\",\"TheOA\",\"TheSimpsons\",\"TheWeeknd\",\"TheWire\",\"TheXanaxCartel\",\"Throwers\",\"TibiaMMO\",\"TokyoGhoul\",\"ToolBand\",\"TowerofGod\",\"TransDIY\",\"Tronix\",\"Truckers\",\"Trucks\",\"TryingForABaby\",\"TsumTsum\",\"Turkey\",\"Twitch\",\"TwoBestFriendsPlay\",\"UFOs\",\"Ubiquiti\",\"Undertale\",\"UnresolvedMysteries\",\"Veterans\",\"VietNam\",\"VisitingIceland\",\"VoiceActing\",\"Volvo\",\"Warmachine\",\"WayfarersPub\",\"WhiteWolfRPG\",\"WildernessBackpacking\",\"Windows10\",\"WoT\",\"Wordpress\",\"WorkOnline\",\"WorldOfWarships\",\"WorldofTanks\",\"WormFanfic\",\"WouldYouRather\",\"WritingPrompts\",\"Xenoblade_Chronicles\",\"Yogscast\",\"Yugioh101\",\"ZReviews\",\"ZeroEscape\",\"ZeroWaste\",\"abortion\",\"acting\",\"actuallesbians\",\"actuary\",\"adderall\",\"adultery\",\"adventuretime\",\"afinil\",\"ageofsigmar\",\"airpods\",\"airsoft\",\"ak47\",\"albiononline\",\"allthingsprotoss\",\"amateur_boxing\",\"amateurradio\",\"amazon\",\"amazonecho\",\"amiibo\",\"amiugly\",\"androiddev\",\"animation\",\"antiMLM\",\"antidepressants\",\"antinatalism\",\"apolloapp\",\"araragi\",\"archeage\",\"architecture\",\"arcticmonkeys\",\"arduino\",\"arenaofvalor\",\"arkhamhorrorlcg\",\"asexuality\",\"askMRP\",\"askanelectrician\",\"askphilosophy\",\"asmr\",\"asoiaf\",\"aspergers\",\"astrology\",\"atheism\",\"audible\",\"avengedsevenfold\",\"aviation\",\"awardtravel\",\"aws\",\"aznidentity\",\"badroommates\",\"baduk\",\"bangtan\",\"barstoolsports\",\"bartenders\",\"bash\",\"bassnectar\",\"battlecats\",\"beards\",\"beatles\",\"beer\",\"belgium\",\"benzodiazepines\",\"beta\",\"bettafish\",\"betterCallSaul\",\"bicycling\",\"bigboobproblems\",\"bigdickproblems\",\"bigseo\",\"billiards\",\"bioinformatics\",\"biology\",\"birthcontrol\",\"bisexual\",\"bitfinex\",\"bjj\",\"blackdesertonline\",\"blackmirror\",\"bladerunner\",\"bleach\",\"blender\",\"bloodborne\",\"bloodbowl\",\"bodyweightfitness\",\"booksuggestions\",\"boostedboards\",\"bootroom\",\"bourbon\",\"boxoffice\",\"brandnew\",\"breastfeeding\",\"brockhampton\",\"buffy\",\"bulletjournal\",\"burstcoin\",\"cad\",\"cade\",\"callofcthulhu\",\"camping\",\"canada\",\"cancer\",\"canon\",\"cardfightvanguard\",\"cardistry\",\"cassetteculture\",\"cats\",\"cemu\",\"cfs\",\"characterdrawing\",\"chastity\",\"chemhelp\",\"chess\",\"chromeos\",\"churning\",\"cinematography\",\"civilengineering\",\"classicalmusic\",\"climbing\",\"clothdiaps\",\"cocaine\",\"cocktails\",\"codes\",\"coins\",\"collapse\",\"conlangs\",\"consulting\",\"cordcutters\",\"cosplay\",\"cripplingalcoholism\",\"criterion\",\"criticalrole\",\"crossdressing\",\"crossfit\",\"crtgaming\",\"cscareerquestions\",\"csshelp\",\"cyanogenmod\",\"danganronpa\",\"dashpay\",\"datarecovery\",\"datascience\",\"dbz\",\"dcss\",\"deathgrips\",\"deathnote\",\"debian\",\"declutter\",\"devops\",\"diabetes\",\"diablo2\",\"discgolf\",\"discordapp\",\"disney\",\"diypedals\",\"django\",\"dji\",\"docker\",\"doctorwho\",\"dogecoin\",\"dotnet\",\"dpdr\",\"dragonage\",\"dresdenfiles\",\"driving\",\"dropship\",\"drumcorps\",\"drums\",\"drunkenpeasants\",\"duelyst\",\"duolingo\",\"dvdcollection\",\"dxm\",\"ecobee\",\"editors\",\"edmproduction\",\"ehlersdanlos\",\"emacs\",\"emetophobia\",\"emojipasta\",\"ems\",\"eos\",\"eroticauthors\",\"eu4\",\"eurovision\",\"evangelion\",\"everquest\",\"excel\",\"fairytail\",\"fakeid\",\"fantasyhockey\",\"fantasywriters\",\"fatestaynight\",\"fatpeoplestories\",\"ferrets\",\"fightsticks\",\"findareddit\",\"fireTV\",\"fitbit\",\"fivenightsatfreddys\",\"flashlight\",\"flatearth\",\"fleshlight\",\"flexibility\",\"footballmanagergames\",\"foreignservice\",\"foreskin_restoration\",\"formula1\",\"fountainpens\",\"fragrance\",\"france\",\"freemasonry\",\"freenas\",\"ftlgame\",\"ftm\",\"funhaus\",\"funkopop\",\"furry\",\"futarp\",\"gamegrumps\",\"gangplankmains\",\"gardening\",\"garlicoin\",\"gaybros\",\"gaypornhunters\",\"genderqueer\",\"geologycareers\",\"germany\",\"getdisciplined\",\"gis\",\"git\",\"godot\",\"gofundme\",\"golang\",\"golf\",\"gorillaz\",\"grammar\",\"grandorder\",\"graphic_design\",\"gratefuldead\",\"gravityfalls\",\"greenday\",\"greysanatomy\",\"gridcoin\",\"guineapigs\",\"h3h3productions\",\"hacker\",\"hamsters\",\"hapas\",\"harrypotter\",\"haskell\",\"hearthstonecirclejerk\",\"hiking\",\"hinduism\",\"hiphopheads\",\"hitmobile\",\"homeassistant\",\"homedefense\",\"homegym\",\"homelab\",\"homeless\",\"homestead\",\"hookah\",\"horizon\",\"horror\",\"howardstern\",\"howyoudoin\",\"htpc\",\"i3wm\",\"iOSBeta\",\"ibs\",\"ifttt\",\"incest\",\"india\",\"indonesia\",\"infertility\",\"insomnia\",\"instantpot\",\"intel\",\"interviews\",\"investing\",\"ireland\",\"islam\",\"italy\",\"jewelry\",\"judo\",\"juul\",\"kindle\",\"knifeclub\",\"korea\",\"kpophelp\",\"kucoin\",\"l5r\",\"lacrosse\",\"lanadelrey\",\"landscaping\",\"lasercutting\",\"lasik\",\"latin\",\"learndota2\",\"learnjava\",\"learnmath\",\"learnpython\",\"lebanon\",\"legaladvice\",\"lego\",\"leopardgeckos\",\"lifeisstrange\",\"lightingdesign\",\"lightsabers\",\"litecoin\",\"littlespace\",\"livesound\",\"lockpicking\",\"logorequests\",\"lost\",\"lotr\",\"lrcast\",\"lucifer\",\"madmen\",\"malaysia\",\"marvelstudios\",\"massage\",\"matlab\",\"mead\",\"mercedes_benz\",\"migraine\",\"minimalism\",\"minipainting\",\"misophonia\",\"mobilelegends\",\"modeltrains\",\"modular\",\"mopeio\",\"msp\",\"mturk\",\"musictheory\",\"mylittlepony\",\"namenerds\",\"nanocurrency\",\"neoliberal\",\"neopets\",\"netneutrality\",\"newzealand\",\"nihilism\",\"nin\",\"northernlion\",\"nosleep\",\"nosurf\",\"notebooks\",\"occult\",\"oculusnsfw\",\"olkb\",\"opieandanthony\",\"optometry\",\"orangeisthenewblack\",\"origin\",\"overlord\",\"paintball\",\"pakistan\",\"parentsofmultiples\",\"parrots\",\"paypal\",\"peacecorps\",\"pesmobile\",\"pettyrevenge\",\"phenibut\",\"phish\",\"photoshop\",\"physicaltherapy\",\"piano\",\"pihole\",\"pinkfloyd\",\"pkmntcg\",\"place\",\"poker\",\"poland\",\"popheads\",\"porterrobinson\",\"postmates\",\"powerrangers\",\"preppers\",\"privacy\",\"projectmanagement\",\"psychotherapy\",\"punk\",\"qotsa\",\"quittingkratom\",\"quotes\",\"radarr\",\"radiohead\",\"rails\",\"raisedbyborderlines\",\"rapecounseling\",\"rawdenim\",\"rccars\",\"readyplayerone\",\"reddCoin\",\"redditdev\",\"resumes\",\"rheumatoid\",\"rickandmorty\",\"riddles\",\"ringdoorbell\",\"riverdale\",\"roadtrip\",\"robotics\",\"rollerblading\",\"rollercoasters\",\"roosterteeth\",\"rstats\",\"rugbyunion\",\"rupaulsdragrace\",\"russia\",\"russian\",\"rust\",\"saab\",\"sailing\",\"sales\",\"samuraijack\",\"savageworlds\",\"schizophrenia\",\"scooters\",\"scuba\",\"secretsanta\",\"securityguards\",\"seduction\",\"seedboxes\",\"selfhosted\",\"sewing\",\"shameless\",\"sharditkeepit\",\"sharepoint\",\"short\",\"shrimptank\",\"shrooms\",\"siacoin\",\"singing\",\"sissyhypno\",\"skiing\",\"slaythespire\",\"sleeptrain\",\"slowcooking\",\"slp\",\"snakes\",\"snowboarding\",\"socialism\",\"socialskills\",\"socialwork\",\"sociopath\",\"solar\",\"sonarr\",\"sousvide\",\"southafrica\",\"southpark\",\"spain\",\"spartanrace\",\"speedrun\",\"splatoon\",\"starbucks\",\"starfinder_rpg\",\"starveio\",\"steinsgate\",\"stepparents\",\"stevenuniverse\",\"stopsmoking\",\"subaru\",\"sugarlifestyleforum\",\"summonerswar\",\"surfing\",\"survivor\",\"sweden\",\"swift\",\"swoleacceptance\",\"swordartonline\",\"synology\",\"tableau\",\"tabletopgamedesign\",\"tacobell\",\"talesfromcallcenters\",\"tall\",\"tarantulas\",\"tarot\",\"tattoo\",\"tax\",\"tdi\",\"tea\",\"teenmom\",\"telescopes\",\"tennis\",\"teslamotors\",\"teslore\",\"tezos\",\"thebachelor\",\"thelastofus\",\"thesopranos\",\"thewalkingdead\",\"tinnitus\",\"transformers\",\"translator\",\"trap\",\"treeofsavior\",\"triathlon\",\"trumpet\",\"turning\",\"twentyonepilots\",\"twinpeaks\",\"uBlockOrigin\",\"ukulele\",\"ultimate\",\"ultrahardcore\",\"ultrawidemasterrace\",\"unRAID\",\"uscg\",\"vaginismus\",\"vainglorygame\",\"valkyrie_en\",\"vandwellers\",\"vba\",\"vegetarian\",\"vergecurrency\",\"vertcoin\",\"vexillology\",\"vikingstv\",\"vinyl\",\"violinist\",\"vmware\",\"volleyball\",\"volt\",\"wacom\",\"walkingwarrobots\",\"watercooling\",\"web_design\",\"weezer\",\"westworld\",\"whatsthatbook\",\"whatstheword\",\"whatsthisworth\",\"wicked_edge\",\"widowers\",\"wine\",\"wls\",\"woodworking\",\"workflow\",\"wownoob\",\"ynab\",\"yoga\",\"yokaiwatch\",\"zelda\",\"zootopia\"],\"x\":{\"__ndarray__\":\"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\",\"dtype\":\"float64\",\"shape\":[1076]},\"y\":{\"__ndarray__\":\"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\",\"dtype\":\"float64\",\"shape\":[1076]}}},\"id\":\"31872345-0fad-40a3-8b9d-f7ad3fe145ab\",\"type\":\"ColumnDataSource\"},{\"attributes\":{},\"id\":\"7811049b-41b9-4324-9c21-87527e74e943\",\"type\":\"BasicTickFormatter\"},{\"attributes\":{\"formatter\":{\"id\":\"cf6a873a-f756-41ec-8a24-b7b8dd2e6e81\",\"type\":\"BasicTickFormatter\"},\"plot\":{\"id\":\"fe18db77-e78c-4398-aa33-9bba05a9f42d\",\"subtype\":\"Figure\",\"type\":\"Plot\"},\"ticker\":{\"id\":\"d5f25ef4-f917-423d-b62d-6489886ec9ea\",\"type\":\"BasicTicker\"}},\"id\":\"d623d6a0-e03f-4ca1-afeb-409ef9a99ef2\",\"type\":\"LinearAxis\"},{\"attributes\":{\"plot\":{\"id\":\"fe18db77-e78c-4398-aa33-9bba05a9f42d\",\"subtype\":\"Figure\",\"type\":\"Plot\"}},\"id\":\"7b480a78-a8e3-446f-a5a8-031f9d607e95\",\"type\":\"PanTool\"},{\"attributes\":{\"callback\":null},\"id\":\"faa1287d-6e88-40ec-9deb-3b643bb9569b\",\"type\":\"DataRange1d\"},{\"attributes\":{\"plot\":{\"id\":\"fe18db77-e78c-4398-aa33-9bba05a9f42d\",\"subtype\":\"Figure\",\"type\":\"Plot\"}},\"id\":\"5029dff5-023e-41eb-8fb8-c63250af9d61\",\"type\":\"WheelZoomTool\"},{\"attributes\":{\"plot\":{\"id\":\"fe18db77-e78c-4398-aa33-9bba05a9f42d\",\"subtype\":\"Figure\",\"type\":\"Plot\"}},\"id\":\"4c7e1b8d-2d9e-4dc8-8dba-e480d202fa3f\",\"type\":\"ResetTool\"},{\"attributes\":{\"data_source\":{\"id\":\"31872345-0fad-40a3-8b9d-f7ad3fe145ab\",\"type\":\"ColumnDataSource\"},\"glyph\":{\"id\":\"60807169-39cf-4f2c-a1a5-c9549091c4bd\",\"type\":\"Circle\"},\"hover_glyph\":null,\"muted_glyph\":null,\"name\":\"train\",\"nonselection_glyph\":{\"id\":\"f05e1883-6d84-4c3a-ad39-c3050edd9693\",\"type\":\"Circle\"},\"selection_glyph\":null},\"id\":\"143513cb-a33f-4c4c-99ee-411037b306fa\",\"type\":\"GlyphRenderer\"},{\"attributes\":{\"fill_alpha\":{\"value\":0.1},\"fill_color\":{\"value\":\"#1f77b4\"},\"line_alpha\":{\"value\":0.1},\"line_color\":{\"value\":\"#1f77b4\"},\"line_width\":{\"value\":0},\"size\":{\"units\":\"screen\",\"value\":10},\"x\":{\"field\":\"x\"},\"y\":{\"field\":\"y\"}},\"id\":\"f05e1883-6d84-4c3a-ad39-c3050edd9693\",\"type\":\"Circle\"},{\"attributes\":{\"fill_alpha\":{\"value\":0.5},\"fill_color\":{\"field\":\"colors\"},\"line_alpha\":{\"value\":0.5},\"line_color\":{\"value\":\"#1f77b4\"},\"line_width\":{\"value\":0},\"size\":{\"units\":\"screen\",\"value\":10},\"x\":{\"field\":\"x\"},\"y\":{\"field\":\"y\"}},\"id\":\"60807169-39cf-4f2c-a1a5-c9549091c4bd\",\"type\":\"Circle\"},{\"attributes\":{},\"id\":\"cf6a873a-f756-41ec-8a24-b7b8dd2e6e81\",\"type\":\"BasicTickFormatter\"},{\"attributes\":{},\"id\":\"cc8456f2-f091-47ec-8179-2caf5008279c\",\"type\":\"ToolEvents\"}],\"root_ids\":[\"fe18db77-e78c-4398-aa33-9bba05a9f42d\"]},\"title\":\"Bokeh Application\",\"version\":\"0.12.5\"}};\n",
       "            var render_items = [{\"docid\":\"83aa85d4-4dec-4dce-8999-095df580f8fa\",\"elementid\":\"9442c3b3-b11f-4222-89e9-78af51756082\",\"modelid\":\"fe18db77-e78c-4398-aa33-9bba05a9f42d\"}];\n",
       "            \n",
       "            Bokeh.embed.embed_items(docs_json, render_items);\n",
       "          };\n",
       "          if (document.readyState != \"loading\") fn();\n",
       "          else document.addEventListener(\"DOMContentLoaded\", fn);\n",
       "        })();\n",
       "\n",
       "      },\n",
       "      function(Bokeh) {\n",
       "      }\n",
       "    ];\n",
       "\n",
       "    function run_inline_js() {\n",
       "      \n",
       "      if ((window.Bokeh !== undefined) || (force === true)) {\n",
       "        for (var i = 0; i < inline_js.length; i++) {\n",
       "          inline_js[i](window.Bokeh);\n",
       "        }if (force === true) {\n",
       "          display_loaded();\n",
       "        }} else if (Date.now() < window._bokeh_timeout) {\n",
       "        setTimeout(run_inline_js, 100);\n",
       "      } else if (!window._bokeh_failed_load) {\n",
       "        console.log(\"Bokeh: BokehJS failed to load within specified timeout.\");\n",
       "        window._bokeh_failed_load = true;\n",
       "      } else if (force !== true) {\n",
       "        var cell = $(document.getElementById(\"9442c3b3-b11f-4222-89e9-78af51756082\")).parents('.cell').data().cell;\n",
       "        cell.output_area.append_execute_result(NB_LOAD_WARNING)\n",
       "      }\n",
       "\n",
       "    }\n",
       "\n",
       "    if (window._bokeh_is_loading === 0) {\n",
       "      console.log(\"Bokeh: BokehJS loaded, going straight to plotting\");\n",
       "      run_inline_js();\n",
       "    } else {\n",
       "      load_libs(js_urls, function() {\n",
       "        console.log(\"Bokeh: BokehJS plotting callback run at\", now());\n",
       "        run_inline_js();\n",
       "      });\n",
       "    }\n",
       "  }(this));\n",
       "</script>"
      ]
     },
     "metadata": {},
     "output_type": "display_data"
    }
   ],
   "source": [
    "from bokeh.io import output_notebook\n",
    "from bokeh.plotting import figure, show, ColumnDataSource\n",
    "from bokeh.models import HoverTool\n",
    "import matplotlib as mpl\n",
    "\n",
    "output_notebook()\n",
    "\n",
    "\n",
    "source_train = ColumnDataSource(\n",
    "        data=dict(\n",
    "            x = tsne_df['x'],\n",
    "            y = tsne_df['y'],\n",
    "            colors = tsne_df['color'],\n",
    "            subreddit= tsne_df['subreddit']\n",
    "        )\n",
    "    )\n",
    "\n",
    "hover_tsne = HoverTool(names=[\"train\"], \n",
    "                       tooltips=[(\"\"\"subreddit\"\"\",\n",
    "                                  \"\"\"<font face=\"Arial\" size=\"3\">@subreddit</font>\"\"\")])\n",
    "tools_tsne = [hover_tsne, 'pan', 'wheel_zoom', 'reset']\n",
    "plot_tsne = figure(plot_width=700, plot_height=500, tools=tools_tsne, title='Subreddits')\n",
    "\n",
    "plot_tsne.circle('x', 'y', size=10, fill_color='colors', \n",
    "                 alpha=0.5, line_width=0, source=source_train, name=\"train\")\n",
    "\n",
    "\n",
    "show(plot_tsne)"
   ]
  },
  {
   "cell_type": "markdown",
   "metadata": {},
   "source": [
    "## <- back to slides "
   ]
  },
  {
   "cell_type": "code",
   "execution_count": null,
   "metadata": {
    "collapsed": true
   },
   "outputs": [],
   "source": []
  },
  {
   "cell_type": "markdown",
   "metadata": {},
   "source": [
    "# macro score"
   ]
  },
  {
   "cell_type": "code",
   "execution_count": 113,
   "metadata": {},
   "outputs": [
    {
     "data": {
      "text/plain": [
       "(0.475125, 0.3379731038454041)"
      ]
     },
     "execution_count": 113,
     "metadata": {},
     "output_type": "execute_result"
    }
   ],
   "source": [
    "from sklearn.metrics import accuracy_score, precision_score\n",
    "import warnings\n",
    "warnings.filterwarnings('ignore')\n",
    "\n",
    "y_val_pred = nb_model.predict(X_val)\n",
    "\n",
    "accuracy = accuracy_score(y_val, y_val_pred)\n",
    "macro_score = precision_score(y_val, y_val_pred, average='macro')\n",
    "\n",
    "accuracy, macro_score"
   ]
  },
  {
   "cell_type": "code",
   "execution_count": 114,
   "metadata": {},
   "outputs": [
    {
     "data": {
      "text/plain": [
       "(0.4437, 0.32089548165500065)"
      ]
     },
     "execution_count": 114,
     "metadata": {},
     "output_type": "execute_result"
    }
   ],
   "source": [
    "from sklearn.metrics import accuracy_score, precision_score\n",
    "import warnings\n",
    "warnings.filterwarnings('ignore')\n",
    "\n",
    "y_test_pred = nb_model.predict(X_test)\n",
    "\n",
    "accuracy = accuracy_score(y_test, y_test_pred)\n",
    "macro_score =  precision_score(y_test, y_test_pred, average='macro')\n",
    "\n",
    "accuracy, macro_score"
   ]
  },
  {
   "cell_type": "markdown",
   "metadata": {},
   "source": [
    "## <- back to slides "
   ]
  },
  {
   "cell_type": "markdown",
   "metadata": {
    "collapsed": true
   },
   "source": [
    "## feature selection"
   ]
  },
  {
   "cell_type": "code",
   "execution_count": 115,
   "metadata": {},
   "outputs": [
    {
     "name": "stdout",
     "output_type": "stream",
     "text": [
      "fitting vectorizer...\n"
     ]
    }
   ],
   "source": [
    "from sklearn.feature_extraction.text import CountVectorizer, TfidfVectorizer\n",
    "\n",
    "print('fitting vectorizer...')\n",
    "\n",
    "vectorizer_v2 = CountVectorizer(max_features = 10000,\n",
    "                                min_df=5,\n",
    "                                ngram_range=(1,2),\n",
    "                                stop_words='english',\n",
    "                                token_pattern='(?u)\\\\b\\\\w+\\\\b',\n",
    "                            )\n",
    "\n",
    "X_train_v2 = vectorizer_v2.fit_transform(X_train_)  ## will take ages\n"
   ]
  },
  {
   "cell_type": "code",
   "execution_count": null,
   "metadata": {
    "collapsed": true
   },
   "outputs": [],
   "source": []
  },
  {
   "cell_type": "code",
   "execution_count": 117,
   "metadata": {},
   "outputs": [
    {
     "data": {
      "text/plain": [
       "SelectKBest(k=5000, score_func=<function chi2 at 0x14be69c80>)"
      ]
     },
     "execution_count": 117,
     "metadata": {},
     "output_type": "execute_result"
    }
   ],
   "source": [
    "from sklearn.feature_selection import chi2, SelectKBest\n",
    "\n",
    "max_features  = 5000\n",
    "chi2_selector = SelectKBest(chi2, max_features)\n",
    "\n",
    "chi2_selector.fit(X_train_v2, y_train)"
   ]
  },
  {
   "cell_type": "code",
   "execution_count": 118,
   "metadata": {},
   "outputs": [],
   "source": [
    "import warnings\n",
    "warnings.filterwarnings('ignore')\n",
    "\n",
    "X_train_v2 = chi2_selector.transform(X_train_v2)"
   ]
  },
  {
   "cell_type": "code",
   "execution_count": null,
   "metadata": {
    "collapsed": true
   },
   "outputs": [],
   "source": []
  },
  {
   "cell_type": "code",
   "execution_count": 120,
   "metadata": {},
   "outputs": [
    {
     "data": {
      "text/plain": [
       "MultinomialNB(alpha=0.1, class_prior=None, fit_prior=True)"
      ]
     },
     "execution_count": 120,
     "metadata": {},
     "output_type": "execute_result"
    }
   ],
   "source": [
    "from sklearn.naive_bayes import MultinomialNB\n",
    "import warnings\n",
    "warnings.filterwarnings('ignore')\n",
    "\n",
    "nb_model = MultinomialNB(alpha=0.1)\n",
    "nb_model.fit(X_train_v2, y_train)"
   ]
  },
  {
   "cell_type": "code",
   "execution_count": 122,
   "metadata": {},
   "outputs": [],
   "source": [
    "import warnings\n",
    "warnings.filterwarnings('ignore')\n",
    "\n",
    "X_val_v2  =  chi2_selector.transform(vectorizer_v2.transform(X_val_))\n",
    "X_test_v2 =  chi2_selector.transform(vectorizer_v2.transform(X_test_))"
   ]
  },
  {
   "cell_type": "code",
   "execution_count": 123,
   "metadata": {},
   "outputs": [
    {
     "name": "stdout",
     "output_type": "stream",
     "text": [
      "validation set scores 0.53875 0.4165303277780988\n"
     ]
    }
   ],
   "source": [
    "from sklearn.metrics import accuracy_score, precision_score\n",
    "\n",
    "y_val_pred = nb_model.predict(X_val_v2)\n",
    "\n",
    "accuracy = accuracy_score(y_val, y_val_pred)\n",
    "macro_score = precision_score(y_val, y_val_pred, average='macro')\n",
    "\n",
    "print('validation set scores', accuracy, macro_score)"
   ]
  },
  {
   "cell_type": "code",
   "execution_count": 124,
   "metadata": {},
   "outputs": [
    {
     "name": "stdout",
     "output_type": "stream",
     "text": [
      "test set scores 0.5028 0.3832956201883086\n"
     ]
    }
   ],
   "source": [
    "from sklearn.metrics import accuracy_score, precision_score\n",
    "\n",
    "y_test_pred = nb_model.predict(X_test_v2)\n",
    "\n",
    "accuracy = accuracy_score(y_test, y_test_pred)\n",
    "macro_score = precision_score(y_test, y_test_pred, average='macro')\n",
    "\n",
    "print('test set scores', accuracy, macro_score)"
   ]
  },
  {
   "cell_type": "markdown",
   "metadata": {},
   "source": [
    "## vanilla fasttext model (GOTO full notebook)"
   ]
  },
  {
   "cell_type": "code",
   "execution_count": 26,
   "metadata": {},
   "outputs": [
    {
     "name": "stderr",
     "output_type": "stream",
     "text": [
      "/home/mike/.conda/envs/work/lib/python3.6/site-packages/h5py/__init__.py:34: FutureWarning: Conversion of the second argument of issubdtype from `float` to `np.floating` is deprecated. In future, it will be treated as `np.float64 == np.dtype(float).type`.\n",
      "  from ._conv import register_converters as _register_converters\n",
      "Using TensorFlow backend.\n"
     ]
    }
   ],
   "source": [
    "import scipy.sparse\n",
    "from keras.preprocessing import sequence\n",
    "from keras.layers import (GlobalAveragePooling1D, Embedding, Dropout, Input, Dense,\n",
    "                          concatenate, BatchNormalization, \n",
    "                          )\n",
    "from keras.models import Model\n",
    "\n",
    "def convert_sparse_matrix_for_fasttext(sparse_matrix):\n",
    "    idx_array = [list() for _ in range(sparse_matrix.shape[0])]\n",
    "    for row, col, val in zip(*scipy.sparse.find(sparse_matrix)):\n",
    "        idx_array[row] += [col] * 1  # val\n",
    "    X = sequence.pad_sequences(idx_array, maxlen=349, padding='post', truncating='post')\n",
    "    return X\n",
    "    \n",
    "X_train_ft = convert_sparse_matrix_for_fasttext(X_train_v2)\n",
    "X_val_ft   = convert_sparse_matrix_for_fasttext(X_val_v2)\n",
    "X_test_ft  = convert_sparse_matrix_for_fasttext(X_test_v2)\n",
    "\n",
    "\n",
    "DROPOUT_RATE = 0.3\n",
    "INPUT_LENGTH = 349\n",
    "EMBEDDING_DIM = 100\n",
    "MAX_FEATURES = 30000\n",
    "num_classes = len(set(y_all))\n",
    "\n",
    "nb_values = MAX_FEATURES + 2\n",
    "\n",
    "input_ = Input(shape=(INPUT_LENGTH,))\n",
    "embedding_module = Embedding(nb_values, EMBEDDING_DIM, input_length=INPUT_LENGTH)(input_)\n",
    "\n",
    "module = GlobalAveragePooling1D()(embedding_module)\n",
    "module = BatchNormalization()(module)\n",
    "module = Dropout(rate=DROPOUT_RATE)(module)\n",
    "module = Dense(EMBEDDING_DIM, activation='relu')(module)\n",
    "module = BatchNormalization()(module)\n",
    "module = Dropout(rate=DROPOUT_RATE)(module)\n",
    "\n",
    "prediction = Dense(num_classes, activation='softmax')(module)\n",
    "fasttext_model = Model(inputs=input_, outputs=prediction)\n",
    "fasttext_model.compile(loss='sparse_categorical_crossentropy', optimizer='adam', metrics=['accuracy'])\n",
    "\n",
    "fasttext_model.fit(X_train_ft, y_train, epochs = 3, validation_split=0.1)"
   ]
  },
  {
   "cell_type": "code",
   "execution_count": 39,
   "metadata": {
    "collapsed": true
   },
   "outputs": [],
   "source": [
    "fasttext_model.save('fasttext_model.keras')"
   ]
  },
  {
   "cell_type": "code",
   "execution_count": 34,
   "metadata": {},
   "outputs": [
    {
     "name": "stderr",
     "output_type": "stream",
     "text": [
      "/home/mike/.conda/envs/work/lib/python3.6/site-packages/sklearn/metrics/classification.py:1135: UndefinedMetricWarning: F-score is ill-defined and being set to 0.0 in labels with no predicted samples.\n",
      "  'precision', 'predicted', average, warn_for)\n"
     ]
    },
    {
     "data": {
      "text/plain": [
       "(0.24251, 0.6983652224814777)"
      ]
     },
     "execution_count": 34,
     "metadata": {},
     "output_type": "execute_result"
    }
   ],
   "source": [
    "TO_TAKE = 100000\n",
    "\n",
    "y_val_pred_proba = fasttext_model.predict(X_val_ft[:TO_TAKE])\n",
    "\n",
    "y_val_pred = y_val_pred_proba.argmax(axis=1)\n",
    "\n",
    "accuracy = np.mean(y_val_pred == y_val[:TO_TAKE])\n",
    "macro_f1 = f1_score(y_val[:TO_TAKE], y_val_pred, average='macro')\n",
    "\n",
    "accuracy, macro_f1"
   ]
  },
  {
   "cell_type": "code",
   "execution_count": 36,
   "metadata": {},
   "outputs": [
    {
     "name": "stderr",
     "output_type": "stream",
     "text": [
      "/home/mike/.conda/envs/work/lib/python3.6/site-packages/sklearn/metrics/classification.py:1135: UndefinedMetricWarning: F-score is ill-defined and being set to 0.0 in labels with no predicted samples.\n",
      "  'precision', 'predicted', average, warn_for)\n",
      "/home/mike/.conda/envs/work/lib/python3.6/site-packages/sklearn/metrics/classification.py:1137: UndefinedMetricWarning: F-score is ill-defined and being set to 0.0 in labels with no true samples.\n",
      "  'recall', 'true', average, warn_for)\n"
     ]
    },
    {
     "data": {
      "text/plain": [
       "(0.27303, 0.6663239517686133)"
      ]
     },
     "execution_count": 36,
     "metadata": {},
     "output_type": "execute_result"
    }
   ],
   "source": [
    "TO_TAKE = 100000\n",
    "\n",
    "y_test_pred_proba = fasttext_model.predict(X_test_ft[:TO_TAKE])\n",
    "y_test_pred = y_test_pred_proba.argmax(axis=1)\n",
    "error_rate = 1 - np.mean(y_test_pred == y_test[:TO_TAKE])\n",
    "macro_f1 = f1_score(y_test[:TO_TAKE], y_test_pred, average='macro')\n",
    "accuracy, macro_f1"
   ]
  },
  {
   "cell_type": "markdown",
   "metadata": {},
   "source": [
    "## prior reweight"
   ]
  },
  {
   "cell_type": "code",
   "execution_count": 37,
   "metadata": {},
   "outputs": [
    {
     "name": "stderr",
     "output_type": "stream",
     "text": [
      "/home/mike/.conda/envs/work/lib/python3.6/site-packages/ipykernel_launcher.py:18: RuntimeWarning: divide by zero encountered in true_divide\n"
     ]
    },
    {
     "data": {
      "text/plain": [
       "array([1.62783576, 0.94601482, 0.88617186, ..., 1.68028567, 0.89205778,\n",
       "       1.09274584])"
      ]
     },
     "execution_count": 37,
     "metadata": {},
     "output_type": "execute_result"
    }
   ],
   "source": [
    "ctr = Counter(y_train)\n",
    "\n",
    "current_prior = [ctr[i] for i in range(num_classes)]\n",
    "current_prior =np.array([y /  len(y_train) for y in current_prior])\n",
    "\n",
    "ctr = Counter(y_test)\n",
    "\n",
    "target_prior = [ctr[i] for i in range(num_classes)]\n",
    "target_prior = np.array([y /  len(y_test) for y in target_prior])\n",
    "target_prior\n",
    "\n",
    "oversample_arr = target_prior / current_prior\n",
    "oversample_arr = np.clip(oversample_arr, 0.01, 100)\n",
    "oversample_arr"
   ]
  },
  {
   "cell_type": "code",
   "execution_count": 38,
   "metadata": {},
   "outputs": [
    {
     "name": "stderr",
     "output_type": "stream",
     "text": [
      "/home/mike/.conda/envs/work/lib/python3.6/site-packages/sklearn/metrics/classification.py:1135: UndefinedMetricWarning: F-score is ill-defined and being set to 0.0 in labels with no predicted samples.\n",
      "  'precision', 'predicted', average, warn_for)\n",
      "/home/mike/.conda/envs/work/lib/python3.6/site-packages/sklearn/metrics/classification.py:1137: UndefinedMetricWarning: F-score is ill-defined and being set to 0.0 in labels with no true samples.\n",
      "  'recall', 'true', average, warn_for)\n"
     ]
    },
    {
     "data": {
      "text/plain": [
       "(0.26083999999999996, 0.6818353919370107)"
      ]
     },
     "execution_count": 38,
     "metadata": {},
     "output_type": "execute_result"
    }
   ],
   "source": [
    "TO_TAKE = 100000\n",
    "\n",
    "y_test_pred_proba = fasttext_model.predict(X_test_ft[:TO_TAKE])\n",
    "\n",
    "y_test_pred_proba *= oversample_arr\n",
    "\n",
    "y_test_pred = y_test_pred_proba.argmax(axis=1)\n",
    "\n",
    "error_rate = 1 - np.mean(y_test_pred == y_test[:TO_TAKE])\n",
    "macro_f1 = f1_score(y_test[:TO_TAKE], y_test_pred, average='macro')\n",
    "\n",
    "error_rate, macro_f1"
   ]
  }
 ],
 "metadata": {
  "kernelspec": {
   "display_name": "Python 3",
   "language": "python",
   "name": "python3"
  },
  "language_info": {
   "codemirror_mode": {
    "name": "ipython",
    "version": 3
   },
   "file_extension": ".py",
   "mimetype": "text/x-python",
   "name": "python",
   "nbconvert_exporter": "python",
   "pygments_lexer": "ipython3",
   "version": "3.6.1"
  }
 },
 "nbformat": 4,
 "nbformat_minor": 2
}
